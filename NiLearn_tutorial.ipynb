{
  "nbformat": 4,
  "nbformat_minor": 0,
  "metadata": {
    "colab": {
      "name": "NiLearn_tutorial.ipynb",
      "provenance": [],
      "collapsed_sections": []
    },
    "kernelspec": {
      "name": "python3",
      "display_name": "Python 3"
    },
    "accelerator": "GPU"
  },
  "cells": [
    {
      "cell_type": "code",
      "metadata": {
        "colab": {
          "base_uri": "https://localhost:8080/"
        },
        "id": "-kzkgLyHSU2k",
        "outputId": "274b4340-69f4-4172-89ad-12648031c6c3"
      },
      "source": [
        "from google.colab import drive\n",
        "drive.mount('/content/drive/')"
      ],
      "execution_count": 2,
      "outputs": [
        {
          "output_type": "stream",
          "text": [
            "Mounted at /content/drive/\n"
          ],
          "name": "stdout"
        }
      ]
    },
    {
      "cell_type": "code",
      "metadata": {
        "colab": {
          "base_uri": "https://localhost:8080/"
        },
        "id": "mN09rNZYSi46",
        "outputId": "ad109c1a-52f9-4a47-c2a7-419fcabe2b5c"
      },
      "source": [
        "cd '/content/drive/My Drive'"
      ],
      "execution_count": 3,
      "outputs": [
        {
          "output_type": "stream",
          "text": [
            "/content/drive/My Drive\n"
          ],
          "name": "stdout"
        }
      ]
    },
    {
      "cell_type": "code",
      "metadata": {
        "colab": {
          "base_uri": "https://localhost:8080/"
        },
        "id": "RwAVIChFSwPB",
        "outputId": "1ee1495f-e314-4c36-dba0-8a73c2edaea3"
      },
      "source": [
        "ls"
      ],
      "execution_count": 1,
      "outputs": [
        {
          "output_type": "stream",
          "text": [
            "\u001b[0m\u001b[01;34msample_data\u001b[0m/\n"
          ],
          "name": "stdout"
        }
      ]
    },
    {
      "cell_type": "code",
      "metadata": {
        "colab": {
          "base_uri": "https://localhost:8080/"
        },
        "id": "Xn6aGU3eSyib",
        "outputId": "9c47f69d-8647-4307-cb49-9439cc2e5ee9"
      },
      "source": [
        "!pip install nilearn"
      ],
      "execution_count": 2,
      "outputs": [
        {
          "output_type": "stream",
          "text": [
            "Collecting nilearn\n",
            "\u001b[?25l  Downloading https://files.pythonhosted.org/packages/e8/e7/59fcd3501f47b7a661a69e15ef417463fbc88dd334d9af2d9d6685710038/nilearn-0.7.0-py3-none-any.whl (3.0MB)\n",
            "\u001b[K     |████████████████████████████████| 3.0MB 23.5MB/s \n",
            "\u001b[?25hRequirement already satisfied: requests>=2 in /usr/local/lib/python3.6/dist-packages (from nilearn) (2.23.0)\n",
            "Requirement already satisfied: numpy>=1.11 in /usr/local/lib/python3.6/dist-packages (from nilearn) (1.18.5)\n",
            "Requirement already satisfied: joblib>=0.12 in /usr/local/lib/python3.6/dist-packages (from nilearn) (0.17.0)\n",
            "Requirement already satisfied: scipy>=0.19 in /usr/local/lib/python3.6/dist-packages (from nilearn) (1.4.1)\n",
            "Requirement already satisfied: pandas>=0.18.0 in /usr/local/lib/python3.6/dist-packages (from nilearn) (1.1.4)\n",
            "Requirement already satisfied: scikit-learn>=0.19 in /usr/local/lib/python3.6/dist-packages (from nilearn) (0.22.2.post1)\n",
            "Requirement already satisfied: nibabel>=2.0.2 in /usr/local/lib/python3.6/dist-packages (from nilearn) (3.0.2)\n",
            "Requirement already satisfied: urllib3!=1.25.0,!=1.25.1,<1.26,>=1.21.1 in /usr/local/lib/python3.6/dist-packages (from requests>=2->nilearn) (1.24.3)\n",
            "Requirement already satisfied: idna<3,>=2.5 in /usr/local/lib/python3.6/dist-packages (from requests>=2->nilearn) (2.10)\n",
            "Requirement already satisfied: chardet<4,>=3.0.2 in /usr/local/lib/python3.6/dist-packages (from requests>=2->nilearn) (3.0.4)\n",
            "Requirement already satisfied: certifi>=2017.4.17 in /usr/local/lib/python3.6/dist-packages (from requests>=2->nilearn) (2020.11.8)\n",
            "Requirement already satisfied: pytz>=2017.2 in /usr/local/lib/python3.6/dist-packages (from pandas>=0.18.0->nilearn) (2018.9)\n",
            "Requirement already satisfied: python-dateutil>=2.7.3 in /usr/local/lib/python3.6/dist-packages (from pandas>=0.18.0->nilearn) (2.8.1)\n",
            "Requirement already satisfied: six>=1.5 in /usr/local/lib/python3.6/dist-packages (from python-dateutil>=2.7.3->pandas>=0.18.0->nilearn) (1.15.0)\n",
            "Installing collected packages: nilearn\n",
            "Successfully installed nilearn-0.7.0\n"
          ],
          "name": "stdout"
        }
      ]
    },
    {
      "cell_type": "code",
      "metadata": {
        "id": "ZlgKfrVkS7Nq"
      },
      "source": [
        "import nilearn\n",
        "import numpy as np\n",
        "import matplotlib.pyplot as plt\n",
        "import sklearn\n",
        "\n",
        "%matplotlib inline\n",
        "from nilearn import datasets, connectome, plotting, input_data"
      ],
      "execution_count": 3,
      "outputs": []
    },
    {
      "cell_type": "code",
      "metadata": {
        "colab": {
          "base_uri": "https://localhost:8080/"
        },
        "id": "0-uttsqJS79J",
        "outputId": "9999850e-7ef7-4d9c-a4d9-cbc835560de7"
      },
      "source": [
        "abide = nilearn.datasets.fetch_abide_pcp(derivatives=['func_preproc', 'rois_aal'], SITE_ID=['NYU'])"
      ],
      "execution_count": 6,
      "outputs": [
        {
          "output_type": "stream",
          "text": [
            "\n",
            "Dataset created in /root/nilearn_data/ABIDE_pcp\n",
            "\n",
            "Downloading data from https://s3.amazonaws.com/fcp-indi/data/Projects/ABIDE_Initiative/Phenotypic_V1_0b_preprocessed1.csv ...\n"
          ],
          "name": "stdout"
        },
        {
          "output_type": "stream",
          "text": [
            " ...done. (0 seconds, 0 min)\n",
            "/usr/local/lib/python3.6/dist-packages/numpy/lib/npyio.py:2372: VisibleDeprecationWarning: Reading unicode strings without specifying the encoding argument is deprecated. Set the encoding, use None for the system default.\n",
            "  output = genfromtxt(fname, **kwargs)\n"
          ],
          "name": "stderr"
        },
        {
          "output_type": "stream",
          "text": [
            "Downloading data from https://s3.amazonaws.com/fcp-indi/data/Projects/ABIDE_Initiative/Outputs/cpac/nofilt_noglobal/func_preproc/NYU_0050952_func_preproc.nii.gz ...\n"
          ],
          "name": "stdout"
        },
        {
          "output_type": "stream",
          "text": [
            "Downloaded 106471424 of 107440893 bytes (99.1%,    0.0s remaining) ...done. (3 seconds, 0 min)\n"
          ],
          "name": "stderr"
        },
        {
          "output_type": "stream",
          "text": [
            "Downloading data from https://s3.amazonaws.com/fcp-indi/data/Projects/ABIDE_Initiative/Outputs/cpac/nofilt_noglobal/func_preproc/NYU_0050954_func_preproc.nii.gz ...\n"
          ],
          "name": "stdout"
        },
        {
          "output_type": "stream",
          "text": [
            "Downloaded 71262208 of 96773241 bytes (73.6%,    0.7s remaining) ...done. (3 seconds, 0 min)\n"
          ],
          "name": "stderr"
        },
        {
          "output_type": "stream",
          "text": [
            "Downloading data from https://s3.amazonaws.com/fcp-indi/data/Projects/ABIDE_Initiative/Outputs/cpac/nofilt_noglobal/func_preproc/NYU_0050955_func_preproc.nii.gz ...\n"
          ],
          "name": "stdout"
        },
        {
          "output_type": "stream",
          "text": [
            "Downloaded 86073344 of 103892284 bytes (82.8%,    0.4s remaining) ...done. (3 seconds, 0 min)\n"
          ],
          "name": "stderr"
        },
        {
          "output_type": "stream",
          "text": [
            "Downloading data from https://s3.amazonaws.com/fcp-indi/data/Projects/ABIDE_Initiative/Outputs/cpac/nofilt_noglobal/func_preproc/NYU_0050956_func_preproc.nii.gz ...\n"
          ],
          "name": "stdout"
        },
        {
          "output_type": "stream",
          "text": [
            "Downloaded 103923712 of 105458974 bytes (98.5%,    0.0s remaining) ...done. (3 seconds, 0 min)\n"
          ],
          "name": "stderr"
        },
        {
          "output_type": "stream",
          "text": [
            "Downloading data from https://s3.amazonaws.com/fcp-indi/data/Projects/ABIDE_Initiative/Outputs/cpac/nofilt_noglobal/func_preproc/NYU_0050957_func_preproc.nii.gz ...\n"
          ],
          "name": "stdout"
        },
        {
          "output_type": "stream",
          "text": [
            "\rDownloaded 56967168 of 98717272 bytes (57.7%,    0.8s remaining) ...done. (2 seconds, 0 min)\n"
          ],
          "name": "stderr"
        },
        {
          "output_type": "stream",
          "text": [
            "Downloading data from https://s3.amazonaws.com/fcp-indi/data/Projects/ABIDE_Initiative/Outputs/cpac/nofilt_noglobal/func_preproc/NYU_0050958_func_preproc.nii.gz ...\n"
          ],
          "name": "stdout"
        },
        {
          "output_type": "stream",
          "text": [
            "Downloaded 92266496 of 105931244 bytes (87.1%,    0.3s remaining) ...done. (3 seconds, 0 min)\n"
          ],
          "name": "stderr"
        },
        {
          "output_type": "stream",
          "text": [
            "Downloading data from https://s3.amazonaws.com/fcp-indi/data/Projects/ABIDE_Initiative/Outputs/cpac/nofilt_noglobal/func_preproc/NYU_0050959_func_preproc.nii.gz ...\n"
          ],
          "name": "stdout"
        },
        {
          "output_type": "stream",
          "text": [
            "Downloaded 86073344 of 95771925 bytes (89.9%,    0.2s remaining) ...done. (2 seconds, 0 min)\n"
          ],
          "name": "stderr"
        },
        {
          "output_type": "stream",
          "text": [
            "Downloading data from https://s3.amazonaws.com/fcp-indi/data/Projects/ABIDE_Initiative/Outputs/cpac/nofilt_noglobal/func_preproc/NYU_0050960_func_preproc.nii.gz ...\n"
          ],
          "name": "stdout"
        },
        {
          "output_type": "stream",
          "text": [
            "Downloaded 90513408 of 96607773 bytes (93.7%,    0.2s remaining) ...done. (4 seconds, 0 min)\n"
          ],
          "name": "stderr"
        },
        {
          "output_type": "stream",
          "text": [
            "Downloading data from https://s3.amazonaws.com/fcp-indi/data/Projects/ABIDE_Initiative/Outputs/cpac/nofilt_noglobal/func_preproc/NYU_0050961_func_preproc.nii.gz ...\n"
          ],
          "name": "stdout"
        },
        {
          "output_type": "stream",
          "text": [
            "Downloaded 96714752 of 105186257 bytes (91.9%,    0.3s remaining) ...done. (3 seconds, 0 min)\n"
          ],
          "name": "stderr"
        },
        {
          "output_type": "stream",
          "text": [
            "Downloading data from https://s3.amazonaws.com/fcp-indi/data/Projects/ABIDE_Initiative/Outputs/cpac/nofilt_noglobal/func_preproc/NYU_0050962_func_preproc.nii.gz ...\n"
          ],
          "name": "stdout"
        },
        {
          "output_type": "stream",
          "text": [
            "Downloaded 87408640 of 103362339 bytes (84.6%,    0.4s remaining) ...done. (3 seconds, 0 min)\n"
          ],
          "name": "stderr"
        },
        {
          "output_type": "stream",
          "text": [
            "Downloading data from https://s3.amazonaws.com/fcp-indi/data/Projects/ABIDE_Initiative/Outputs/cpac/nofilt_noglobal/func_preproc/NYU_0050964_func_preproc.nii.gz ...\n"
          ],
          "name": "stdout"
        },
        {
          "output_type": "stream",
          "text": [
            "Downloaded 83394560 of 109605737 bytes (76.1%,    0.7s remaining) ...done. (3 seconds, 0 min)\n"
          ],
          "name": "stderr"
        },
        {
          "output_type": "stream",
          "text": [
            "Downloading data from https://s3.amazonaws.com/fcp-indi/data/Projects/ABIDE_Initiative/Outputs/cpac/nofilt_noglobal/func_preproc/NYU_0050965_func_preproc.nii.gz ...\n"
          ],
          "name": "stdout"
        },
        {
          "output_type": "stream",
          "text": [
            "Downloaded 95059968 of 104647236 bytes (90.8%,    0.3s remaining) ...done. (3 seconds, 0 min)\n"
          ],
          "name": "stderr"
        },
        {
          "output_type": "stream",
          "text": [
            "Downloading data from https://s3.amazonaws.com/fcp-indi/data/Projects/ABIDE_Initiative/Outputs/cpac/nofilt_noglobal/func_preproc/NYU_0050966_func_preproc.nii.gz ...\n"
          ],
          "name": "stdout"
        },
        {
          "output_type": "stream",
          "text": [
            "Downloaded 92086272 of 98072048 bytes (93.9%,    0.1s remaining) ...done. (3 seconds, 0 min)\n"
          ],
          "name": "stderr"
        },
        {
          "output_type": "stream",
          "text": [
            "Downloading data from https://s3.amazonaws.com/fcp-indi/data/Projects/ABIDE_Initiative/Outputs/cpac/nofilt_noglobal/func_preproc/NYU_0050967_func_preproc.nii.gz ...\n"
          ],
          "name": "stdout"
        },
        {
          "output_type": "stream",
          "text": [
            "Downloaded 78217216 of 109552006 bytes (71.4%,    0.8s remaining) ...done. (3 seconds, 0 min)\n"
          ],
          "name": "stderr"
        },
        {
          "output_type": "stream",
          "text": [
            "Downloading data from https://s3.amazonaws.com/fcp-indi/data/Projects/ABIDE_Initiative/Outputs/cpac/nofilt_noglobal/func_preproc/NYU_0050968_func_preproc.nii.gz ...\n"
          ],
          "name": "stdout"
        },
        {
          "output_type": "stream",
          "text": [
            "Downloaded 75489280 of 105973750 bytes (71.2%,    0.8s remaining) ...done. (3 seconds, 0 min)\n"
          ],
          "name": "stderr"
        },
        {
          "output_type": "stream",
          "text": [
            "Downloading data from https://s3.amazonaws.com/fcp-indi/data/Projects/ABIDE_Initiative/Outputs/cpac/nofilt_noglobal/func_preproc/NYU_0050969_func_preproc.nii.gz ...\n"
          ],
          "name": "stdout"
        },
        {
          "output_type": "stream",
          "text": [
            "Downloaded 102088704 of 108748418 bytes (93.9%,    0.2s remaining) ...done. (3 seconds, 0 min)\n"
          ],
          "name": "stderr"
        },
        {
          "output_type": "stream",
          "text": [
            "Downloading data from https://s3.amazonaws.com/fcp-indi/data/Projects/ABIDE_Initiative/Outputs/cpac/nofilt_noglobal/func_preproc/NYU_0050970_func_preproc.nii.gz ...\n"
          ],
          "name": "stdout"
        },
        {
          "output_type": "stream",
          "text": [
            "Downloaded 103505920 of 108357685 bytes (95.5%,    0.1s remaining) ...done. (3 seconds, 0 min)\n"
          ],
          "name": "stderr"
        },
        {
          "output_type": "stream",
          "text": [
            "Downloading data from https://s3.amazonaws.com/fcp-indi/data/Projects/ABIDE_Initiative/Outputs/cpac/nofilt_noglobal/func_preproc/NYU_0050972_func_preproc.nii.gz ...\n"
          ],
          "name": "stdout"
        },
        {
          "output_type": "stream",
          "text": [
            "Downloaded 65355776 of 98718439 bytes (66.2%,    1.0s remaining) ...done. (3 seconds, 0 min)\n"
          ],
          "name": "stderr"
        },
        {
          "output_type": "stream",
          "text": [
            "Downloading data from https://s3.amazonaws.com/fcp-indi/data/Projects/ABIDE_Initiative/Outputs/cpac/nofilt_noglobal/func_preproc/NYU_0050973_func_preproc.nii.gz ...\n"
          ],
          "name": "stdout"
        },
        {
          "output_type": "stream",
          "text": [
            "Downloaded 83877888 of 100974320 bytes (83.1%,    0.4s remaining) ...done. (3 seconds, 0 min)\n"
          ],
          "name": "stderr"
        },
        {
          "output_type": "stream",
          "text": [
            "Downloading data from https://s3.amazonaws.com/fcp-indi/data/Projects/ABIDE_Initiative/Outputs/cpac/nofilt_noglobal/func_preproc/NYU_0050974_func_preproc.nii.gz ...\n"
          ],
          "name": "stdout"
        },
        {
          "output_type": "stream",
          "text": [
            "Downloaded 83877888 of 100409190 bytes (83.5%,    0.4s remaining) ...done. (3 seconds, 0 min)\n"
          ],
          "name": "stderr"
        },
        {
          "output_type": "stream",
          "text": [
            "Downloading data from https://s3.amazonaws.com/fcp-indi/data/Projects/ABIDE_Initiative/Outputs/cpac/nofilt_noglobal/func_preproc/NYU_0050976_func_preproc.nii.gz ...\n"
          ],
          "name": "stdout"
        },
        {
          "output_type": "stream",
          "text": [
            "Downloaded 90513408 of 104074755 bytes (87.0%,    0.3s remaining) ...done. (3 seconds, 0 min)\n"
          ],
          "name": "stderr"
        },
        {
          "output_type": "stream",
          "text": [
            "Downloading data from https://s3.amazonaws.com/fcp-indi/data/Projects/ABIDE_Initiative/Outputs/cpac/nofilt_noglobal/func_preproc/NYU_0050977_func_preproc.nii.gz ...\n"
          ],
          "name": "stdout"
        },
        {
          "output_type": "stream",
          "text": [
            "Downloaded 89718784 of 113260920 bytes (79.2%,    0.5s remaining) ...done. (3 seconds, 0 min)\n"
          ],
          "name": "stderr"
        },
        {
          "output_type": "stream",
          "text": [
            "Downloading data from https://s3.amazonaws.com/fcp-indi/data/Projects/ABIDE_Initiative/Outputs/cpac/nofilt_noglobal/func_preproc/NYU_0050978_func_preproc.nii.gz ...\n"
          ],
          "name": "stdout"
        },
        {
          "output_type": "stream",
          "text": [
            "Downloaded 92266496 of 108360716 bytes (85.1%,    0.4s remaining) ...done. (2 seconds, 0 min)\n"
          ],
          "name": "stderr"
        },
        {
          "output_type": "stream",
          "text": [
            "Downloading data from https://s3.amazonaws.com/fcp-indi/data/Projects/ABIDE_Initiative/Outputs/cpac/nofilt_noglobal/func_preproc/NYU_0050979_func_preproc.nii.gz ...\n"
          ],
          "name": "stdout"
        },
        {
          "output_type": "stream",
          "text": [
            "Downloaded 75628544 of 104736281 bytes (72.2%,    0.8s remaining) ...done. (3 seconds, 0 min)\n"
          ],
          "name": "stderr"
        },
        {
          "output_type": "stream",
          "text": [
            "Downloading data from https://s3.amazonaws.com/fcp-indi/data/Projects/ABIDE_Initiative/Outputs/cpac/nofilt_noglobal/func_preproc/NYU_0050981_func_preproc.nii.gz ...\n"
          ],
          "name": "stdout"
        },
        {
          "output_type": "stream",
          "text": [
            "Downloaded 94478336 of 107319372 bytes (88.0%,    0.4s remaining) ...done. (4 seconds, 0 min)\n"
          ],
          "name": "stderr"
        },
        {
          "output_type": "stream",
          "text": [
            "Downloading data from https://s3.amazonaws.com/fcp-indi/data/Projects/ABIDE_Initiative/Outputs/cpac/nofilt_noglobal/func_preproc/NYU_0050982_func_preproc.nii.gz ...\n"
          ],
          "name": "stdout"
        },
        {
          "output_type": "stream",
          "text": [
            "Downloaded 73744384 of 107005336 bytes (68.9%,    0.9s remaining) ...done. (3 seconds, 0 min)\n"
          ],
          "name": "stderr"
        },
        {
          "output_type": "stream",
          "text": [
            "Downloading data from https://s3.amazonaws.com/fcp-indi/data/Projects/ABIDE_Initiative/Outputs/cpac/nofilt_noglobal/func_preproc/NYU_0050983_func_preproc.nii.gz ...\n"
          ],
          "name": "stdout"
        },
        {
          "output_type": "stream",
          "text": [
            "Downloaded 92266496 of 106804051 bytes (86.4%,    0.3s remaining) ...done. (2 seconds, 0 min)\n"
          ],
          "name": "stderr"
        },
        {
          "output_type": "stream",
          "text": [
            "Downloading data from https://s3.amazonaws.com/fcp-indi/data/Projects/ABIDE_Initiative/Outputs/cpac/nofilt_noglobal/func_preproc/NYU_0050984_func_preproc.nii.gz ...\n"
          ],
          "name": "stdout"
        },
        {
          "output_type": "stream",
          "text": [
            "Downloaded 88326144 of 102612575 bytes (86.1%,    0.5s remaining) ...done. (4 seconds, 0 min)\n"
          ],
          "name": "stderr"
        },
        {
          "output_type": "stream",
          "text": [
            "Downloading data from https://s3.amazonaws.com/fcp-indi/data/Projects/ABIDE_Initiative/Outputs/cpac/nofilt_noglobal/func_preproc/NYU_0050985_func_preproc.nii.gz ...\n"
          ],
          "name": "stdout"
        },
        {
          "output_type": "stream",
          "text": [
            "Downloaded 92266496 of 104888059 bytes (88.0%,    0.3s remaining) ...done. (2 seconds, 0 min)\n"
          ],
          "name": "stderr"
        },
        {
          "output_type": "stream",
          "text": [
            "Downloading data from https://s3.amazonaws.com/fcp-indi/data/Projects/ABIDE_Initiative/Outputs/cpac/nofilt_noglobal/func_preproc/NYU_0050986_func_preproc.nii.gz ...\n"
          ],
          "name": "stdout"
        },
        {
          "output_type": "stream",
          "text": [
            "Downloaded 75489280 of 106798185 bytes (70.7%,    0.9s remaining) ...done. (3 seconds, 0 min)\n"
          ],
          "name": "stderr"
        },
        {
          "output_type": "stream",
          "text": [
            "Downloading data from https://s3.amazonaws.com/fcp-indi/data/Projects/ABIDE_Initiative/Outputs/cpac/nofilt_noglobal/func_preproc/NYU_0050987_func_preproc.nii.gz ...\n"
          ],
          "name": "stdout"
        },
        {
          "output_type": "stream",
          "text": [
            "Downloaded 65470464 of 108919993 bytes (60.1%,    1.3s remaining) ...done. (3 seconds, 0 min)\n"
          ],
          "name": "stderr"
        },
        {
          "output_type": "stream",
          "text": [
            "Downloading data from https://s3.amazonaws.com/fcp-indi/data/Projects/ABIDE_Initiative/Outputs/cpac/nofilt_noglobal/func_preproc/NYU_0050988_func_preproc.nii.gz ...\n"
          ],
          "name": "stdout"
        },
        {
          "output_type": "stream",
          "text": [
            "Downloaded 67100672 of 104270498 bytes (64.4%,    1.2s remaining) ...done. (3 seconds, 0 min)\n"
          ],
          "name": "stderr"
        },
        {
          "output_type": "stream",
          "text": [
            "Downloading data from https://s3.amazonaws.com/fcp-indi/data/Projects/ABIDE_Initiative/Outputs/cpac/nofilt_noglobal/func_preproc/NYU_0050989_func_preproc.nii.gz ...\n"
          ],
          "name": "stdout"
        },
        {
          "output_type": "stream",
          "text": [
            "Downloaded 73744384 of 105646693 bytes (69.8%,    0.9s remaining) ...done. (3 seconds, 0 min)\n"
          ],
          "name": "stderr"
        },
        {
          "output_type": "stream",
          "text": [
            "Downloading data from https://s3.amazonaws.com/fcp-indi/data/Projects/ABIDE_Initiative/Outputs/cpac/nofilt_noglobal/func_preproc/NYU_0050990_func_preproc.nii.gz ...\n"
          ],
          "name": "stdout"
        },
        {
          "output_type": "stream",
          "text": [
            "Downloaded 92266496 of 101156840 bytes (91.2%,    0.2s remaining) ...done. (2 seconds, 0 min)\n"
          ],
          "name": "stderr"
        },
        {
          "output_type": "stream",
          "text": [
            "Downloading data from https://s3.amazonaws.com/fcp-indi/data/Projects/ABIDE_Initiative/Outputs/cpac/nofilt_noglobal/func_preproc/NYU_0050991_func_preproc.nii.gz ...\n"
          ],
          "name": "stdout"
        },
        {
          "output_type": "stream",
          "text": [
            "Downloaded 75489280 of 101859751 bytes (74.1%,    0.7s remaining) ...done. (3 seconds, 0 min)\n"
          ],
          "name": "stderr"
        },
        {
          "output_type": "stream",
          "text": [
            "Downloading data from https://s3.amazonaws.com/fcp-indi/data/Projects/ABIDE_Initiative/Outputs/cpac/nofilt_noglobal/func_preproc/NYU_0050992_func_preproc.nii.gz ...\n"
          ],
          "name": "stdout"
        },
        {
          "output_type": "stream",
          "text": [
            "Downloaded 75489280 of 106652107 bytes (70.8%,    0.9s remaining) ...done. (3 seconds, 0 min)\n"
          ],
          "name": "stderr"
        },
        {
          "output_type": "stream",
          "text": [
            "Downloading data from https://s3.amazonaws.com/fcp-indi/data/Projects/ABIDE_Initiative/Outputs/cpac/nofilt_noglobal/func_preproc/NYU_0050993_func_preproc.nii.gz ...\n"
          ],
          "name": "stdout"
        },
        {
          "output_type": "stream",
          "text": [
            "Downloaded 100646912 of 108495355 bytes (92.8%,    0.2s remaining) ...done. (3 seconds, 0 min)\n"
          ],
          "name": "stderr"
        },
        {
          "output_type": "stream",
          "text": [
            "Downloading data from https://s3.amazonaws.com/fcp-indi/data/Projects/ABIDE_Initiative/Outputs/cpac/nofilt_noglobal/func_preproc/NYU_0050994_func_preproc.nii.gz ...\n"
          ],
          "name": "stdout"
        },
        {
          "output_type": "stream",
          "text": [
            "Downloaded 90513408 of 93798085 bytes (96.5%,    0.1s remaining) ...done. (2 seconds, 0 min)\n"
          ],
          "name": "stderr"
        },
        {
          "output_type": "stream",
          "text": [
            "Downloading data from https://s3.amazonaws.com/fcp-indi/data/Projects/ABIDE_Initiative/Outputs/cpac/nofilt_noglobal/func_preproc/NYU_0050995_func_preproc.nii.gz ...\n"
          ],
          "name": "stdout"
        },
        {
          "output_type": "stream",
          "text": [
            "Downloaded 96714752 of 96993896 bytes (99.7%,    0.0s remaining) ...done. (2 seconds, 0 min)\n"
          ],
          "name": "stderr"
        },
        {
          "output_type": "stream",
          "text": [
            "Downloading data from https://s3.amazonaws.com/fcp-indi/data/Projects/ABIDE_Initiative/Outputs/cpac/nofilt_noglobal/func_preproc/NYU_0050996_func_preproc.nii.gz ...\n"
          ],
          "name": "stdout"
        },
        {
          "output_type": "stream",
          "text": [
            "Downloaded 76881920 of 97583114 bytes (78.8%,    0.6s remaining) ...done. (3 seconds, 0 min)\n"
          ],
          "name": "stderr"
        },
        {
          "output_type": "stream",
          "text": [
            "Downloading data from https://s3.amazonaws.com/fcp-indi/data/Projects/ABIDE_Initiative/Outputs/cpac/nofilt_noglobal/func_preproc/NYU_0050997_func_preproc.nii.gz ...\n"
          ],
          "name": "stdout"
        },
        {
          "output_type": "stream",
          "text": [
            "Downloaded 92266496 of 98221562 bytes (93.9%,    0.1s remaining) ...done. (2 seconds, 0 min)\n"
          ],
          "name": "stderr"
        },
        {
          "output_type": "stream",
          "text": [
            "Downloading data from https://s3.amazonaws.com/fcp-indi/data/Projects/ABIDE_Initiative/Outputs/cpac/nofilt_noglobal/func_preproc/NYU_0050999_func_preproc.nii.gz ...\n"
          ],
          "name": "stdout"
        },
        {
          "output_type": "stream",
          "text": [
            "Downloaded 86073344 of 102234178 bytes (84.2%,    0.4s remaining) ...done. (3 seconds, 0 min)\n"
          ],
          "name": "stderr"
        },
        {
          "output_type": "stream",
          "text": [
            "Downloading data from https://s3.amazonaws.com/fcp-indi/data/Projects/ABIDE_Initiative/Outputs/cpac/nofilt_noglobal/func_preproc/NYU_0051000_func_preproc.nii.gz ...\n"
          ],
          "name": "stdout"
        },
        {
          "output_type": "stream",
          "text": [
            "\rDownloaded 44638208 of 99318496 bytes (44.9%,    1.2s remaining) ...done. (2 seconds, 0 min)\n"
          ],
          "name": "stderr"
        },
        {
          "output_type": "stream",
          "text": [
            "Downloading data from https://s3.amazonaws.com/fcp-indi/data/Projects/ABIDE_Initiative/Outputs/cpac/nofilt_noglobal/func_preproc/NYU_0051001_func_preproc.nii.gz ...\n"
          ],
          "name": "stdout"
        },
        {
          "output_type": "stream",
          "text": [
            "Downloaded 79929344 of 108363271 bytes (73.8%,    0.7s remaining) ...done. (3 seconds, 0 min)\n"
          ],
          "name": "stderr"
        },
        {
          "output_type": "stream",
          "text": [
            "Downloading data from https://s3.amazonaws.com/fcp-indi/data/Projects/ABIDE_Initiative/Outputs/cpac/nofilt_noglobal/func_preproc/NYU_0051002_func_preproc.nii.gz ...\n"
          ],
          "name": "stdout"
        },
        {
          "output_type": "stream",
          "text": [
            "Downloaded 79929344 of 109385834 bytes (73.1%,    0.8s remaining) ...done. (3 seconds, 0 min)\n"
          ],
          "name": "stderr"
        },
        {
          "output_type": "stream",
          "text": [
            "Downloading data from https://s3.amazonaws.com/fcp-indi/data/Projects/ABIDE_Initiative/Outputs/cpac/nofilt_noglobal/func_preproc/NYU_0051003_func_preproc.nii.gz ...\n"
          ],
          "name": "stdout"
        },
        {
          "output_type": "stream",
          "text": [
            "Downloaded 78872576 of 106486448 bytes (74.1%,    0.7s remaining) ...done. (3 seconds, 0 min)\n"
          ],
          "name": "stderr"
        },
        {
          "output_type": "stream",
          "text": [
            "Downloading data from https://s3.amazonaws.com/fcp-indi/data/Projects/ABIDE_Initiative/Outputs/cpac/nofilt_noglobal/func_preproc/NYU_0051006_func_preproc.nii.gz ...\n"
          ],
          "name": "stdout"
        },
        {
          "output_type": "stream",
          "text": [
            "Downloaded 109543424 of 109851473 bytes (99.7%,    0.0s remaining) ...done. (3 seconds, 0 min)\n"
          ],
          "name": "stderr"
        },
        {
          "output_type": "stream",
          "text": [
            "Downloading data from https://s3.amazonaws.com/fcp-indi/data/Projects/ABIDE_Initiative/Outputs/cpac/nofilt_noglobal/func_preproc/NYU_0051007_func_preproc.nii.gz ...\n"
          ],
          "name": "stdout"
        },
        {
          "output_type": "stream",
          "text": [
            "Downloaded 88326144 of 105156854 bytes (84.0%,    0.4s remaining) ...done. (3 seconds, 0 min)\n"
          ],
          "name": "stderr"
        },
        {
          "output_type": "stream",
          "text": [
            "Downloading data from https://s3.amazonaws.com/fcp-indi/data/Projects/ABIDE_Initiative/Outputs/cpac/nofilt_noglobal/func_preproc/NYU_0051008_func_preproc.nii.gz ...\n"
          ],
          "name": "stdout"
        },
        {
          "output_type": "stream",
          "text": [
            "Downloaded 75489280 of 99355392 bytes (76.0%,    0.7s remaining) ...done. (3 seconds, 0 min)\n"
          ],
          "name": "stderr"
        },
        {
          "output_type": "stream",
          "text": [
            "Downloading data from https://s3.amazonaws.com/fcp-indi/data/Projects/ABIDE_Initiative/Outputs/cpac/nofilt_noglobal/func_preproc/NYU_0051009_func_preproc.nii.gz ...\n"
          ],
          "name": "stdout"
        },
        {
          "output_type": "stream",
          "text": [
            "Downloaded 75489280 of 106625675 bytes (70.8%,    0.8s remaining) ...done. (3 seconds, 0 min)\n"
          ],
          "name": "stderr"
        },
        {
          "output_type": "stream",
          "text": [
            "Downloading data from https://s3.amazonaws.com/fcp-indi/data/Projects/ABIDE_Initiative/Outputs/cpac/nofilt_noglobal/func_preproc/NYU_0051010_func_preproc.nii.gz ...\n"
          ],
          "name": "stdout"
        },
        {
          "output_type": "stream",
          "text": [
            "Downloaded 92266496 of 110367659 bytes (83.6%,    0.6s remaining) ...done. (4 seconds, 0 min)\n"
          ],
          "name": "stderr"
        },
        {
          "output_type": "stream",
          "text": [
            "Downloading data from https://s3.amazonaws.com/fcp-indi/data/Projects/ABIDE_Initiative/Outputs/cpac/nofilt_noglobal/func_preproc/NYU_0051011_func_preproc.nii.gz ...\n"
          ],
          "name": "stdout"
        },
        {
          "output_type": "stream",
          "text": [
            "Downloaded 92266496 of 102387320 bytes (90.1%,    0.2s remaining) ...done. (3 seconds, 0 min)\n"
          ],
          "name": "stderr"
        },
        {
          "output_type": "stream",
          "text": [
            "Downloading data from https://s3.amazonaws.com/fcp-indi/data/Projects/ABIDE_Initiative/Outputs/cpac/nofilt_noglobal/func_preproc/NYU_0051012_func_preproc.nii.gz ...\n"
          ],
          "name": "stdout"
        },
        {
          "output_type": "stream",
          "text": [
            "Downloaded 94461952 of 107221314 bytes (88.1%,    0.3s remaining) ...done. (3 seconds, 0 min)\n"
          ],
          "name": "stderr"
        },
        {
          "output_type": "stream",
          "text": [
            "Downloading data from https://s3.amazonaws.com/fcp-indi/data/Projects/ABIDE_Initiative/Outputs/cpac/nofilt_noglobal/func_preproc/NYU_0051013_func_preproc.nii.gz ...\n"
          ],
          "name": "stdout"
        },
        {
          "output_type": "stream",
          "text": [
            "Downloaded 67813376 of 109966089 bytes (61.7%,    1.2s remaining) ...done. (3 seconds, 0 min)\n"
          ],
          "name": "stderr"
        },
        {
          "output_type": "stream",
          "text": [
            "Downloading data from https://s3.amazonaws.com/fcp-indi/data/Projects/ABIDE_Initiative/Outputs/cpac/nofilt_noglobal/func_preproc/NYU_0051014_func_preproc.nii.gz ...\n"
          ],
          "name": "stdout"
        },
        {
          "output_type": "stream",
          "text": [
            "Downloaded 82124800 of 108728949 bytes (75.5%,    0.7s remaining) ...done. (3 seconds, 0 min)\n"
          ],
          "name": "stderr"
        },
        {
          "output_type": "stream",
          "text": [
            "Downloading data from https://s3.amazonaws.com/fcp-indi/data/Projects/ABIDE_Initiative/Outputs/cpac/nofilt_noglobal/func_preproc/NYU_0051015_func_preproc.nii.gz ...\n"
          ],
          "name": "stdout"
        },
        {
          "output_type": "stream",
          "text": [
            "Downloaded 71540736 of 101010282 bytes (70.8%,    0.9s remaining) ...done. (3 seconds, 0 min)\n"
          ],
          "name": "stderr"
        },
        {
          "output_type": "stream",
          "text": [
            "Downloading data from https://s3.amazonaws.com/fcp-indi/data/Projects/ABIDE_Initiative/Outputs/cpac/nofilt_noglobal/func_preproc/NYU_0051016_func_preproc.nii.gz ...\n"
          ],
          "name": "stdout"
        },
        {
          "output_type": "stream",
          "text": [
            "Downloaded 73744384 of 98084485 bytes (75.2%,    0.7s remaining) ...done. (3 seconds, 0 min)\n"
          ],
          "name": "stderr"
        },
        {
          "output_type": "stream",
          "text": [
            "Downloading data from https://s3.amazonaws.com/fcp-indi/data/Projects/ABIDE_Initiative/Outputs/cpac/nofilt_noglobal/func_preproc/NYU_0051017_func_preproc.nii.gz ...\n"
          ],
          "name": "stdout"
        },
        {
          "output_type": "stream",
          "text": [
            "Downloaded 73744384 of 94481159 bytes (78.1%,    0.6s remaining) ...done. (3 seconds, 0 min)\n"
          ],
          "name": "stderr"
        },
        {
          "output_type": "stream",
          "text": [
            "Downloading data from https://s3.amazonaws.com/fcp-indi/data/Projects/ABIDE_Initiative/Outputs/cpac/nofilt_noglobal/func_preproc/NYU_0051018_func_preproc.nii.gz ...\n"
          ],
          "name": "stdout"
        },
        {
          "output_type": "stream",
          "text": [
            "Downloaded 67051520 of 99624997 bytes (67.3%,    1.0s remaining) ...done. (3 seconds, 0 min)\n"
          ],
          "name": "stderr"
        },
        {
          "output_type": "stream",
          "text": [
            "Downloading data from https://s3.amazonaws.com/fcp-indi/data/Projects/ABIDE_Initiative/Outputs/cpac/nofilt_noglobal/func_preproc/NYU_0051019_func_preproc.nii.gz ...\n"
          ],
          "name": "stdout"
        },
        {
          "output_type": "stream",
          "text": [
            "Downloaded 84279296 of 104164271 bytes (80.9%,    0.5s remaining) ...done. (3 seconds, 0 min)\n"
          ],
          "name": "stderr"
        },
        {
          "output_type": "stream",
          "text": [
            "Downloading data from https://s3.amazonaws.com/fcp-indi/data/Projects/ABIDE_Initiative/Outputs/cpac/nofilt_noglobal/func_preproc/NYU_0051020_func_preproc.nii.gz ...\n"
          ],
          "name": "stdout"
        },
        {
          "output_type": "stream",
          "text": [
            "Downloaded 83124224 of 93694818 bytes (88.7%,    0.3s remaining) ...done. (3 seconds, 0 min)\n"
          ],
          "name": "stderr"
        },
        {
          "output_type": "stream",
          "text": [
            "Downloading data from https://s3.amazonaws.com/fcp-indi/data/Projects/ABIDE_Initiative/Outputs/cpac/nofilt_noglobal/func_preproc/NYU_0051021_func_preproc.nii.gz ...\n"
          ],
          "name": "stdout"
        },
        {
          "output_type": "stream",
          "text": [
            "Downloaded 83886080 of 101253872 bytes (82.8%,    0.4s remaining) ...done. (3 seconds, 0 min)\n"
          ],
          "name": "stderr"
        },
        {
          "output_type": "stream",
          "text": [
            "Downloading data from https://s3.amazonaws.com/fcp-indi/data/Projects/ABIDE_Initiative/Outputs/cpac/nofilt_noglobal/func_preproc/NYU_0051023_func_preproc.nii.gz ...\n"
          ],
          "name": "stdout"
        },
        {
          "output_type": "stream",
          "text": [
            "Downloaded 83877888 of 99384999 bytes (84.4%,    0.4s remaining) ...done. (3 seconds, 0 min)\n"
          ],
          "name": "stderr"
        },
        {
          "output_type": "stream",
          "text": [
            "Downloading data from https://s3.amazonaws.com/fcp-indi/data/Projects/ABIDE_Initiative/Outputs/cpac/nofilt_noglobal/func_preproc/NYU_0051024_func_preproc.nii.gz ...\n"
          ],
          "name": "stdout"
        },
        {
          "output_type": "stream",
          "text": [
            "Downloaded 75489280 of 96389641 bytes (78.3%,    0.6s remaining) ...done. (3 seconds, 0 min)\n"
          ],
          "name": "stderr"
        },
        {
          "output_type": "stream",
          "text": [
            "Downloading data from https://s3.amazonaws.com/fcp-indi/data/Projects/ABIDE_Initiative/Outputs/cpac/nofilt_noglobal/func_preproc/NYU_0051025_func_preproc.nii.gz ...\n"
          ],
          "name": "stdout"
        },
        {
          "output_type": "stream",
          "text": [
            "Downloaded 81190912 of 96041774 bytes (84.5%,    0.4s remaining) ...done. (3 seconds, 0 min)\n"
          ],
          "name": "stderr"
        },
        {
          "output_type": "stream",
          "text": [
            "Downloading data from https://s3.amazonaws.com/fcp-indi/data/Projects/ABIDE_Initiative/Outputs/cpac/nofilt_noglobal/func_preproc/NYU_0051026_func_preproc.nii.gz ...\n"
          ],
          "name": "stdout"
        },
        {
          "output_type": "stream",
          "text": [
            "Downloaded 75489280 of 99567334 bytes (75.8%,    0.7s remaining) ...done. (3 seconds, 0 min)\n"
          ],
          "name": "stderr"
        },
        {
          "output_type": "stream",
          "text": [
            "Downloading data from https://s3.amazonaws.com/fcp-indi/data/Projects/ABIDE_Initiative/Outputs/cpac/nofilt_noglobal/func_preproc/NYU_0051027_func_preproc.nii.gz ...\n"
          ],
          "name": "stdout"
        },
        {
          "output_type": "stream",
          "text": [
            "Downloaded 100646912 of 105723451 bytes (95.2%,    0.2s remaining) ...done. (3 seconds, 0 min)\n"
          ],
          "name": "stderr"
        },
        {
          "output_type": "stream",
          "text": [
            "Downloading data from https://s3.amazonaws.com/fcp-indi/data/Projects/ABIDE_Initiative/Outputs/cpac/nofilt_noglobal/func_preproc/NYU_0051028_func_preproc.nii.gz ...\n"
          ],
          "name": "stdout"
        },
        {
          "output_type": "stream",
          "text": [
            "Downloaded 82198528 of 97207276 bytes (84.6%,    0.4s remaining) ...done. (3 seconds, 0 min)\n"
          ],
          "name": "stderr"
        },
        {
          "output_type": "stream",
          "text": [
            "Downloading data from https://s3.amazonaws.com/fcp-indi/data/Projects/ABIDE_Initiative/Outputs/cpac/nofilt_noglobal/func_preproc/NYU_0051029_func_preproc.nii.gz ...\n"
          ],
          "name": "stdout"
        },
        {
          "output_type": "stream",
          "text": [
            "Downloaded 73744384 of 98145399 bytes (75.1%,    0.7s remaining) ...done. (3 seconds, 0 min)\n"
          ],
          "name": "stderr"
        },
        {
          "output_type": "stream",
          "text": [
            "Downloading data from https://s3.amazonaws.com/fcp-indi/data/Projects/ABIDE_Initiative/Outputs/cpac/nofilt_noglobal/func_preproc/NYU_0051030_func_preproc.nii.gz ...\n"
          ],
          "name": "stdout"
        },
        {
          "output_type": "stream",
          "text": [
            "Downloaded 75489280 of 108307494 bytes (69.7%,    0.9s remaining) ...done. (3 seconds, 0 min)\n"
          ],
          "name": "stderr"
        },
        {
          "output_type": "stream",
          "text": [
            "Downloading data from https://s3.amazonaws.com/fcp-indi/data/Projects/ABIDE_Initiative/Outputs/cpac/nofilt_noglobal/func_preproc/NYU_0051032_func_preproc.nii.gz ...\n"
          ],
          "name": "stdout"
        },
        {
          "output_type": "stream",
          "text": [
            "Downloaded 86622208 of 110256871 bytes (78.6%,    0.6s remaining) ...done. (3 seconds, 0 min)\n"
          ],
          "name": "stderr"
        },
        {
          "output_type": "stream",
          "text": [
            "Downloading data from https://s3.amazonaws.com/fcp-indi/data/Projects/ABIDE_Initiative/Outputs/cpac/nofilt_noglobal/func_preproc/NYU_0051033_func_preproc.nii.gz ...\n"
          ],
          "name": "stdout"
        },
        {
          "output_type": "stream",
          "text": [
            "Downloaded 100646912 of 103714863 bytes (97.0%,    0.1s remaining) ...done. (3 seconds, 0 min)\n"
          ],
          "name": "stderr"
        },
        {
          "output_type": "stream",
          "text": [
            "Downloading data from https://s3.amazonaws.com/fcp-indi/data/Projects/ABIDE_Initiative/Outputs/cpac/nofilt_noglobal/func_preproc/NYU_0051034_func_preproc.nii.gz ...\n"
          ],
          "name": "stdout"
        },
        {
          "output_type": "stream",
          "text": [
            "Downloaded 75489280 of 108876818 bytes (69.3%,    0.9s remaining) ...done. (3 seconds, 0 min)\n"
          ],
          "name": "stderr"
        },
        {
          "output_type": "stream",
          "text": [
            "Downloading data from https://s3.amazonaws.com/fcp-indi/data/Projects/ABIDE_Initiative/Outputs/cpac/nofilt_noglobal/func_preproc/NYU_0051035_func_preproc.nii.gz ...\n"
          ],
          "name": "stdout"
        },
        {
          "output_type": "stream",
          "text": [
            "Downloaded 86597632 of 105921055 bytes (81.8%,    0.4s remaining) ...done. (3 seconds, 0 min)\n"
          ],
          "name": "stderr"
        },
        {
          "output_type": "stream",
          "text": [
            "Downloading data from https://s3.amazonaws.com/fcp-indi/data/Projects/ABIDE_Initiative/Outputs/cpac/nofilt_noglobal/func_preproc/NYU_0051036_func_preproc.nii.gz ...\n"
          ],
          "name": "stdout"
        },
        {
          "output_type": "stream",
          "text": [
            "Downloaded 92405760 of 101367382 bytes (91.2%,    0.2s remaining) ...done. (2 seconds, 0 min)\n"
          ],
          "name": "stderr"
        },
        {
          "output_type": "stream",
          "text": [
            "Downloading data from https://s3.amazonaws.com/fcp-indi/data/Projects/ABIDE_Initiative/Outputs/cpac/nofilt_noglobal/func_preproc/NYU_0051038_func_preproc.nii.gz ...\n"
          ],
          "name": "stdout"
        },
        {
          "output_type": "stream",
          "text": [
            "Downloaded 92266496 of 110628216 bytes (83.4%,    0.4s remaining) ...done. (3 seconds, 0 min)\n"
          ],
          "name": "stderr"
        },
        {
          "output_type": "stream",
          "text": [
            "Downloading data from https://s3.amazonaws.com/fcp-indi/data/Projects/ABIDE_Initiative/Outputs/cpac/nofilt_noglobal/func_preproc/NYU_0051039_func_preproc.nii.gz ...\n"
          ],
          "name": "stdout"
        },
        {
          "output_type": "stream",
          "text": [
            "Downloaded 85745664 of 110836962 bytes (77.4%,    0.6s remaining) ...done. (3 seconds, 0 min)\n"
          ],
          "name": "stderr"
        },
        {
          "output_type": "stream",
          "text": [
            "Downloading data from https://s3.amazonaws.com/fcp-indi/data/Projects/ABIDE_Initiative/Outputs/cpac/nofilt_noglobal/func_preproc/NYU_0051040_func_preproc.nii.gz ...\n"
          ],
          "name": "stdout"
        },
        {
          "output_type": "stream",
          "text": [
            "Downloaded 83107840 of 106429688 bytes (78.1%,    0.6s remaining) ...done. (3 seconds, 0 min)\n"
          ],
          "name": "stderr"
        },
        {
          "output_type": "stream",
          "text": [
            "Downloading data from https://s3.amazonaws.com/fcp-indi/data/Projects/ABIDE_Initiative/Outputs/cpac/nofilt_noglobal/func_preproc/NYU_0051041_func_preproc.nii.gz ...\n"
          ],
          "name": "stdout"
        },
        {
          "output_type": "stream",
          "text": [
            "Downloaded 77684736 of 105359797 bytes (73.7%,    0.8s remaining) ...done. (3 seconds, 0 min)\n"
          ],
          "name": "stderr"
        },
        {
          "output_type": "stream",
          "text": [
            "Downloading data from https://s3.amazonaws.com/fcp-indi/data/Projects/ABIDE_Initiative/Outputs/cpac/nofilt_noglobal/func_preproc/NYU_0051042_func_preproc.nii.gz ...\n"
          ],
          "name": "stdout"
        },
        {
          "output_type": "stream",
          "text": [
            "Downloaded 103383040 of 107361903 bytes (96.3%,    0.1s remaining) ...done. (3 seconds, 0 min)\n"
          ],
          "name": "stderr"
        },
        {
          "output_type": "stream",
          "text": [
            "Downloading data from https://s3.amazonaws.com/fcp-indi/data/Projects/ABIDE_Initiative/Outputs/cpac/nofilt_noglobal/func_preproc/NYU_0051044_func_preproc.nii.gz ...\n"
          ],
          "name": "stdout"
        },
        {
          "output_type": "stream",
          "text": [
            "Downloaded 82124800 of 106074530 bytes (77.4%,    0.6s remaining) ...done. (3 seconds, 0 min)\n"
          ],
          "name": "stderr"
        },
        {
          "output_type": "stream",
          "text": [
            "Downloading data from https://s3.amazonaws.com/fcp-indi/data/Projects/ABIDE_Initiative/Outputs/cpac/nofilt_noglobal/func_preproc/NYU_0051045_func_preproc.nii.gz ...\n"
          ],
          "name": "stdout"
        },
        {
          "output_type": "stream",
          "text": [
            "Downloaded 83877888 of 105312983 bytes (79.6%,    0.5s remaining) ...done. (3 seconds, 0 min)\n"
          ],
          "name": "stderr"
        },
        {
          "output_type": "stream",
          "text": [
            "Downloading data from https://s3.amazonaws.com/fcp-indi/data/Projects/ABIDE_Initiative/Outputs/cpac/nofilt_noglobal/func_preproc/NYU_0051046_func_preproc.nii.gz ...\n"
          ],
          "name": "stdout"
        },
        {
          "output_type": "stream",
          "text": [
            "Downloaded 88989696 of 102848367 bytes (86.5%,    0.3s remaining) ...done. (2 seconds, 0 min)\n"
          ],
          "name": "stderr"
        },
        {
          "output_type": "stream",
          "text": [
            "Downloading data from https://s3.amazonaws.com/fcp-indi/data/Projects/ABIDE_Initiative/Outputs/cpac/nofilt_noglobal/func_preproc/NYU_0051047_func_preproc.nii.gz ...\n"
          ],
          "name": "stdout"
        },
        {
          "output_type": "stream",
          "text": [
            "Downloaded 86073344 of 105789974 bytes (81.4%,    0.5s remaining) ...done. (3 seconds, 0 min)\n"
          ],
          "name": "stderr"
        },
        {
          "output_type": "stream",
          "text": [
            "Downloading data from https://s3.amazonaws.com/fcp-indi/data/Projects/ABIDE_Initiative/Outputs/cpac/nofilt_noglobal/func_preproc/NYU_0051048_func_preproc.nii.gz ...\n"
          ],
          "name": "stdout"
        },
        {
          "output_type": "stream",
          "text": [
            "Downloaded 84336640 of 106243236 bytes (79.4%,    0.5s remaining) ...done. (3 seconds, 0 min)\n"
          ],
          "name": "stderr"
        },
        {
          "output_type": "stream",
          "text": [
            "Downloading data from https://s3.amazonaws.com/fcp-indi/data/Projects/ABIDE_Initiative/Outputs/cpac/nofilt_noglobal/func_preproc/NYU_0051049_func_preproc.nii.gz ...\n"
          ],
          "name": "stdout"
        },
        {
          "output_type": "stream",
          "text": [
            "Downloaded 84779008 of 105435925 bytes (80.4%,    0.5s remaining) ...done. (3 seconds, 0 min)\n"
          ],
          "name": "stderr"
        },
        {
          "output_type": "stream",
          "text": [
            "Downloading data from https://s3.amazonaws.com/fcp-indi/data/Projects/ABIDE_Initiative/Outputs/cpac/nofilt_noglobal/func_preproc/NYU_0051050_func_preproc.nii.gz ...\n"
          ],
          "name": "stdout"
        },
        {
          "output_type": "stream",
          "text": [
            "Downloaded 73744384 of 100363895 bytes (73.5%,    0.8s remaining) ...done. (3 seconds, 0 min)\n"
          ],
          "name": "stderr"
        },
        {
          "output_type": "stream",
          "text": [
            "Downloading data from https://s3.amazonaws.com/fcp-indi/data/Projects/ABIDE_Initiative/Outputs/cpac/nofilt_noglobal/func_preproc/NYU_0051051_func_preproc.nii.gz ...\n"
          ],
          "name": "stdout"
        },
        {
          "output_type": "stream",
          "text": [
            "Downloaded 90005504 of 100770137 bytes (89.3%,    0.4s remaining) ...done. (4 seconds, 0 min)\n"
          ],
          "name": "stderr"
        },
        {
          "output_type": "stream",
          "text": [
            "Downloading data from https://s3.amazonaws.com/fcp-indi/data/Projects/ABIDE_Initiative/Outputs/cpac/nofilt_noglobal/func_preproc/NYU_0051052_func_preproc.nii.gz ...\n"
          ],
          "name": "stdout"
        },
        {
          "output_type": "stream",
          "text": [
            "Downloaded 90513408 of 101689123 bytes (89.0%,    0.2s remaining) ...done. (2 seconds, 0 min)\n"
          ],
          "name": "stderr"
        },
        {
          "output_type": "stream",
          "text": [
            "Downloading data from https://s3.amazonaws.com/fcp-indi/data/Projects/ABIDE_Initiative/Outputs/cpac/nofilt_noglobal/func_preproc/NYU_0051053_func_preproc.nii.gz ...\n"
          ],
          "name": "stdout"
        },
        {
          "output_type": "stream",
          "text": [
            "Downloaded 75489280 of 102694616 bytes (73.5%,    0.7s remaining) ...done. (3 seconds, 0 min)\n"
          ],
          "name": "stderr"
        },
        {
          "output_type": "stream",
          "text": [
            "Downloading data from https://s3.amazonaws.com/fcp-indi/data/Projects/ABIDE_Initiative/Outputs/cpac/nofilt_noglobal/func_preproc/NYU_0051054_func_preproc.nii.gz ...\n"
          ],
          "name": "stdout"
        },
        {
          "output_type": "stream",
          "text": [
            "Downloaded 66215936 of 102521406 bytes (64.6%,    1.1s remaining) ...done. (3 seconds, 0 min)\n"
          ],
          "name": "stderr"
        },
        {
          "output_type": "stream",
          "text": [
            "Downloading data from https://s3.amazonaws.com/fcp-indi/data/Projects/ABIDE_Initiative/Outputs/cpac/nofilt_noglobal/func_preproc/NYU_0051055_func_preproc.nii.gz ...\n"
          ],
          "name": "stdout"
        },
        {
          "output_type": "stream",
          "text": [
            "Downloaded 90513408 of 102364639 bytes (88.4%,    0.3s remaining) ...done. (2 seconds, 0 min)\n"
          ],
          "name": "stderr"
        },
        {
          "output_type": "stream",
          "text": [
            "Downloading data from https://s3.amazonaws.com/fcp-indi/data/Projects/ABIDE_Initiative/Outputs/cpac/nofilt_noglobal/func_preproc/NYU_0051056_func_preproc.nii.gz ...\n"
          ],
          "name": "stdout"
        },
        {
          "output_type": "stream",
          "text": [
            "Downloaded 103505920 of 103921355 bytes (99.6%,    0.0s remaining) ...done. (3 seconds, 0 min)\n"
          ],
          "name": "stderr"
        },
        {
          "output_type": "stream",
          "text": [
            "Downloading data from https://s3.amazonaws.com/fcp-indi/data/Projects/ABIDE_Initiative/Outputs/cpac/nofilt_noglobal/func_preproc/NYU_0051057_func_preproc.nii.gz ...\n"
          ],
          "name": "stdout"
        },
        {
          "output_type": "stream",
          "text": [
            "Downloaded 98910208 of 100653928 bytes (98.3%,    0.0s remaining) ...done. (2 seconds, 0 min)\n"
          ],
          "name": "stderr"
        },
        {
          "output_type": "stream",
          "text": [
            "Downloading data from https://s3.amazonaws.com/fcp-indi/data/Projects/ABIDE_Initiative/Outputs/cpac/nofilt_noglobal/func_preproc/NYU_0051058_func_preproc.nii.gz ...\n"
          ],
          "name": "stdout"
        },
        {
          "output_type": "stream",
          "text": [
            "Downloaded 90513408 of 100538373 bytes (90.0%,    0.2s remaining) ...done. (2 seconds, 0 min)\n"
          ],
          "name": "stderr"
        },
        {
          "output_type": "stream",
          "text": [
            "Downloading data from https://s3.amazonaws.com/fcp-indi/data/Projects/ABIDE_Initiative/Outputs/cpac/nofilt_noglobal/func_preproc/NYU_0051059_func_preproc.nii.gz ...\n"
          ],
          "name": "stdout"
        },
        {
          "output_type": "stream",
          "text": [
            "Downloaded 75489280 of 100959301 bytes (74.8%,    0.7s remaining) ...done. (3 seconds, 0 min)\n"
          ],
          "name": "stderr"
        },
        {
          "output_type": "stream",
          "text": [
            "Downloading data from https://s3.amazonaws.com/fcp-indi/data/Projects/ABIDE_Initiative/Outputs/cpac/nofilt_noglobal/func_preproc/NYU_0051060_func_preproc.nii.gz ...\n"
          ],
          "name": "stdout"
        },
        {
          "output_type": "stream",
          "text": [
            "Downloaded 72163328 of 100016496 bytes (72.2%,    0.8s remaining) ...done. (3 seconds, 0 min)\n"
          ],
          "name": "stderr"
        },
        {
          "output_type": "stream",
          "text": [
            "Downloading data from https://s3.amazonaws.com/fcp-indi/data/Projects/ABIDE_Initiative/Outputs/cpac/nofilt_noglobal/func_preproc/NYU_0051061_func_preproc.nii.gz ...\n"
          ],
          "name": "stdout"
        },
        {
          "output_type": "stream",
          "text": [
            "Downloaded 81289216 of 102391579 bytes (79.4%,    0.5s remaining) ...done. (3 seconds, 0 min)\n"
          ],
          "name": "stderr"
        },
        {
          "output_type": "stream",
          "text": [
            "Downloading data from https://s3.amazonaws.com/fcp-indi/data/Projects/ABIDE_Initiative/Outputs/cpac/nofilt_noglobal/func_preproc/NYU_0051062_func_preproc.nii.gz ...\n"
          ],
          "name": "stdout"
        },
        {
          "output_type": "stream",
          "text": [
            "Downloaded 83877888 of 99121611 bytes (84.6%,    0.4s remaining) ...done. (3 seconds, 0 min)\n"
          ],
          "name": "stderr"
        },
        {
          "output_type": "stream",
          "text": [
            "Downloading data from https://s3.amazonaws.com/fcp-indi/data/Projects/ABIDE_Initiative/Outputs/cpac/nofilt_noglobal/func_preproc/NYU_0051063_func_preproc.nii.gz ...\n"
          ],
          "name": "stdout"
        },
        {
          "output_type": "stream",
          "text": [
            "Downloaded 92266496 of 99720752 bytes (92.5%,    0.3s remaining) ...done. (3 seconds, 0 min)\n"
          ],
          "name": "stderr"
        },
        {
          "output_type": "stream",
          "text": [
            "Downloading data from https://s3.amazonaws.com/fcp-indi/data/Projects/ABIDE_Initiative/Outputs/cpac/nofilt_noglobal/func_preproc/NYU_0051064_func_preproc.nii.gz ...\n"
          ],
          "name": "stdout"
        },
        {
          "output_type": "stream",
          "text": [
            "Downloaded 92266496 of 111901810 bytes (82.5%,    0.4s remaining) ...done. (3 seconds, 0 min)\n"
          ],
          "name": "stderr"
        },
        {
          "output_type": "stream",
          "text": [
            "Downloading data from https://s3.amazonaws.com/fcp-indi/data/Projects/ABIDE_Initiative/Outputs/cpac/nofilt_noglobal/func_preproc/NYU_0051065_func_preproc.nii.gz ...\n"
          ],
          "name": "stdout"
        },
        {
          "output_type": "stream",
          "text": [
            "Downloaded 75628544 of 100032666 bytes (75.6%,    0.7s remaining) ...done. (3 seconds, 0 min)\n"
          ],
          "name": "stderr"
        },
        {
          "output_type": "stream",
          "text": [
            "Downloading data from https://s3.amazonaws.com/fcp-indi/data/Projects/ABIDE_Initiative/Outputs/cpac/nofilt_noglobal/func_preproc/NYU_0051066_func_preproc.nii.gz ...\n"
          ],
          "name": "stdout"
        },
        {
          "output_type": "stream",
          "text": [
            "Downloaded 67100672 of 95095953 bytes (70.6%,    0.9s remaining) ...done. (3 seconds, 0 min)\n"
          ],
          "name": "stderr"
        },
        {
          "output_type": "stream",
          "text": [
            "Downloading data from https://s3.amazonaws.com/fcp-indi/data/Projects/ABIDE_Initiative/Outputs/cpac/nofilt_noglobal/func_preproc/NYU_0051067_func_preproc.nii.gz ...\n"
          ],
          "name": "stdout"
        },
        {
          "output_type": "stream",
          "text": [
            "Downloaded 86728704 of 96598712 bytes (89.8%,    0.2s remaining) ...done. (2 seconds, 0 min)\n"
          ],
          "name": "stderr"
        },
        {
          "output_type": "stream",
          "text": [
            "Downloading data from https://s3.amazonaws.com/fcp-indi/data/Projects/ABIDE_Initiative/Outputs/cpac/nofilt_noglobal/func_preproc/NYU_0051068_func_preproc.nii.gz ...\n"
          ],
          "name": "stdout"
        },
        {
          "output_type": "stream",
          "text": [
            "Downloaded 83877888 of 101024784 bytes (83.0%,    0.4s remaining) ...done. (3 seconds, 0 min)\n"
          ],
          "name": "stderr"
        },
        {
          "output_type": "stream",
          "text": [
            "Downloading data from https://s3.amazonaws.com/fcp-indi/data/Projects/ABIDE_Initiative/Outputs/cpac/nofilt_noglobal/func_preproc/NYU_0051069_func_preproc.nii.gz ...\n"
          ],
          "name": "stdout"
        },
        {
          "output_type": "stream",
          "text": [
            "Downloaded 82124800 of 108810044 bytes (75.5%,    0.7s remaining) ...done. (3 seconds, 0 min)\n"
          ],
          "name": "stderr"
        },
        {
          "output_type": "stream",
          "text": [
            "Downloading data from https://s3.amazonaws.com/fcp-indi/data/Projects/ABIDE_Initiative/Outputs/cpac/nofilt_noglobal/func_preproc/NYU_0051070_func_preproc.nii.gz ...\n"
          ],
          "name": "stdout"
        },
        {
          "output_type": "stream",
          "text": [
            "Downloaded 83533824 of 116617269 bytes (71.6%,    0.8s remaining) ...done. (3 seconds, 0 min)\n"
          ],
          "name": "stderr"
        },
        {
          "output_type": "stream",
          "text": [
            "Downloading data from https://s3.amazonaws.com/fcp-indi/data/Projects/ABIDE_Initiative/Outputs/cpac/nofilt_noglobal/func_preproc/NYU_0051072_func_preproc.nii.gz ...\n"
          ],
          "name": "stdout"
        },
        {
          "output_type": "stream",
          "text": [
            "Downloaded 100646912 of 103621753 bytes (97.1%,    0.1s remaining) ...done. (3 seconds, 0 min)\n"
          ],
          "name": "stderr"
        },
        {
          "output_type": "stream",
          "text": [
            "Downloading data from https://s3.amazonaws.com/fcp-indi/data/Projects/ABIDE_Initiative/Outputs/cpac/nofilt_noglobal/func_preproc/NYU_0051073_func_preproc.nii.gz ...\n"
          ],
          "name": "stdout"
        },
        {
          "output_type": "stream",
          "text": [
            "Downloaded 79609856 of 97902788 bytes (81.3%,    0.5s remaining) ...done. (3 seconds, 0 min)\n"
          ],
          "name": "stderr"
        },
        {
          "output_type": "stream",
          "text": [
            "Downloading data from https://s3.amazonaws.com/fcp-indi/data/Projects/ABIDE_Initiative/Outputs/cpac/nofilt_noglobal/func_preproc/NYU_0051074_func_preproc.nii.gz ...\n"
          ],
          "name": "stdout"
        },
        {
          "output_type": "stream",
          "text": [
            "Downloaded 75489280 of 102653806 bytes (73.5%,    0.7s remaining) ...done. (3 seconds, 0 min)\n"
          ],
          "name": "stderr"
        },
        {
          "output_type": "stream",
          "text": [
            "Downloading data from https://s3.amazonaws.com/fcp-indi/data/Projects/ABIDE_Initiative/Outputs/cpac/nofilt_noglobal/func_preproc/NYU_0051075_func_preproc.nii.gz ...\n"
          ],
          "name": "stdout"
        },
        {
          "output_type": "stream",
          "text": [
            "Downloaded 75489280 of 101887386 bytes (74.1%,    0.7s remaining) ...done. (3 seconds, 0 min)\n"
          ],
          "name": "stderr"
        },
        {
          "output_type": "stream",
          "text": [
            "Downloading data from https://s3.amazonaws.com/fcp-indi/data/Projects/ABIDE_Initiative/Outputs/cpac/nofilt_noglobal/func_preproc/NYU_0051076_func_preproc.nii.gz ...\n"
          ],
          "name": "stdout"
        },
        {
          "output_type": "stream",
          "text": [
            "Downloaded 98910208 of 99135651 bytes (99.8%,    0.0s remaining) ...done. (2 seconds, 0 min)\n"
          ],
          "name": "stderr"
        },
        {
          "output_type": "stream",
          "text": [
            "Downloading data from https://s3.amazonaws.com/fcp-indi/data/Projects/ABIDE_Initiative/Outputs/cpac/nofilt_noglobal/func_preproc/NYU_0051077_func_preproc.nii.gz ...\n"
          ],
          "name": "stdout"
        },
        {
          "output_type": "stream",
          "text": [
            "Downloaded 98910208 of 100113501 bytes (98.8%,    0.0s remaining) ...done. (3 seconds, 0 min)\n"
          ],
          "name": "stderr"
        },
        {
          "output_type": "stream",
          "text": [
            "Downloading data from https://s3.amazonaws.com/fcp-indi/data/Projects/ABIDE_Initiative/Outputs/cpac/nofilt_noglobal/func_preproc/NYU_0051078_func_preproc.nii.gz ...\n"
          ],
          "name": "stdout"
        },
        {
          "output_type": "stream",
          "text": [
            "Downloaded 79282176 of 106054313 bytes (74.8%,    0.7s remaining) ...done. (3 seconds, 0 min)\n"
          ],
          "name": "stderr"
        },
        {
          "output_type": "stream",
          "text": [
            "Downloading data from https://s3.amazonaws.com/fcp-indi/data/Projects/ABIDE_Initiative/Outputs/cpac/nofilt_noglobal/func_preproc/NYU_0051079_func_preproc.nii.gz ...\n"
          ],
          "name": "stdout"
        },
        {
          "output_type": "stream",
          "text": [
            "Downloaded 87900160 of 109248036 bytes (80.5%,    0.5s remaining) ...done. (3 seconds, 0 min)\n"
          ],
          "name": "stderr"
        },
        {
          "output_type": "stream",
          "text": [
            "Downloading data from https://s3.amazonaws.com/fcp-indi/data/Projects/ABIDE_Initiative/Outputs/cpac/nofilt_noglobal/func_preproc/NYU_0051080_func_preproc.nii.gz ...\n"
          ],
          "name": "stdout"
        },
        {
          "output_type": "stream",
          "text": [
            "Downloaded 105005056 of 107921807 bytes (97.3%,    0.1s remaining) ...done. (3 seconds, 0 min)\n"
          ],
          "name": "stderr"
        },
        {
          "output_type": "stream",
          "text": [
            "Downloading data from https://s3.amazonaws.com/fcp-indi/data/Projects/ABIDE_Initiative/Outputs/cpac/nofilt_noglobal/func_preproc/NYU_0051081_func_preproc.nii.gz ...\n"
          ],
          "name": "stdout"
        },
        {
          "output_type": "stream",
          "text": [
            "Downloaded 92266496 of 109139995 bytes (84.5%,    0.4s remaining) ...done. (3 seconds, 0 min)\n"
          ],
          "name": "stderr"
        },
        {
          "output_type": "stream",
          "text": [
            "Downloading data from https://s3.amazonaws.com/fcp-indi/data/Projects/ABIDE_Initiative/Outputs/cpac/nofilt_noglobal/func_preproc/NYU_0051082_func_preproc.nii.gz ...\n"
          ],
          "name": "stdout"
        },
        {
          "output_type": "stream",
          "text": [
            "Downloaded 76840960 of 105867525 bytes (72.6%,    0.8s remaining) ...done. (3 seconds, 0 min)\n"
          ],
          "name": "stderr"
        },
        {
          "output_type": "stream",
          "text": [
            "Downloading data from https://s3.amazonaws.com/fcp-indi/data/Projects/ABIDE_Initiative/Outputs/cpac/nofilt_noglobal/func_preproc/NYU_0051083_func_preproc.nii.gz ...\n"
          ],
          "name": "stdout"
        },
        {
          "output_type": "stream",
          "text": [
            "Downloaded 75489280 of 107638724 bytes (70.1%,    0.9s remaining) ...done. (3 seconds, 0 min)\n"
          ],
          "name": "stderr"
        },
        {
          "output_type": "stream",
          "text": [
            "Downloading data from https://s3.amazonaws.com/fcp-indi/data/Projects/ABIDE_Initiative/Outputs/cpac/nofilt_noglobal/func_preproc/NYU_0051084_func_preproc.nii.gz ...\n"
          ],
          "name": "stdout"
        },
        {
          "output_type": "stream",
          "text": [
            "Downloaded 90513408 of 105473371 bytes (85.8%,    0.3s remaining) ...done. (3 seconds, 0 min)\n"
          ],
          "name": "stderr"
        },
        {
          "output_type": "stream",
          "text": [
            "Downloading data from https://s3.amazonaws.com/fcp-indi/data/Projects/ABIDE_Initiative/Outputs/cpac/nofilt_noglobal/func_preproc/NYU_0051085_func_preproc.nii.gz ...\n"
          ],
          "name": "stdout"
        },
        {
          "output_type": "stream",
          "text": [
            "Downloaded 83877888 of 110597090 bytes (75.8%,    0.7s remaining) ...done. (3 seconds, 0 min)\n"
          ],
          "name": "stderr"
        },
        {
          "output_type": "stream",
          "text": [
            "Downloading data from https://s3.amazonaws.com/fcp-indi/data/Projects/ABIDE_Initiative/Outputs/cpac/nofilt_noglobal/func_preproc/NYU_0051086_func_preproc.nii.gz ...\n"
          ],
          "name": "stdout"
        },
        {
          "output_type": "stream",
          "text": [
            "Downloaded 75489280 of 109812379 bytes (68.7%,    0.9s remaining) ...done. (3 seconds, 0 min)\n"
          ],
          "name": "stderr"
        },
        {
          "output_type": "stream",
          "text": [
            "Downloading data from https://s3.amazonaws.com/fcp-indi/data/Projects/ABIDE_Initiative/Outputs/cpac/nofilt_noglobal/func_preproc/NYU_0051087_func_preproc.nii.gz ...\n"
          ],
          "name": "stdout"
        },
        {
          "output_type": "stream",
          "text": [
            "Downloaded 86999040 of 99782513 bytes (87.2%,    0.3s remaining) ...done. (2 seconds, 0 min)\n"
          ],
          "name": "stderr"
        },
        {
          "output_type": "stream",
          "text": [
            "Downloading data from https://s3.amazonaws.com/fcp-indi/data/Projects/ABIDE_Initiative/Outputs/cpac/nofilt_noglobal/func_preproc/NYU_0051088_func_preproc.nii.gz ...\n"
          ],
          "name": "stdout"
        },
        {
          "output_type": "stream",
          "text": [
            "Downloaded 75489280 of 104729795 bytes (72.1%,    0.8s remaining) ...done. (3 seconds, 0 min)\n"
          ],
          "name": "stderr"
        },
        {
          "output_type": "stream",
          "text": [
            "Downloading data from https://s3.amazonaws.com/fcp-indi/data/Projects/ABIDE_Initiative/Outputs/cpac/nofilt_noglobal/func_preproc/NYU_0051089_func_preproc.nii.gz ...\n"
          ],
          "name": "stdout"
        },
        {
          "output_type": "stream",
          "text": [
            "Downloaded 83877888 of 107044720 bytes (78.4%,    0.6s remaining) ...done. (3 seconds, 0 min)\n"
          ],
          "name": "stderr"
        },
        {
          "output_type": "stream",
          "text": [
            "Downloading data from https://s3.amazonaws.com/fcp-indi/data/Projects/ABIDE_Initiative/Outputs/cpac/nofilt_noglobal/func_preproc/NYU_0051090_func_preproc.nii.gz ...\n"
          ],
          "name": "stdout"
        },
        {
          "output_type": "stream",
          "text": [
            "Downloaded 82124800 of 108960405 bytes (75.4%,    0.7s remaining) ...done. (3 seconds, 0 min)\n"
          ],
          "name": "stderr"
        },
        {
          "output_type": "stream",
          "text": [
            "Downloading data from https://s3.amazonaws.com/fcp-indi/data/Projects/ABIDE_Initiative/Outputs/cpac/nofilt_noglobal/func_preproc/NYU_0051091_func_preproc.nii.gz ...\n"
          ],
          "name": "stdout"
        },
        {
          "output_type": "stream",
          "text": [
            "Downloaded 72024064 of 103839696 bytes (69.4%,    0.9s remaining) ...done. (3 seconds, 0 min)\n"
          ],
          "name": "stderr"
        },
        {
          "output_type": "stream",
          "text": [
            "Downloading data from https://s3.amazonaws.com/fcp-indi/data/Projects/ABIDE_Initiative/Outputs/cpac/nofilt_noglobal/func_preproc/NYU_0051093_func_preproc.nii.gz ...\n"
          ],
          "name": "stdout"
        },
        {
          "output_type": "stream",
          "text": [
            "Downloaded 80158720 of 103431721 bytes (77.5%,    0.6s remaining) ...done. (3 seconds, 0 min)\n"
          ],
          "name": "stderr"
        },
        {
          "output_type": "stream",
          "text": [
            "Downloading data from https://s3.amazonaws.com/fcp-indi/data/Projects/ABIDE_Initiative/Outputs/cpac/nofilt_noglobal/func_preproc/NYU_0051094_func_preproc.nii.gz ...\n"
          ],
          "name": "stdout"
        },
        {
          "output_type": "stream",
          "text": [
            "Downloaded 86073344 of 105567147 bytes (81.5%,    0.5s remaining) ...done. (3 seconds, 0 min)\n"
          ],
          "name": "stderr"
        },
        {
          "output_type": "stream",
          "text": [
            "Downloading data from https://s3.amazonaws.com/fcp-indi/data/Projects/ABIDE_Initiative/Outputs/cpac/nofilt_noglobal/func_preproc/NYU_0051095_func_preproc.nii.gz ...\n"
          ],
          "name": "stdout"
        },
        {
          "output_type": "stream",
          "text": [
            "Downloaded 82124800 of 97507075 bytes (84.2%,    0.4s remaining) ...done. (2 seconds, 0 min)\n"
          ],
          "name": "stderr"
        },
        {
          "output_type": "stream",
          "text": [
            "Downloading data from https://s3.amazonaws.com/fcp-indi/data/Projects/ABIDE_Initiative/Outputs/cpac/nofilt_noglobal/func_preproc/NYU_0051096_func_preproc.nii.gz ...\n"
          ],
          "name": "stdout"
        },
        {
          "output_type": "stream",
          "text": [
            "Downloaded 78610432 of 102349394 bytes (76.8%,    0.6s remaining) ...done. (3 seconds, 0 min)\n"
          ],
          "name": "stderr"
        },
        {
          "output_type": "stream",
          "text": [
            "Downloading data from https://s3.amazonaws.com/fcp-indi/data/Projects/ABIDE_Initiative/Outputs/cpac/nofilt_noglobal/func_preproc/NYU_0051097_func_preproc.nii.gz ...\n"
          ],
          "name": "stdout"
        },
        {
          "output_type": "stream",
          "text": [
            "Downloaded 86073344 of 103087316 bytes (83.5%,    0.4s remaining) ...done. (3 seconds, 0 min)\n"
          ],
          "name": "stderr"
        },
        {
          "output_type": "stream",
          "text": [
            "Downloading data from https://s3.amazonaws.com/fcp-indi/data/Projects/ABIDE_Initiative/Outputs/cpac/nofilt_noglobal/func_preproc/NYU_0051098_func_preproc.nii.gz ...\n"
          ],
          "name": "stdout"
        },
        {
          "output_type": "stream",
          "text": [
            "Downloaded 100646912 of 100751861 bytes (99.9%,    0.0s remaining) ...done. (3 seconds, 0 min)\n"
          ],
          "name": "stderr"
        },
        {
          "output_type": "stream",
          "text": [
            "Downloading data from https://s3.amazonaws.com/fcp-indi/data/Projects/ABIDE_Initiative/Outputs/cpac/nofilt_noglobal/func_preproc/NYU_0051099_func_preproc.nii.gz ...\n"
          ],
          "name": "stdout"
        },
        {
          "output_type": "stream",
          "text": [
            "Downloaded 73744384 of 99909607 bytes (73.8%,    0.7s remaining) ...done. (3 seconds, 0 min)\n"
          ],
          "name": "stderr"
        },
        {
          "output_type": "stream",
          "text": [
            "Downloading data from https://s3.amazonaws.com/fcp-indi/data/Projects/ABIDE_Initiative/Outputs/cpac/nofilt_noglobal/func_preproc/NYU_0051100_func_preproc.nii.gz ...\n"
          ],
          "name": "stdout"
        },
        {
          "output_type": "stream",
          "text": [
            "Downloaded 103505920 of 103990069 bytes (99.5%,    0.0s remaining) ...done. (3 seconds, 0 min)\n"
          ],
          "name": "stderr"
        },
        {
          "output_type": "stream",
          "text": [
            "Downloading data from https://s3.amazonaws.com/fcp-indi/data/Projects/ABIDE_Initiative/Outputs/cpac/nofilt_noglobal/func_preproc/NYU_0051101_func_preproc.nii.gz ...\n"
          ],
          "name": "stdout"
        },
        {
          "output_type": "stream",
          "text": [
            "Downloaded 83877888 of 101606218 bytes (82.6%,    0.4s remaining) ...done. (3 seconds, 0 min)\n"
          ],
          "name": "stderr"
        },
        {
          "output_type": "stream",
          "text": [
            "Downloading data from https://s3.amazonaws.com/fcp-indi/data/Projects/ABIDE_Initiative/Outputs/cpac/nofilt_noglobal/func_preproc/NYU_0051102_func_preproc.nii.gz ...\n"
          ],
          "name": "stdout"
        },
        {
          "output_type": "stream",
          "text": [
            "Downloaded 96714752 of 104301430 bytes (92.7%,    0.2s remaining) ...done. (2 seconds, 0 min)\n"
          ],
          "name": "stderr"
        },
        {
          "output_type": "stream",
          "text": [
            "Downloading data from https://s3.amazonaws.com/fcp-indi/data/Projects/ABIDE_Initiative/Outputs/cpac/nofilt_noglobal/func_preproc/NYU_0051103_func_preproc.nii.gz ...\n"
          ],
          "name": "stdout"
        },
        {
          "output_type": "stream",
          "text": [
            "\rDownloaded 50323456 of 100024658 bytes (50.3%,    1.0s remaining) ...done. (2 seconds, 0 min)\n"
          ],
          "name": "stderr"
        },
        {
          "output_type": "stream",
          "text": [
            "Downloading data from https://s3.amazonaws.com/fcp-indi/data/Projects/ABIDE_Initiative/Outputs/cpac/nofilt_noglobal/func_preproc/NYU_0051104_func_preproc.nii.gz ...\n"
          ],
          "name": "stdout"
        },
        {
          "output_type": "stream",
          "text": [
            "\rDownloaded 58712064 of 92349915 bytes (63.6%,    0.6s remaining) ...done. (2 seconds, 0 min)\n"
          ],
          "name": "stderr"
        },
        {
          "output_type": "stream",
          "text": [
            "Downloading data from https://s3.amazonaws.com/fcp-indi/data/Projects/ABIDE_Initiative/Outputs/cpac/nofilt_noglobal/func_preproc/NYU_0051105_func_preproc.nii.gz ...\n"
          ],
          "name": "stdout"
        },
        {
          "output_type": "stream",
          "text": [
            "Downloaded 71270400 of 99462279 bytes (71.7%,    0.8s remaining) ...done. (3 seconds, 0 min)\n"
          ],
          "name": "stderr"
        },
        {
          "output_type": "stream",
          "text": [
            "Downloading data from https://s3.amazonaws.com/fcp-indi/data/Projects/ABIDE_Initiative/Outputs/cpac/nofilt_noglobal/func_preproc/NYU_0051106_func_preproc.nii.gz ...\n"
          ],
          "name": "stdout"
        },
        {
          "output_type": "stream",
          "text": [
            "Downloaded 75489280 of 96708456 bytes (78.1%,    0.6s remaining) ...done. (3 seconds, 0 min)\n"
          ],
          "name": "stderr"
        },
        {
          "output_type": "stream",
          "text": [
            "Downloading data from https://s3.amazonaws.com/fcp-indi/data/Projects/ABIDE_Initiative/Outputs/cpac/nofilt_noglobal/func_preproc/NYU_0051107_func_preproc.nii.gz ...\n"
          ],
          "name": "stdout"
        },
        {
          "output_type": "stream",
          "text": [
            "Downloaded 75325440 of 101333026 bytes (74.3%,    0.7s remaining) ...done. (3 seconds, 0 min)\n"
          ],
          "name": "stderr"
        },
        {
          "output_type": "stream",
          "text": [
            "Downloading data from https://s3.amazonaws.com/fcp-indi/data/Projects/ABIDE_Initiative/Outputs/cpac/nofilt_noglobal/func_preproc/NYU_0051109_func_preproc.nii.gz ...\n"
          ],
          "name": "stdout"
        },
        {
          "output_type": "stream",
          "text": [
            "Downloaded 67100672 of 100099310 bytes (67.0%,    1.0s remaining) ...done. (3 seconds, 0 min)\n"
          ],
          "name": "stderr"
        },
        {
          "output_type": "stream",
          "text": [
            "Downloading data from https://s3.amazonaws.com/fcp-indi/data/Projects/ABIDE_Initiative/Outputs/cpac/nofilt_noglobal/func_preproc/NYU_0051110_func_preproc.nii.gz ...\n"
          ],
          "name": "stdout"
        },
        {
          "output_type": "stream",
          "text": [
            "Downloaded 70778880 of 97589108 bytes (72.5%,    0.8s remaining) ...done. (3 seconds, 0 min)\n"
          ],
          "name": "stderr"
        },
        {
          "output_type": "stream",
          "text": [
            "Downloading data from https://s3.amazonaws.com/fcp-indi/data/Projects/ABIDE_Initiative/Outputs/cpac/nofilt_noglobal/func_preproc/NYU_0051111_func_preproc.nii.gz ...\n"
          ],
          "name": "stdout"
        },
        {
          "output_type": "stream",
          "text": [
            "Downloaded 65355776 of 101115759 bytes (64.6%,    1.2s remaining) ...done. (3 seconds, 0 min)\n"
          ],
          "name": "stderr"
        },
        {
          "output_type": "stream",
          "text": [
            "Downloading data from https://s3.amazonaws.com/fcp-indi/data/Projects/ABIDE_Initiative/Outputs/cpac/nofilt_noglobal/func_preproc/NYU_0051112_func_preproc.nii.gz ...\n"
          ],
          "name": "stdout"
        },
        {
          "output_type": "stream",
          "text": [
            "Downloaded 82124800 of 102382505 bytes (80.2%,    0.5s remaining) ...done. (3 seconds, 0 min)\n"
          ],
          "name": "stderr"
        },
        {
          "output_type": "stream",
          "text": [
            "Downloading data from https://s3.amazonaws.com/fcp-indi/data/Projects/ABIDE_Initiative/Outputs/cpac/nofilt_noglobal/func_preproc/NYU_0051113_func_preproc.nii.gz ...\n"
          ],
          "name": "stdout"
        },
        {
          "output_type": "stream",
          "text": [
            "Downloaded 96337920 of 101309282 bytes (95.1%,    0.2s remaining) ...done. (3 seconds, 0 min)\n"
          ],
          "name": "stderr"
        },
        {
          "output_type": "stream",
          "text": [
            "Downloading data from https://s3.amazonaws.com/fcp-indi/data/Projects/ABIDE_Initiative/Outputs/cpac/nofilt_noglobal/func_preproc/NYU_0051114_func_preproc.nii.gz ...\n"
          ],
          "name": "stdout"
        },
        {
          "output_type": "stream",
          "text": [
            "Downloaded 92266496 of 99372251 bytes (92.8%,    0.2s remaining) ...done. (4 seconds, 0 min)\n"
          ],
          "name": "stderr"
        },
        {
          "output_type": "stream",
          "text": [
            "Downloading data from https://s3.amazonaws.com/fcp-indi/data/Projects/ABIDE_Initiative/Outputs/cpac/nofilt_noglobal/func_preproc/NYU_0051116_func_preproc.nii.gz ...\n"
          ],
          "name": "stdout"
        },
        {
          "output_type": "stream",
          "text": [
            "Downloaded 79929344 of 98337196 bytes (81.3%,    0.5s remaining) ...done. (3 seconds, 0 min)\n"
          ],
          "name": "stderr"
        },
        {
          "output_type": "stream",
          "text": [
            "Downloading data from https://s3.amazonaws.com/fcp-indi/data/Projects/ABIDE_Initiative/Outputs/cpac/nofilt_noglobal/func_preproc/NYU_0051117_func_preproc.nii.gz ...\n"
          ],
          "name": "stdout"
        },
        {
          "output_type": "stream",
          "text": [
            "Downloaded 84262912 of 99169100 bytes (85.0%,    0.4s remaining) ...done. (3 seconds, 0 min)\n"
          ],
          "name": "stderr"
        },
        {
          "output_type": "stream",
          "text": [
            "Downloading data from https://s3.amazonaws.com/fcp-indi/data/Projects/ABIDE_Initiative/Outputs/cpac/nofilt_noglobal/func_preproc/NYU_0051118_func_preproc.nii.gz ...\n"
          ],
          "name": "stdout"
        },
        {
          "output_type": "stream",
          "text": [
            "Downloaded 100646912 of 103720774 bytes (97.0%,    0.1s remaining) ...done. (3 seconds, 0 min)\n"
          ],
          "name": "stderr"
        },
        {
          "output_type": "stream",
          "text": [
            "Downloading data from https://s3.amazonaws.com/fcp-indi/data/Projects/ABIDE_Initiative/Outputs/cpac/nofilt_noglobal/func_preproc/NYU_0051122_func_preproc.nii.gz ...\n"
          ],
          "name": "stdout"
        },
        {
          "output_type": "stream",
          "text": [
            "Downloaded 90513408 of 101796177 bytes (88.9%,    0.3s remaining) ...done. (3 seconds, 0 min)\n"
          ],
          "name": "stderr"
        },
        {
          "output_type": "stream",
          "text": [
            "Downloading data from https://s3.amazonaws.com/fcp-indi/data/Projects/ABIDE_Initiative/Outputs/cpac/nofilt_noglobal/func_preproc/NYU_0051123_func_preproc.nii.gz ...\n"
          ],
          "name": "stdout"
        },
        {
          "output_type": "stream",
          "text": [
            "Downloaded 82124800 of 98927066 bytes (83.0%,    0.5s remaining) ...done. (3 seconds, 0 min)\n"
          ],
          "name": "stderr"
        },
        {
          "output_type": "stream",
          "text": [
            "Downloading data from https://s3.amazonaws.com/fcp-indi/data/Projects/ABIDE_Initiative/Outputs/cpac/nofilt_noglobal/func_preproc/NYU_0051124_func_preproc.nii.gz ...\n"
          ],
          "name": "stdout"
        },
        {
          "output_type": "stream",
          "text": [
            "Downloaded 100646912 of 102409191 bytes (98.3%,    0.1s remaining) ...done. (3 seconds, 0 min)\n"
          ],
          "name": "stderr"
        },
        {
          "output_type": "stream",
          "text": [
            "Downloading data from https://s3.amazonaws.com/fcp-indi/data/Projects/ABIDE_Initiative/Outputs/cpac/nofilt_noglobal/func_preproc/NYU_0051126_func_preproc.nii.gz ...\n"
          ],
          "name": "stdout"
        },
        {
          "output_type": "stream",
          "text": [
            "Downloaded 88326144 of 102051397 bytes (86.6%,    0.3s remaining) ...done. (3 seconds, 0 min)\n"
          ],
          "name": "stderr"
        },
        {
          "output_type": "stream",
          "text": [
            "Downloading data from https://s3.amazonaws.com/fcp-indi/data/Projects/ABIDE_Initiative/Outputs/cpac/nofilt_noglobal/func_preproc/NYU_0051127_func_preproc.nii.gz ...\n"
          ],
          "name": "stdout"
        },
        {
          "output_type": "stream",
          "text": [
            "Downloaded 66215936 of 98568783 bytes (67.2%,    1.0s remaining) ...done. (3 seconds, 0 min)\n"
          ],
          "name": "stderr"
        },
        {
          "output_type": "stream",
          "text": [
            "Downloading data from https://s3.amazonaws.com/fcp-indi/data/Projects/ABIDE_Initiative/Outputs/cpac/nofilt_noglobal/func_preproc/NYU_0051128_func_preproc.nii.gz ...\n"
          ],
          "name": "stdout"
        },
        {
          "output_type": "stream",
          "text": [
            "Downloaded 64651264 of 98566709 bytes (65.6%,    1.1s remaining) ...done. (3 seconds, 0 min)\n"
          ],
          "name": "stderr"
        },
        {
          "output_type": "stream",
          "text": [
            "Downloading data from https://s3.amazonaws.com/fcp-indi/data/Projects/ABIDE_Initiative/Outputs/cpac/nofilt_noglobal/func_preproc/NYU_0051129_func_preproc.nii.gz ...\n"
          ],
          "name": "stdout"
        },
        {
          "output_type": "stream",
          "text": [
            "Downloaded 83877888 of 99276256 bytes (84.5%,    0.4s remaining) ...done. (2 seconds, 0 min)\n"
          ],
          "name": "stderr"
        },
        {
          "output_type": "stream",
          "text": [
            "Downloading data from https://s3.amazonaws.com/fcp-indi/data/Projects/ABIDE_Initiative/Outputs/cpac/nofilt_noglobal/func_preproc/NYU_0051130_func_preproc.nii.gz ...\n"
          ],
          "name": "stdout"
        },
        {
          "output_type": "stream",
          "text": [
            "Downloaded 65355776 of 99633292 bytes (65.6%,    1.1s remaining) ...done. (3 seconds, 0 min)\n"
          ],
          "name": "stderr"
        },
        {
          "output_type": "stream",
          "text": [
            "Downloading data from https://s3.amazonaws.com/fcp-indi/data/Projects/ABIDE_Initiative/Outputs/cpac/nofilt_noglobal/func_preproc/NYU_0051131_func_preproc.nii.gz ...\n"
          ],
          "name": "stdout"
        },
        {
          "output_type": "stream",
          "text": [
            "Downloaded 75489280 of 105494512 bytes (71.6%,    0.8s remaining) ...done. (3 seconds, 0 min)\n"
          ],
          "name": "stderr"
        },
        {
          "output_type": "stream",
          "text": [
            "Downloading data from https://s3.amazonaws.com/fcp-indi/data/Projects/ABIDE_Initiative/Outputs/cpac/nofilt_noglobal/func_preproc/NYU_0051146_func_preproc.nii.gz ...\n"
          ],
          "name": "stdout"
        },
        {
          "output_type": "stream",
          "text": [
            "Downloaded 74186752 of 99177944 bytes (74.8%,    1.1s remaining) ...done. (4 seconds, 0 min)\n"
          ],
          "name": "stderr"
        },
        {
          "output_type": "stream",
          "text": [
            "Downloading data from https://s3.amazonaws.com/fcp-indi/data/Projects/ABIDE_Initiative/Outputs/cpac/nofilt_noglobal/func_preproc/NYU_0051147_func_preproc.nii.gz ...\n"
          ],
          "name": "stdout"
        },
        {
          "output_type": "stream",
          "text": [
            "Downloaded 90513408 of 103052745 bytes (87.8%,    0.4s remaining) ...done. (4 seconds, 0 min)\n"
          ],
          "name": "stderr"
        },
        {
          "output_type": "stream",
          "text": [
            "Downloading data from https://s3.amazonaws.com/fcp-indi/data/Projects/ABIDE_Initiative/Outputs/cpac/nofilt_noglobal/func_preproc/NYU_0051148_func_preproc.nii.gz ...\n"
          ],
          "name": "stdout"
        },
        {
          "output_type": "stream",
          "text": [
            "Downloaded 81715200 of 96950507 bytes (84.3%,    0.4s remaining) ...done. (3 seconds, 0 min)\n"
          ],
          "name": "stderr"
        },
        {
          "output_type": "stream",
          "text": [
            "Downloading data from https://s3.amazonaws.com/fcp-indi/data/Projects/ABIDE_Initiative/Outputs/cpac/nofilt_noglobal/func_preproc/NYU_0051149_func_preproc.nii.gz ...\n"
          ],
          "name": "stdout"
        },
        {
          "output_type": "stream",
          "text": [
            "Downloaded 76668928 of 99924523 bytes (76.7%,    0.6s remaining) ...done. (2 seconds, 0 min)\n"
          ],
          "name": "stderr"
        },
        {
          "output_type": "stream",
          "text": [
            "Downloading data from https://s3.amazonaws.com/fcp-indi/data/Projects/ABIDE_Initiative/Outputs/cpac/nofilt_noglobal/func_preproc/NYU_0051150_func_preproc.nii.gz ...\n"
          ],
          "name": "stdout"
        },
        {
          "output_type": "stream",
          "text": [
            "Downloaded 68493312 of 97887200 bytes (70.0%,    0.9s remaining) ...done. (3 seconds, 0 min)\n"
          ],
          "name": "stderr"
        },
        {
          "output_type": "stream",
          "text": [
            "Downloading data from https://s3.amazonaws.com/fcp-indi/data/Projects/ABIDE_Initiative/Outputs/cpac/nofilt_noglobal/func_preproc/NYU_0051151_func_preproc.nii.gz ...\n"
          ],
          "name": "stdout"
        },
        {
          "output_type": "stream",
          "text": [
            "Downloaded 67100672 of 99958258 bytes (67.1%,    1.0s remaining) ...done. (3 seconds, 0 min)\n"
          ],
          "name": "stderr"
        },
        {
          "output_type": "stream",
          "text": [
            "Downloading data from https://s3.amazonaws.com/fcp-indi/data/Projects/ABIDE_Initiative/Outputs/cpac/nofilt_noglobal/func_preproc/NYU_0051152_func_preproc.nii.gz ...\n"
          ],
          "name": "stdout"
        },
        {
          "output_type": "stream",
          "text": [
            "Downloaded 83877888 of 98314827 bytes (85.3%,    0.4s remaining) ...done. (3 seconds, 0 min)\n"
          ],
          "name": "stderr"
        },
        {
          "output_type": "stream",
          "text": [
            "Downloading data from https://s3.amazonaws.com/fcp-indi/data/Projects/ABIDE_Initiative/Outputs/cpac/nofilt_noglobal/func_preproc/NYU_0051153_func_preproc.nii.gz ...\n"
          ],
          "name": "stdout"
        },
        {
          "output_type": "stream",
          "text": [
            "Downloaded 67100672 of 98141830 bytes (68.4%,    0.9s remaining) ...done. (3 seconds, 0 min)\n"
          ],
          "name": "stderr"
        },
        {
          "output_type": "stream",
          "text": [
            "Downloading data from https://s3.amazonaws.com/fcp-indi/data/Projects/ABIDE_Initiative/Outputs/cpac/nofilt_noglobal/func_preproc/NYU_0051154_func_preproc.nii.gz ...\n"
          ],
          "name": "stdout"
        },
        {
          "output_type": "stream",
          "text": [
            "Downloaded 69623808 of 102517396 bytes (67.9%,    1.0s remaining) ...done. (3 seconds, 0 min)\n"
          ],
          "name": "stderr"
        },
        {
          "output_type": "stream",
          "text": [
            "Downloading data from https://s3.amazonaws.com/fcp-indi/data/Projects/ABIDE_Initiative/Outputs/cpac/nofilt_noglobal/func_preproc/NYU_0051155_func_preproc.nii.gz ...\n"
          ],
          "name": "stdout"
        },
        {
          "output_type": "stream",
          "text": [
            "Downloaded 81190912 of 99067464 bytes (82.0%,    0.5s remaining) ...done. (3 seconds, 0 min)\n"
          ],
          "name": "stderr"
        },
        {
          "output_type": "stream",
          "text": [
            "Downloading data from https://s3.amazonaws.com/fcp-indi/data/Projects/ABIDE_Initiative/Outputs/cpac/nofilt_noglobal/func_preproc/NYU_0051156_func_preproc.nii.gz ...\n"
          ],
          "name": "stdout"
        },
        {
          "output_type": "stream",
          "text": [
            "Downloaded 69926912 of 98193919 bytes (71.2%,    0.8s remaining) ...done. (3 seconds, 0 min)\n"
          ],
          "name": "stderr"
        },
        {
          "output_type": "stream",
          "text": [
            "Downloading data from https://s3.amazonaws.com/fcp-indi/data/Projects/ABIDE_Initiative/Outputs/cpac/nofilt_noglobal/func_preproc/NYU_0051159_func_preproc.nii.gz ...\n"
          ],
          "name": "stdout"
        },
        {
          "output_type": "stream",
          "text": [
            "Downloaded 98910208 of 103771016 bytes (95.3%,    0.2s remaining) ...done. (4 seconds, 0 min)\n",
            " ...done. (0 seconds, 0 min)\n"
          ],
          "name": "stderr"
        },
        {
          "output_type": "stream",
          "text": [
            "Downloading data from https://s3.amazonaws.com/fcp-indi/data/Projects/ABIDE_Initiative/Outputs/cpac/nofilt_noglobal/rois_aal/NYU_0050952_rois_aal.1D ...\n",
            "Downloading data from https://s3.amazonaws.com/fcp-indi/data/Projects/ABIDE_Initiative/Outputs/cpac/nofilt_noglobal/rois_aal/NYU_0050954_rois_aal.1D ...\n"
          ],
          "name": "stdout"
        },
        {
          "output_type": "stream",
          "text": [
            " ...done. (0 seconds, 0 min)\n",
            " ...done. (0 seconds, 0 min)\n"
          ],
          "name": "stderr"
        },
        {
          "output_type": "stream",
          "text": [
            "Downloading data from https://s3.amazonaws.com/fcp-indi/data/Projects/ABIDE_Initiative/Outputs/cpac/nofilt_noglobal/rois_aal/NYU_0050955_rois_aal.1D ...\n",
            "Downloading data from https://s3.amazonaws.com/fcp-indi/data/Projects/ABIDE_Initiative/Outputs/cpac/nofilt_noglobal/rois_aal/NYU_0050956_rois_aal.1D ...\n"
          ],
          "name": "stdout"
        },
        {
          "output_type": "stream",
          "text": [
            " ...done. (0 seconds, 0 min)\n",
            " ...done. (0 seconds, 0 min)\n"
          ],
          "name": "stderr"
        },
        {
          "output_type": "stream",
          "text": [
            "Downloading data from https://s3.amazonaws.com/fcp-indi/data/Projects/ABIDE_Initiative/Outputs/cpac/nofilt_noglobal/rois_aal/NYU_0050957_rois_aal.1D ...\n",
            "Downloading data from https://s3.amazonaws.com/fcp-indi/data/Projects/ABIDE_Initiative/Outputs/cpac/nofilt_noglobal/rois_aal/NYU_0050958_rois_aal.1D ...\n"
          ],
          "name": "stdout"
        },
        {
          "output_type": "stream",
          "text": [
            " ...done. (0 seconds, 0 min)\n",
            " ...done. (0 seconds, 0 min)\n"
          ],
          "name": "stderr"
        },
        {
          "output_type": "stream",
          "text": [
            "Downloading data from https://s3.amazonaws.com/fcp-indi/data/Projects/ABIDE_Initiative/Outputs/cpac/nofilt_noglobal/rois_aal/NYU_0050959_rois_aal.1D ...\n",
            "Downloading data from https://s3.amazonaws.com/fcp-indi/data/Projects/ABIDE_Initiative/Outputs/cpac/nofilt_noglobal/rois_aal/NYU_0050960_rois_aal.1D ...\n"
          ],
          "name": "stdout"
        },
        {
          "output_type": "stream",
          "text": [
            " ...done. (0 seconds, 0 min)\n",
            " ...done. (0 seconds, 0 min)\n"
          ],
          "name": "stderr"
        },
        {
          "output_type": "stream",
          "text": [
            "Downloading data from https://s3.amazonaws.com/fcp-indi/data/Projects/ABIDE_Initiative/Outputs/cpac/nofilt_noglobal/rois_aal/NYU_0050961_rois_aal.1D ...\n",
            "Downloading data from https://s3.amazonaws.com/fcp-indi/data/Projects/ABIDE_Initiative/Outputs/cpac/nofilt_noglobal/rois_aal/NYU_0050962_rois_aal.1D ...\n"
          ],
          "name": "stdout"
        },
        {
          "output_type": "stream",
          "text": [
            " ...done. (0 seconds, 0 min)\n",
            " ...done. (0 seconds, 0 min)\n"
          ],
          "name": "stderr"
        },
        {
          "output_type": "stream",
          "text": [
            "Downloading data from https://s3.amazonaws.com/fcp-indi/data/Projects/ABIDE_Initiative/Outputs/cpac/nofilt_noglobal/rois_aal/NYU_0050964_rois_aal.1D ...\n",
            "Downloading data from https://s3.amazonaws.com/fcp-indi/data/Projects/ABIDE_Initiative/Outputs/cpac/nofilt_noglobal/rois_aal/NYU_0050965_rois_aal.1D ...\n"
          ],
          "name": "stdout"
        },
        {
          "output_type": "stream",
          "text": [
            " ...done. (0 seconds, 0 min)\n",
            " ...done. (0 seconds, 0 min)\n",
            " ...done. (0 seconds, 0 min)\n"
          ],
          "name": "stderr"
        },
        {
          "output_type": "stream",
          "text": [
            "Downloading data from https://s3.amazonaws.com/fcp-indi/data/Projects/ABIDE_Initiative/Outputs/cpac/nofilt_noglobal/rois_aal/NYU_0050966_rois_aal.1D ...\n",
            "Downloading data from https://s3.amazonaws.com/fcp-indi/data/Projects/ABIDE_Initiative/Outputs/cpac/nofilt_noglobal/rois_aal/NYU_0050967_rois_aal.1D ...\n",
            "Downloading data from https://s3.amazonaws.com/fcp-indi/data/Projects/ABIDE_Initiative/Outputs/cpac/nofilt_noglobal/rois_aal/NYU_0050968_rois_aal.1D ...\n"
          ],
          "name": "stdout"
        },
        {
          "output_type": "stream",
          "text": [
            " ...done. (0 seconds, 0 min)\n"
          ],
          "name": "stderr"
        },
        {
          "output_type": "stream",
          "text": [
            "Downloading data from https://s3.amazonaws.com/fcp-indi/data/Projects/ABIDE_Initiative/Outputs/cpac/nofilt_noglobal/rois_aal/NYU_0050969_rois_aal.1D ...\n"
          ],
          "name": "stdout"
        },
        {
          "output_type": "stream",
          "text": [
            " ...done. (0 seconds, 0 min)\n",
            " ...done. (0 seconds, 0 min)\n"
          ],
          "name": "stderr"
        },
        {
          "output_type": "stream",
          "text": [
            "Downloading data from https://s3.amazonaws.com/fcp-indi/data/Projects/ABIDE_Initiative/Outputs/cpac/nofilt_noglobal/rois_aal/NYU_0050970_rois_aal.1D ...\n",
            "Downloading data from https://s3.amazonaws.com/fcp-indi/data/Projects/ABIDE_Initiative/Outputs/cpac/nofilt_noglobal/rois_aal/NYU_0050972_rois_aal.1D ...\n"
          ],
          "name": "stdout"
        },
        {
          "output_type": "stream",
          "text": [
            " ...done. (0 seconds, 0 min)\n",
            " ...done. (0 seconds, 0 min)\n"
          ],
          "name": "stderr"
        },
        {
          "output_type": "stream",
          "text": [
            "Downloading data from https://s3.amazonaws.com/fcp-indi/data/Projects/ABIDE_Initiative/Outputs/cpac/nofilt_noglobal/rois_aal/NYU_0050973_rois_aal.1D ...\n",
            "Downloading data from https://s3.amazonaws.com/fcp-indi/data/Projects/ABIDE_Initiative/Outputs/cpac/nofilt_noglobal/rois_aal/NYU_0050974_rois_aal.1D ...\n"
          ],
          "name": "stdout"
        },
        {
          "output_type": "stream",
          "text": [
            " ...done. (0 seconds, 0 min)\n",
            " ...done. (0 seconds, 0 min)\n"
          ],
          "name": "stderr"
        },
        {
          "output_type": "stream",
          "text": [
            "Downloading data from https://s3.amazonaws.com/fcp-indi/data/Projects/ABIDE_Initiative/Outputs/cpac/nofilt_noglobal/rois_aal/NYU_0050976_rois_aal.1D ...\n",
            "Downloading data from https://s3.amazonaws.com/fcp-indi/data/Projects/ABIDE_Initiative/Outputs/cpac/nofilt_noglobal/rois_aal/NYU_0050977_rois_aal.1D ...\n"
          ],
          "name": "stdout"
        },
        {
          "output_type": "stream",
          "text": [
            " ...done. (0 seconds, 0 min)\n",
            " ...done. (0 seconds, 0 min)\n"
          ],
          "name": "stderr"
        },
        {
          "output_type": "stream",
          "text": [
            "Downloading data from https://s3.amazonaws.com/fcp-indi/data/Projects/ABIDE_Initiative/Outputs/cpac/nofilt_noglobal/rois_aal/NYU_0050978_rois_aal.1D ...\n",
            "Downloading data from https://s3.amazonaws.com/fcp-indi/data/Projects/ABIDE_Initiative/Outputs/cpac/nofilt_noglobal/rois_aal/NYU_0050979_rois_aal.1D ...\n"
          ],
          "name": "stdout"
        },
        {
          "output_type": "stream",
          "text": [
            " ...done. (0 seconds, 0 min)\n",
            " ...done. (0 seconds, 0 min)\n"
          ],
          "name": "stderr"
        },
        {
          "output_type": "stream",
          "text": [
            "Downloading data from https://s3.amazonaws.com/fcp-indi/data/Projects/ABIDE_Initiative/Outputs/cpac/nofilt_noglobal/rois_aal/NYU_0050981_rois_aal.1D ...\n",
            "Downloading data from https://s3.amazonaws.com/fcp-indi/data/Projects/ABIDE_Initiative/Outputs/cpac/nofilt_noglobal/rois_aal/NYU_0050982_rois_aal.1D ...\n"
          ],
          "name": "stdout"
        },
        {
          "output_type": "stream",
          "text": [
            " ...done. (0 seconds, 0 min)\n",
            " ...done. (0 seconds, 0 min)\n",
            " ...done. (0 seconds, 0 min)\n"
          ],
          "name": "stderr"
        },
        {
          "output_type": "stream",
          "text": [
            "Downloading data from https://s3.amazonaws.com/fcp-indi/data/Projects/ABIDE_Initiative/Outputs/cpac/nofilt_noglobal/rois_aal/NYU_0050983_rois_aal.1D ...\n",
            "Downloading data from https://s3.amazonaws.com/fcp-indi/data/Projects/ABIDE_Initiative/Outputs/cpac/nofilt_noglobal/rois_aal/NYU_0050984_rois_aal.1D ...\n",
            "Downloading data from https://s3.amazonaws.com/fcp-indi/data/Projects/ABIDE_Initiative/Outputs/cpac/nofilt_noglobal/rois_aal/NYU_0050985_rois_aal.1D ...\n"
          ],
          "name": "stdout"
        },
        {
          "output_type": "stream",
          "text": [
            " ...done. (0 seconds, 0 min)\n",
            " ...done. (0 seconds, 0 min)\n"
          ],
          "name": "stderr"
        },
        {
          "output_type": "stream",
          "text": [
            "Downloading data from https://s3.amazonaws.com/fcp-indi/data/Projects/ABIDE_Initiative/Outputs/cpac/nofilt_noglobal/rois_aal/NYU_0050986_rois_aal.1D ...\n",
            "Downloading data from https://s3.amazonaws.com/fcp-indi/data/Projects/ABIDE_Initiative/Outputs/cpac/nofilt_noglobal/rois_aal/NYU_0050987_rois_aal.1D ...\n"
          ],
          "name": "stdout"
        },
        {
          "output_type": "stream",
          "text": [
            " ...done. (0 seconds, 0 min)\n",
            " ...done. (0 seconds, 0 min)\n"
          ],
          "name": "stderr"
        },
        {
          "output_type": "stream",
          "text": [
            "Downloading data from https://s3.amazonaws.com/fcp-indi/data/Projects/ABIDE_Initiative/Outputs/cpac/nofilt_noglobal/rois_aal/NYU_0050988_rois_aal.1D ...\n",
            "Downloading data from https://s3.amazonaws.com/fcp-indi/data/Projects/ABIDE_Initiative/Outputs/cpac/nofilt_noglobal/rois_aal/NYU_0050989_rois_aal.1D ...\n"
          ],
          "name": "stdout"
        },
        {
          "output_type": "stream",
          "text": [
            " ...done. (0 seconds, 0 min)\n",
            " ...done. (0 seconds, 0 min)\n"
          ],
          "name": "stderr"
        },
        {
          "output_type": "stream",
          "text": [
            "Downloading data from https://s3.amazonaws.com/fcp-indi/data/Projects/ABIDE_Initiative/Outputs/cpac/nofilt_noglobal/rois_aal/NYU_0050990_rois_aal.1D ...\n",
            "Downloading data from https://s3.amazonaws.com/fcp-indi/data/Projects/ABIDE_Initiative/Outputs/cpac/nofilt_noglobal/rois_aal/NYU_0050991_rois_aal.1D ...\n"
          ],
          "name": "stdout"
        },
        {
          "output_type": "stream",
          "text": [
            " ...done. (0 seconds, 0 min)\n",
            " ...done. (0 seconds, 0 min)\n"
          ],
          "name": "stderr"
        },
        {
          "output_type": "stream",
          "text": [
            "Downloading data from https://s3.amazonaws.com/fcp-indi/data/Projects/ABIDE_Initiative/Outputs/cpac/nofilt_noglobal/rois_aal/NYU_0050992_rois_aal.1D ...\n",
            "Downloading data from https://s3.amazonaws.com/fcp-indi/data/Projects/ABIDE_Initiative/Outputs/cpac/nofilt_noglobal/rois_aal/NYU_0050993_rois_aal.1D ...\n"
          ],
          "name": "stdout"
        },
        {
          "output_type": "stream",
          "text": [
            " ...done. (0 seconds, 0 min)\n",
            " ...done. (0 seconds, 0 min)\n",
            " ...done. (0 seconds, 0 min)\n"
          ],
          "name": "stderr"
        },
        {
          "output_type": "stream",
          "text": [
            "Downloading data from https://s3.amazonaws.com/fcp-indi/data/Projects/ABIDE_Initiative/Outputs/cpac/nofilt_noglobal/rois_aal/NYU_0050994_rois_aal.1D ...\n",
            "Downloading data from https://s3.amazonaws.com/fcp-indi/data/Projects/ABIDE_Initiative/Outputs/cpac/nofilt_noglobal/rois_aal/NYU_0050995_rois_aal.1D ...\n",
            "Downloading data from https://s3.amazonaws.com/fcp-indi/data/Projects/ABIDE_Initiative/Outputs/cpac/nofilt_noglobal/rois_aal/NYU_0050996_rois_aal.1D ...\n"
          ],
          "name": "stdout"
        },
        {
          "output_type": "stream",
          "text": [
            " ...done. (0 seconds, 0 min)\n",
            " ...done. (0 seconds, 0 min)\n",
            " ...done. (0 seconds, 0 min)\n"
          ],
          "name": "stderr"
        },
        {
          "output_type": "stream",
          "text": [
            "Downloading data from https://s3.amazonaws.com/fcp-indi/data/Projects/ABIDE_Initiative/Outputs/cpac/nofilt_noglobal/rois_aal/NYU_0050997_rois_aal.1D ...\n",
            "Downloading data from https://s3.amazonaws.com/fcp-indi/data/Projects/ABIDE_Initiative/Outputs/cpac/nofilt_noglobal/rois_aal/NYU_0050999_rois_aal.1D ...\n",
            "Downloading data from https://s3.amazonaws.com/fcp-indi/data/Projects/ABIDE_Initiative/Outputs/cpac/nofilt_noglobal/rois_aal/NYU_0051000_rois_aal.1D ...\n"
          ],
          "name": "stdout"
        },
        {
          "output_type": "stream",
          "text": [
            " ...done. (0 seconds, 0 min)\n",
            " ...done. (0 seconds, 0 min)\n",
            " ...done. (0 seconds, 0 min)\n"
          ],
          "name": "stderr"
        },
        {
          "output_type": "stream",
          "text": [
            "Downloading data from https://s3.amazonaws.com/fcp-indi/data/Projects/ABIDE_Initiative/Outputs/cpac/nofilt_noglobal/rois_aal/NYU_0051001_rois_aal.1D ...\n",
            "Downloading data from https://s3.amazonaws.com/fcp-indi/data/Projects/ABIDE_Initiative/Outputs/cpac/nofilt_noglobal/rois_aal/NYU_0051002_rois_aal.1D ...\n",
            "Downloading data from https://s3.amazonaws.com/fcp-indi/data/Projects/ABIDE_Initiative/Outputs/cpac/nofilt_noglobal/rois_aal/NYU_0051003_rois_aal.1D ...\n"
          ],
          "name": "stdout"
        },
        {
          "output_type": "stream",
          "text": [
            " ...done. (0 seconds, 0 min)\n",
            " ...done. (0 seconds, 0 min)\n"
          ],
          "name": "stderr"
        },
        {
          "output_type": "stream",
          "text": [
            "Downloading data from https://s3.amazonaws.com/fcp-indi/data/Projects/ABIDE_Initiative/Outputs/cpac/nofilt_noglobal/rois_aal/NYU_0051006_rois_aal.1D ...\n",
            "Downloading data from https://s3.amazonaws.com/fcp-indi/data/Projects/ABIDE_Initiative/Outputs/cpac/nofilt_noglobal/rois_aal/NYU_0051007_rois_aal.1D ...\n"
          ],
          "name": "stdout"
        },
        {
          "output_type": "stream",
          "text": [
            " ...done. (0 seconds, 0 min)\n",
            " ...done. (0 seconds, 0 min)\n"
          ],
          "name": "stderr"
        },
        {
          "output_type": "stream",
          "text": [
            "Downloading data from https://s3.amazonaws.com/fcp-indi/data/Projects/ABIDE_Initiative/Outputs/cpac/nofilt_noglobal/rois_aal/NYU_0051008_rois_aal.1D ...\n",
            "Downloading data from https://s3.amazonaws.com/fcp-indi/data/Projects/ABIDE_Initiative/Outputs/cpac/nofilt_noglobal/rois_aal/NYU_0051009_rois_aal.1D ...\n"
          ],
          "name": "stdout"
        },
        {
          "output_type": "stream",
          "text": [
            " ...done. (0 seconds, 0 min)\n",
            " ...done. (0 seconds, 0 min)\n"
          ],
          "name": "stderr"
        },
        {
          "output_type": "stream",
          "text": [
            "Downloading data from https://s3.amazonaws.com/fcp-indi/data/Projects/ABIDE_Initiative/Outputs/cpac/nofilt_noglobal/rois_aal/NYU_0051010_rois_aal.1D ...\n",
            "Downloading data from https://s3.amazonaws.com/fcp-indi/data/Projects/ABIDE_Initiative/Outputs/cpac/nofilt_noglobal/rois_aal/NYU_0051011_rois_aal.1D ...\n"
          ],
          "name": "stdout"
        },
        {
          "output_type": "stream",
          "text": [
            " ...done. (0 seconds, 0 min)\n",
            " ...done. (0 seconds, 0 min)\n"
          ],
          "name": "stderr"
        },
        {
          "output_type": "stream",
          "text": [
            "Downloading data from https://s3.amazonaws.com/fcp-indi/data/Projects/ABIDE_Initiative/Outputs/cpac/nofilt_noglobal/rois_aal/NYU_0051012_rois_aal.1D ...\n",
            "Downloading data from https://s3.amazonaws.com/fcp-indi/data/Projects/ABIDE_Initiative/Outputs/cpac/nofilt_noglobal/rois_aal/NYU_0051013_rois_aal.1D ...\n"
          ],
          "name": "stdout"
        },
        {
          "output_type": "stream",
          "text": [
            " ...done. (0 seconds, 0 min)\n",
            " ...done. (0 seconds, 0 min)\n"
          ],
          "name": "stderr"
        },
        {
          "output_type": "stream",
          "text": [
            "Downloading data from https://s3.amazonaws.com/fcp-indi/data/Projects/ABIDE_Initiative/Outputs/cpac/nofilt_noglobal/rois_aal/NYU_0051014_rois_aal.1D ...\n",
            "Downloading data from https://s3.amazonaws.com/fcp-indi/data/Projects/ABIDE_Initiative/Outputs/cpac/nofilt_noglobal/rois_aal/NYU_0051015_rois_aal.1D ...\n"
          ],
          "name": "stdout"
        },
        {
          "output_type": "stream",
          "text": [
            " ...done. (0 seconds, 0 min)\n",
            " ...done. (0 seconds, 0 min)\n"
          ],
          "name": "stderr"
        },
        {
          "output_type": "stream",
          "text": [
            "Downloading data from https://s3.amazonaws.com/fcp-indi/data/Projects/ABIDE_Initiative/Outputs/cpac/nofilt_noglobal/rois_aal/NYU_0051016_rois_aal.1D ...\n",
            "Downloading data from https://s3.amazonaws.com/fcp-indi/data/Projects/ABIDE_Initiative/Outputs/cpac/nofilt_noglobal/rois_aal/NYU_0051017_rois_aal.1D ...\n"
          ],
          "name": "stdout"
        },
        {
          "output_type": "stream",
          "text": [
            " ...done. (0 seconds, 0 min)\n",
            " ...done. (0 seconds, 0 min)\n"
          ],
          "name": "stderr"
        },
        {
          "output_type": "stream",
          "text": [
            "Downloading data from https://s3.amazonaws.com/fcp-indi/data/Projects/ABIDE_Initiative/Outputs/cpac/nofilt_noglobal/rois_aal/NYU_0051018_rois_aal.1D ...\n",
            "Downloading data from https://s3.amazonaws.com/fcp-indi/data/Projects/ABIDE_Initiative/Outputs/cpac/nofilt_noglobal/rois_aal/NYU_0051019_rois_aal.1D ...\n"
          ],
          "name": "stdout"
        },
        {
          "output_type": "stream",
          "text": [
            " ...done. (0 seconds, 0 min)\n"
          ],
          "name": "stderr"
        },
        {
          "output_type": "stream",
          "text": [
            "Downloading data from https://s3.amazonaws.com/fcp-indi/data/Projects/ABIDE_Initiative/Outputs/cpac/nofilt_noglobal/rois_aal/NYU_0051020_rois_aal.1D ...\n"
          ],
          "name": "stdout"
        },
        {
          "output_type": "stream",
          "text": [
            " ...done. (0 seconds, 0 min)\n",
            " ...done. (0 seconds, 0 min)\n",
            " ...done. (0 seconds, 0 min)\n"
          ],
          "name": "stderr"
        },
        {
          "output_type": "stream",
          "text": [
            "Downloading data from https://s3.amazonaws.com/fcp-indi/data/Projects/ABIDE_Initiative/Outputs/cpac/nofilt_noglobal/rois_aal/NYU_0051021_rois_aal.1D ...\n",
            "Downloading data from https://s3.amazonaws.com/fcp-indi/data/Projects/ABIDE_Initiative/Outputs/cpac/nofilt_noglobal/rois_aal/NYU_0051023_rois_aal.1D ...\n",
            "Downloading data from https://s3.amazonaws.com/fcp-indi/data/Projects/ABIDE_Initiative/Outputs/cpac/nofilt_noglobal/rois_aal/NYU_0051024_rois_aal.1D ...\n"
          ],
          "name": "stdout"
        },
        {
          "output_type": "stream",
          "text": [
            " ...done. (0 seconds, 0 min)\n",
            " ...done. (0 seconds, 0 min)\n"
          ],
          "name": "stderr"
        },
        {
          "output_type": "stream",
          "text": [
            "Downloading data from https://s3.amazonaws.com/fcp-indi/data/Projects/ABIDE_Initiative/Outputs/cpac/nofilt_noglobal/rois_aal/NYU_0051025_rois_aal.1D ...\n",
            "Downloading data from https://s3.amazonaws.com/fcp-indi/data/Projects/ABIDE_Initiative/Outputs/cpac/nofilt_noglobal/rois_aal/NYU_0051026_rois_aal.1D ...\n"
          ],
          "name": "stdout"
        },
        {
          "output_type": "stream",
          "text": [
            " ...done. (0 seconds, 0 min)\n",
            " ...done. (0 seconds, 0 min)\n"
          ],
          "name": "stderr"
        },
        {
          "output_type": "stream",
          "text": [
            "Downloading data from https://s3.amazonaws.com/fcp-indi/data/Projects/ABIDE_Initiative/Outputs/cpac/nofilt_noglobal/rois_aal/NYU_0051027_rois_aal.1D ...\n",
            "Downloading data from https://s3.amazonaws.com/fcp-indi/data/Projects/ABIDE_Initiative/Outputs/cpac/nofilt_noglobal/rois_aal/NYU_0051028_rois_aal.1D ...\n"
          ],
          "name": "stdout"
        },
        {
          "output_type": "stream",
          "text": [
            " ...done. (0 seconds, 0 min)\n",
            " ...done. (0 seconds, 0 min)\n",
            " ...done. (0 seconds, 0 min)\n"
          ],
          "name": "stderr"
        },
        {
          "output_type": "stream",
          "text": [
            "Downloading data from https://s3.amazonaws.com/fcp-indi/data/Projects/ABIDE_Initiative/Outputs/cpac/nofilt_noglobal/rois_aal/NYU_0051029_rois_aal.1D ...\n",
            "Downloading data from https://s3.amazonaws.com/fcp-indi/data/Projects/ABIDE_Initiative/Outputs/cpac/nofilt_noglobal/rois_aal/NYU_0051030_rois_aal.1D ...\n",
            "Downloading data from https://s3.amazonaws.com/fcp-indi/data/Projects/ABIDE_Initiative/Outputs/cpac/nofilt_noglobal/rois_aal/NYU_0051032_rois_aal.1D ...\n"
          ],
          "name": "stdout"
        },
        {
          "output_type": "stream",
          "text": [
            " ...done. (0 seconds, 0 min)\n",
            " ...done. (0 seconds, 0 min)\n"
          ],
          "name": "stderr"
        },
        {
          "output_type": "stream",
          "text": [
            "Downloading data from https://s3.amazonaws.com/fcp-indi/data/Projects/ABIDE_Initiative/Outputs/cpac/nofilt_noglobal/rois_aal/NYU_0051033_rois_aal.1D ...\n",
            "Downloading data from https://s3.amazonaws.com/fcp-indi/data/Projects/ABIDE_Initiative/Outputs/cpac/nofilt_noglobal/rois_aal/NYU_0051034_rois_aal.1D ...\n"
          ],
          "name": "stdout"
        },
        {
          "output_type": "stream",
          "text": [
            " ...done. (0 seconds, 0 min)\n",
            " ...done. (0 seconds, 0 min)\n",
            " ...done. (0 seconds, 0 min)\n"
          ],
          "name": "stderr"
        },
        {
          "output_type": "stream",
          "text": [
            "Downloading data from https://s3.amazonaws.com/fcp-indi/data/Projects/ABIDE_Initiative/Outputs/cpac/nofilt_noglobal/rois_aal/NYU_0051035_rois_aal.1D ...\n",
            "Downloading data from https://s3.amazonaws.com/fcp-indi/data/Projects/ABIDE_Initiative/Outputs/cpac/nofilt_noglobal/rois_aal/NYU_0051036_rois_aal.1D ...\n",
            "Downloading data from https://s3.amazonaws.com/fcp-indi/data/Projects/ABIDE_Initiative/Outputs/cpac/nofilt_noglobal/rois_aal/NYU_0051038_rois_aal.1D ...\n"
          ],
          "name": "stdout"
        },
        {
          "output_type": "stream",
          "text": [
            " ...done. (0 seconds, 0 min)\n",
            " ...done. (0 seconds, 0 min)\n",
            " ...done. (0 seconds, 0 min)\n"
          ],
          "name": "stderr"
        },
        {
          "output_type": "stream",
          "text": [
            "Downloading data from https://s3.amazonaws.com/fcp-indi/data/Projects/ABIDE_Initiative/Outputs/cpac/nofilt_noglobal/rois_aal/NYU_0051039_rois_aal.1D ...\n",
            "Downloading data from https://s3.amazonaws.com/fcp-indi/data/Projects/ABIDE_Initiative/Outputs/cpac/nofilt_noglobal/rois_aal/NYU_0051040_rois_aal.1D ...\n",
            "Downloading data from https://s3.amazonaws.com/fcp-indi/data/Projects/ABIDE_Initiative/Outputs/cpac/nofilt_noglobal/rois_aal/NYU_0051041_rois_aal.1D ...\n"
          ],
          "name": "stdout"
        },
        {
          "output_type": "stream",
          "text": [
            " ...done. (0 seconds, 0 min)\n",
            " ...done. (0 seconds, 0 min)\n"
          ],
          "name": "stderr"
        },
        {
          "output_type": "stream",
          "text": [
            "Downloading data from https://s3.amazonaws.com/fcp-indi/data/Projects/ABIDE_Initiative/Outputs/cpac/nofilt_noglobal/rois_aal/NYU_0051042_rois_aal.1D ...\n",
            "Downloading data from https://s3.amazonaws.com/fcp-indi/data/Projects/ABIDE_Initiative/Outputs/cpac/nofilt_noglobal/rois_aal/NYU_0051044_rois_aal.1D ...\n"
          ],
          "name": "stdout"
        },
        {
          "output_type": "stream",
          "text": [
            " ...done. (0 seconds, 0 min)\n",
            " ...done. (0 seconds, 0 min)\n",
            " ...done. (0 seconds, 0 min)\n"
          ],
          "name": "stderr"
        },
        {
          "output_type": "stream",
          "text": [
            "Downloading data from https://s3.amazonaws.com/fcp-indi/data/Projects/ABIDE_Initiative/Outputs/cpac/nofilt_noglobal/rois_aal/NYU_0051045_rois_aal.1D ...\n",
            "Downloading data from https://s3.amazonaws.com/fcp-indi/data/Projects/ABIDE_Initiative/Outputs/cpac/nofilt_noglobal/rois_aal/NYU_0051046_rois_aal.1D ...\n",
            "Downloading data from https://s3.amazonaws.com/fcp-indi/data/Projects/ABIDE_Initiative/Outputs/cpac/nofilt_noglobal/rois_aal/NYU_0051047_rois_aal.1D ...\n"
          ],
          "name": "stdout"
        },
        {
          "output_type": "stream",
          "text": [
            " ...done. (0 seconds, 0 min)\n",
            " ...done. (0 seconds, 0 min)\n"
          ],
          "name": "stderr"
        },
        {
          "output_type": "stream",
          "text": [
            "Downloading data from https://s3.amazonaws.com/fcp-indi/data/Projects/ABIDE_Initiative/Outputs/cpac/nofilt_noglobal/rois_aal/NYU_0051048_rois_aal.1D ...\n",
            "Downloading data from https://s3.amazonaws.com/fcp-indi/data/Projects/ABIDE_Initiative/Outputs/cpac/nofilt_noglobal/rois_aal/NYU_0051049_rois_aal.1D ...\n"
          ],
          "name": "stdout"
        },
        {
          "output_type": "stream",
          "text": [
            " ...done. (0 seconds, 0 min)\n",
            " ...done. (0 seconds, 0 min)\n",
            " ...done. (0 seconds, 0 min)\n"
          ],
          "name": "stderr"
        },
        {
          "output_type": "stream",
          "text": [
            "Downloading data from https://s3.amazonaws.com/fcp-indi/data/Projects/ABIDE_Initiative/Outputs/cpac/nofilt_noglobal/rois_aal/NYU_0051050_rois_aal.1D ...\n",
            "Downloading data from https://s3.amazonaws.com/fcp-indi/data/Projects/ABIDE_Initiative/Outputs/cpac/nofilt_noglobal/rois_aal/NYU_0051051_rois_aal.1D ...\n",
            "Downloading data from https://s3.amazonaws.com/fcp-indi/data/Projects/ABIDE_Initiative/Outputs/cpac/nofilt_noglobal/rois_aal/NYU_0051052_rois_aal.1D ...\n"
          ],
          "name": "stdout"
        },
        {
          "output_type": "stream",
          "text": [
            " ...done. (0 seconds, 0 min)\n",
            " ...done. (0 seconds, 0 min)\n"
          ],
          "name": "stderr"
        },
        {
          "output_type": "stream",
          "text": [
            "Downloading data from https://s3.amazonaws.com/fcp-indi/data/Projects/ABIDE_Initiative/Outputs/cpac/nofilt_noglobal/rois_aal/NYU_0051053_rois_aal.1D ...\n",
            "Downloading data from https://s3.amazonaws.com/fcp-indi/data/Projects/ABIDE_Initiative/Outputs/cpac/nofilt_noglobal/rois_aal/NYU_0051054_rois_aal.1D ...\n"
          ],
          "name": "stdout"
        },
        {
          "output_type": "stream",
          "text": [
            " ...done. (0 seconds, 0 min)\n",
            " ...done. (0 seconds, 0 min)\n"
          ],
          "name": "stderr"
        },
        {
          "output_type": "stream",
          "text": [
            "Downloading data from https://s3.amazonaws.com/fcp-indi/data/Projects/ABIDE_Initiative/Outputs/cpac/nofilt_noglobal/rois_aal/NYU_0051055_rois_aal.1D ...\n",
            "Downloading data from https://s3.amazonaws.com/fcp-indi/data/Projects/ABIDE_Initiative/Outputs/cpac/nofilt_noglobal/rois_aal/NYU_0051056_rois_aal.1D ...\n"
          ],
          "name": "stdout"
        },
        {
          "output_type": "stream",
          "text": [
            " ...done. (0 seconds, 0 min)\n",
            " ...done. (0 seconds, 0 min)\n",
            " ...done. (0 seconds, 0 min)\n"
          ],
          "name": "stderr"
        },
        {
          "output_type": "stream",
          "text": [
            "Downloading data from https://s3.amazonaws.com/fcp-indi/data/Projects/ABIDE_Initiative/Outputs/cpac/nofilt_noglobal/rois_aal/NYU_0051057_rois_aal.1D ...\n",
            "Downloading data from https://s3.amazonaws.com/fcp-indi/data/Projects/ABIDE_Initiative/Outputs/cpac/nofilt_noglobal/rois_aal/NYU_0051058_rois_aal.1D ...\n",
            "Downloading data from https://s3.amazonaws.com/fcp-indi/data/Projects/ABIDE_Initiative/Outputs/cpac/nofilt_noglobal/rois_aal/NYU_0051059_rois_aal.1D ...\n"
          ],
          "name": "stdout"
        },
        {
          "output_type": "stream",
          "text": [
            " ...done. (0 seconds, 0 min)\n",
            " ...done. (0 seconds, 0 min)\n",
            " ...done. (0 seconds, 0 min)\n"
          ],
          "name": "stderr"
        },
        {
          "output_type": "stream",
          "text": [
            "Downloading data from https://s3.amazonaws.com/fcp-indi/data/Projects/ABIDE_Initiative/Outputs/cpac/nofilt_noglobal/rois_aal/NYU_0051060_rois_aal.1D ...\n",
            "Downloading data from https://s3.amazonaws.com/fcp-indi/data/Projects/ABIDE_Initiative/Outputs/cpac/nofilt_noglobal/rois_aal/NYU_0051061_rois_aal.1D ...\n",
            "Downloading data from https://s3.amazonaws.com/fcp-indi/data/Projects/ABIDE_Initiative/Outputs/cpac/nofilt_noglobal/rois_aal/NYU_0051062_rois_aal.1D ...\n"
          ],
          "name": "stdout"
        },
        {
          "output_type": "stream",
          "text": [
            " ...done. (0 seconds, 0 min)\n",
            " ...done. (0 seconds, 0 min)\n"
          ],
          "name": "stderr"
        },
        {
          "output_type": "stream",
          "text": [
            "Downloading data from https://s3.amazonaws.com/fcp-indi/data/Projects/ABIDE_Initiative/Outputs/cpac/nofilt_noglobal/rois_aal/NYU_0051063_rois_aal.1D ...\n",
            "Downloading data from https://s3.amazonaws.com/fcp-indi/data/Projects/ABIDE_Initiative/Outputs/cpac/nofilt_noglobal/rois_aal/NYU_0051064_rois_aal.1D ...\n"
          ],
          "name": "stdout"
        },
        {
          "output_type": "stream",
          "text": [
            " ...done. (0 seconds, 0 min)\n",
            " ...done. (0 seconds, 0 min)\n",
            " ...done. (0 seconds, 0 min)\n"
          ],
          "name": "stderr"
        },
        {
          "output_type": "stream",
          "text": [
            "Downloading data from https://s3.amazonaws.com/fcp-indi/data/Projects/ABIDE_Initiative/Outputs/cpac/nofilt_noglobal/rois_aal/NYU_0051065_rois_aal.1D ...\n",
            "Downloading data from https://s3.amazonaws.com/fcp-indi/data/Projects/ABIDE_Initiative/Outputs/cpac/nofilt_noglobal/rois_aal/NYU_0051066_rois_aal.1D ...\n",
            "Downloading data from https://s3.amazonaws.com/fcp-indi/data/Projects/ABIDE_Initiative/Outputs/cpac/nofilt_noglobal/rois_aal/NYU_0051067_rois_aal.1D ...\n"
          ],
          "name": "stdout"
        },
        {
          "output_type": "stream",
          "text": [
            " ...done. (0 seconds, 0 min)\n",
            " ...done. (0 seconds, 0 min)\n"
          ],
          "name": "stderr"
        },
        {
          "output_type": "stream",
          "text": [
            "Downloading data from https://s3.amazonaws.com/fcp-indi/data/Projects/ABIDE_Initiative/Outputs/cpac/nofilt_noglobal/rois_aal/NYU_0051068_rois_aal.1D ...\n",
            "Downloading data from https://s3.amazonaws.com/fcp-indi/data/Projects/ABIDE_Initiative/Outputs/cpac/nofilt_noglobal/rois_aal/NYU_0051069_rois_aal.1D ...\n"
          ],
          "name": "stdout"
        },
        {
          "output_type": "stream",
          "text": [
            " ...done. (0 seconds, 0 min)\n",
            " ...done. (0 seconds, 0 min)\n",
            " ...done. (0 seconds, 0 min)\n"
          ],
          "name": "stderr"
        },
        {
          "output_type": "stream",
          "text": [
            "Downloading data from https://s3.amazonaws.com/fcp-indi/data/Projects/ABIDE_Initiative/Outputs/cpac/nofilt_noglobal/rois_aal/NYU_0051070_rois_aal.1D ...\n",
            "Downloading data from https://s3.amazonaws.com/fcp-indi/data/Projects/ABIDE_Initiative/Outputs/cpac/nofilt_noglobal/rois_aal/NYU_0051072_rois_aal.1D ...\n",
            "Downloading data from https://s3.amazonaws.com/fcp-indi/data/Projects/ABIDE_Initiative/Outputs/cpac/nofilt_noglobal/rois_aal/NYU_0051073_rois_aal.1D ...\n"
          ],
          "name": "stdout"
        },
        {
          "output_type": "stream",
          "text": [
            " ...done. (0 seconds, 0 min)\n",
            " ...done. (0 seconds, 0 min)\n"
          ],
          "name": "stderr"
        },
        {
          "output_type": "stream",
          "text": [
            "Downloading data from https://s3.amazonaws.com/fcp-indi/data/Projects/ABIDE_Initiative/Outputs/cpac/nofilt_noglobal/rois_aal/NYU_0051074_rois_aal.1D ...\n",
            "Downloading data from https://s3.amazonaws.com/fcp-indi/data/Projects/ABIDE_Initiative/Outputs/cpac/nofilt_noglobal/rois_aal/NYU_0051075_rois_aal.1D ...\n"
          ],
          "name": "stdout"
        },
        {
          "output_type": "stream",
          "text": [
            " ...done. (1 seconds, 0 min)\n",
            " ...done. (0 seconds, 0 min)\n",
            " ...done. (0 seconds, 0 min)\n"
          ],
          "name": "stderr"
        },
        {
          "output_type": "stream",
          "text": [
            "Downloading data from https://s3.amazonaws.com/fcp-indi/data/Projects/ABIDE_Initiative/Outputs/cpac/nofilt_noglobal/rois_aal/NYU_0051076_rois_aal.1D ...\n",
            "Downloading data from https://s3.amazonaws.com/fcp-indi/data/Projects/ABIDE_Initiative/Outputs/cpac/nofilt_noglobal/rois_aal/NYU_0051077_rois_aal.1D ...\n",
            "Downloading data from https://s3.amazonaws.com/fcp-indi/data/Projects/ABIDE_Initiative/Outputs/cpac/nofilt_noglobal/rois_aal/NYU_0051078_rois_aal.1D ...\n"
          ],
          "name": "stdout"
        },
        {
          "output_type": "stream",
          "text": [
            " ...done. (0 seconds, 0 min)\n"
          ],
          "name": "stderr"
        },
        {
          "output_type": "stream",
          "text": [
            "Downloading data from https://s3.amazonaws.com/fcp-indi/data/Projects/ABIDE_Initiative/Outputs/cpac/nofilt_noglobal/rois_aal/NYU_0051079_rois_aal.1D ...\n"
          ],
          "name": "stdout"
        },
        {
          "output_type": "stream",
          "text": [
            " ...done. (0 seconds, 0 min)\n",
            " ...done. (0 seconds, 0 min)\n"
          ],
          "name": "stderr"
        },
        {
          "output_type": "stream",
          "text": [
            "Downloading data from https://s3.amazonaws.com/fcp-indi/data/Projects/ABIDE_Initiative/Outputs/cpac/nofilt_noglobal/rois_aal/NYU_0051080_rois_aal.1D ...\n",
            "Downloading data from https://s3.amazonaws.com/fcp-indi/data/Projects/ABIDE_Initiative/Outputs/cpac/nofilt_noglobal/rois_aal/NYU_0051081_rois_aal.1D ...\n"
          ],
          "name": "stdout"
        },
        {
          "output_type": "stream",
          "text": [
            " ...done. (0 seconds, 0 min)\n",
            " ...done. (0 seconds, 0 min)\n"
          ],
          "name": "stderr"
        },
        {
          "output_type": "stream",
          "text": [
            "Downloading data from https://s3.amazonaws.com/fcp-indi/data/Projects/ABIDE_Initiative/Outputs/cpac/nofilt_noglobal/rois_aal/NYU_0051082_rois_aal.1D ...\n",
            "Downloading data from https://s3.amazonaws.com/fcp-indi/data/Projects/ABIDE_Initiative/Outputs/cpac/nofilt_noglobal/rois_aal/NYU_0051083_rois_aal.1D ...\n"
          ],
          "name": "stdout"
        },
        {
          "output_type": "stream",
          "text": [
            " ...done. (0 seconds, 0 min)\n",
            " ...done. (0 seconds, 0 min)\n"
          ],
          "name": "stderr"
        },
        {
          "output_type": "stream",
          "text": [
            "Downloading data from https://s3.amazonaws.com/fcp-indi/data/Projects/ABIDE_Initiative/Outputs/cpac/nofilt_noglobal/rois_aal/NYU_0051084_rois_aal.1D ...\n",
            "Downloading data from https://s3.amazonaws.com/fcp-indi/data/Projects/ABIDE_Initiative/Outputs/cpac/nofilt_noglobal/rois_aal/NYU_0051085_rois_aal.1D ...\n"
          ],
          "name": "stdout"
        },
        {
          "output_type": "stream",
          "text": [
            " ...done. (0 seconds, 0 min)\n",
            " ...done. (0 seconds, 0 min)\n"
          ],
          "name": "stderr"
        },
        {
          "output_type": "stream",
          "text": [
            "Downloading data from https://s3.amazonaws.com/fcp-indi/data/Projects/ABIDE_Initiative/Outputs/cpac/nofilt_noglobal/rois_aal/NYU_0051086_rois_aal.1D ...\n",
            "Downloading data from https://s3.amazonaws.com/fcp-indi/data/Projects/ABIDE_Initiative/Outputs/cpac/nofilt_noglobal/rois_aal/NYU_0051087_rois_aal.1D ...\n"
          ],
          "name": "stdout"
        },
        {
          "output_type": "stream",
          "text": [
            " ...done. (0 seconds, 0 min)\n",
            " ...done. (0 seconds, 0 min)\n"
          ],
          "name": "stderr"
        },
        {
          "output_type": "stream",
          "text": [
            "Downloading data from https://s3.amazonaws.com/fcp-indi/data/Projects/ABIDE_Initiative/Outputs/cpac/nofilt_noglobal/rois_aal/NYU_0051088_rois_aal.1D ...\n",
            "Downloading data from https://s3.amazonaws.com/fcp-indi/data/Projects/ABIDE_Initiative/Outputs/cpac/nofilt_noglobal/rois_aal/NYU_0051089_rois_aal.1D ...\n"
          ],
          "name": "stdout"
        },
        {
          "output_type": "stream",
          "text": [
            " ...done. (0 seconds, 0 min)\n",
            " ...done. (0 seconds, 0 min)\n"
          ],
          "name": "stderr"
        },
        {
          "output_type": "stream",
          "text": [
            "Downloading data from https://s3.amazonaws.com/fcp-indi/data/Projects/ABIDE_Initiative/Outputs/cpac/nofilt_noglobal/rois_aal/NYU_0051090_rois_aal.1D ...\n",
            "Downloading data from https://s3.amazonaws.com/fcp-indi/data/Projects/ABIDE_Initiative/Outputs/cpac/nofilt_noglobal/rois_aal/NYU_0051091_rois_aal.1D ...\n"
          ],
          "name": "stdout"
        },
        {
          "output_type": "stream",
          "text": [
            " ...done. (0 seconds, 0 min)\n",
            " ...done. (0 seconds, 0 min)\n"
          ],
          "name": "stderr"
        },
        {
          "output_type": "stream",
          "text": [
            "Downloading data from https://s3.amazonaws.com/fcp-indi/data/Projects/ABIDE_Initiative/Outputs/cpac/nofilt_noglobal/rois_aal/NYU_0051093_rois_aal.1D ...\n",
            "Downloading data from https://s3.amazonaws.com/fcp-indi/data/Projects/ABIDE_Initiative/Outputs/cpac/nofilt_noglobal/rois_aal/NYU_0051094_rois_aal.1D ...\n"
          ],
          "name": "stdout"
        },
        {
          "output_type": "stream",
          "text": [
            " ...done. (0 seconds, 0 min)\n",
            " ...done. (0 seconds, 0 min)\n"
          ],
          "name": "stderr"
        },
        {
          "output_type": "stream",
          "text": [
            "Downloading data from https://s3.amazonaws.com/fcp-indi/data/Projects/ABIDE_Initiative/Outputs/cpac/nofilt_noglobal/rois_aal/NYU_0051095_rois_aal.1D ...\n",
            "Downloading data from https://s3.amazonaws.com/fcp-indi/data/Projects/ABIDE_Initiative/Outputs/cpac/nofilt_noglobal/rois_aal/NYU_0051096_rois_aal.1D ...\n"
          ],
          "name": "stdout"
        },
        {
          "output_type": "stream",
          "text": [
            " ...done. (0 seconds, 0 min)\n",
            " ...done. (0 seconds, 0 min)\n"
          ],
          "name": "stderr"
        },
        {
          "output_type": "stream",
          "text": [
            "Downloading data from https://s3.amazonaws.com/fcp-indi/data/Projects/ABIDE_Initiative/Outputs/cpac/nofilt_noglobal/rois_aal/NYU_0051097_rois_aal.1D ...\n",
            "Downloading data from https://s3.amazonaws.com/fcp-indi/data/Projects/ABIDE_Initiative/Outputs/cpac/nofilt_noglobal/rois_aal/NYU_0051098_rois_aal.1D ...\n"
          ],
          "name": "stdout"
        },
        {
          "output_type": "stream",
          "text": [
            " ...done. (0 seconds, 0 min)\n",
            " ...done. (0 seconds, 0 min)\n"
          ],
          "name": "stderr"
        },
        {
          "output_type": "stream",
          "text": [
            "Downloading data from https://s3.amazonaws.com/fcp-indi/data/Projects/ABIDE_Initiative/Outputs/cpac/nofilt_noglobal/rois_aal/NYU_0051099_rois_aal.1D ...\n",
            "Downloading data from https://s3.amazonaws.com/fcp-indi/data/Projects/ABIDE_Initiative/Outputs/cpac/nofilt_noglobal/rois_aal/NYU_0051100_rois_aal.1D ...\n"
          ],
          "name": "stdout"
        },
        {
          "output_type": "stream",
          "text": [
            " ...done. (0 seconds, 0 min)\n",
            " ...done. (0 seconds, 0 min)\n"
          ],
          "name": "stderr"
        },
        {
          "output_type": "stream",
          "text": [
            "Downloading data from https://s3.amazonaws.com/fcp-indi/data/Projects/ABIDE_Initiative/Outputs/cpac/nofilt_noglobal/rois_aal/NYU_0051101_rois_aal.1D ...\n",
            "Downloading data from https://s3.amazonaws.com/fcp-indi/data/Projects/ABIDE_Initiative/Outputs/cpac/nofilt_noglobal/rois_aal/NYU_0051102_rois_aal.1D ...\n"
          ],
          "name": "stdout"
        },
        {
          "output_type": "stream",
          "text": [
            " ...done. (0 seconds, 0 min)\n",
            " ...done. (0 seconds, 0 min)\n"
          ],
          "name": "stderr"
        },
        {
          "output_type": "stream",
          "text": [
            "Downloading data from https://s3.amazonaws.com/fcp-indi/data/Projects/ABIDE_Initiative/Outputs/cpac/nofilt_noglobal/rois_aal/NYU_0051103_rois_aal.1D ...\n",
            "Downloading data from https://s3.amazonaws.com/fcp-indi/data/Projects/ABIDE_Initiative/Outputs/cpac/nofilt_noglobal/rois_aal/NYU_0051104_rois_aal.1D ...\n"
          ],
          "name": "stdout"
        },
        {
          "output_type": "stream",
          "text": [
            " ...done. (0 seconds, 0 min)\n",
            " ...done. (0 seconds, 0 min)\n"
          ],
          "name": "stderr"
        },
        {
          "output_type": "stream",
          "text": [
            "Downloading data from https://s3.amazonaws.com/fcp-indi/data/Projects/ABIDE_Initiative/Outputs/cpac/nofilt_noglobal/rois_aal/NYU_0051105_rois_aal.1D ...\n",
            "Downloading data from https://s3.amazonaws.com/fcp-indi/data/Projects/ABIDE_Initiative/Outputs/cpac/nofilt_noglobal/rois_aal/NYU_0051106_rois_aal.1D ...\n"
          ],
          "name": "stdout"
        },
        {
          "output_type": "stream",
          "text": [
            " ...done. (0 seconds, 0 min)\n",
            " ...done. (0 seconds, 0 min)\n"
          ],
          "name": "stderr"
        },
        {
          "output_type": "stream",
          "text": [
            "Downloading data from https://s3.amazonaws.com/fcp-indi/data/Projects/ABIDE_Initiative/Outputs/cpac/nofilt_noglobal/rois_aal/NYU_0051107_rois_aal.1D ...\n",
            "Downloading data from https://s3.amazonaws.com/fcp-indi/data/Projects/ABIDE_Initiative/Outputs/cpac/nofilt_noglobal/rois_aal/NYU_0051109_rois_aal.1D ...\n"
          ],
          "name": "stdout"
        },
        {
          "output_type": "stream",
          "text": [
            " ...done. (0 seconds, 0 min)\n",
            " ...done. (0 seconds, 0 min)\n"
          ],
          "name": "stderr"
        },
        {
          "output_type": "stream",
          "text": [
            "Downloading data from https://s3.amazonaws.com/fcp-indi/data/Projects/ABIDE_Initiative/Outputs/cpac/nofilt_noglobal/rois_aal/NYU_0051110_rois_aal.1D ...\n",
            "Downloading data from https://s3.amazonaws.com/fcp-indi/data/Projects/ABIDE_Initiative/Outputs/cpac/nofilt_noglobal/rois_aal/NYU_0051111_rois_aal.1D ...\n"
          ],
          "name": "stdout"
        },
        {
          "output_type": "stream",
          "text": [
            " ...done. (0 seconds, 0 min)\n",
            " ...done. (0 seconds, 0 min)\n"
          ],
          "name": "stderr"
        },
        {
          "output_type": "stream",
          "text": [
            "Downloading data from https://s3.amazonaws.com/fcp-indi/data/Projects/ABIDE_Initiative/Outputs/cpac/nofilt_noglobal/rois_aal/NYU_0051112_rois_aal.1D ...\n",
            "Downloading data from https://s3.amazonaws.com/fcp-indi/data/Projects/ABIDE_Initiative/Outputs/cpac/nofilt_noglobal/rois_aal/NYU_0051113_rois_aal.1D ...\n"
          ],
          "name": "stdout"
        },
        {
          "output_type": "stream",
          "text": [
            " ...done. (0 seconds, 0 min)\n",
            " ...done. (0 seconds, 0 min)\n",
            " ...done. (0 seconds, 0 min)\n"
          ],
          "name": "stderr"
        },
        {
          "output_type": "stream",
          "text": [
            "Downloading data from https://s3.amazonaws.com/fcp-indi/data/Projects/ABIDE_Initiative/Outputs/cpac/nofilt_noglobal/rois_aal/NYU_0051114_rois_aal.1D ...\n",
            "Downloading data from https://s3.amazonaws.com/fcp-indi/data/Projects/ABIDE_Initiative/Outputs/cpac/nofilt_noglobal/rois_aal/NYU_0051116_rois_aal.1D ...\n",
            "Downloading data from https://s3.amazonaws.com/fcp-indi/data/Projects/ABIDE_Initiative/Outputs/cpac/nofilt_noglobal/rois_aal/NYU_0051117_rois_aal.1D ...\n",
            "Downloading data from https://s3.amazonaws.com/fcp-indi/data/Projects/ABIDE_Initiative/Outputs/cpac/nofilt_noglobal/rois_aal/NYU_0051118_rois_aal.1D ...\n"
          ],
          "name": "stdout"
        },
        {
          "output_type": "stream",
          "text": [
            " ...done. (0 seconds, 0 min)\n",
            " ...done. (0 seconds, 0 min)\n"
          ],
          "name": "stderr"
        },
        {
          "output_type": "stream",
          "text": [
            "Downloading data from https://s3.amazonaws.com/fcp-indi/data/Projects/ABIDE_Initiative/Outputs/cpac/nofilt_noglobal/rois_aal/NYU_0051122_rois_aal.1D ...\n",
            "Downloading data from https://s3.amazonaws.com/fcp-indi/data/Projects/ABIDE_Initiative/Outputs/cpac/nofilt_noglobal/rois_aal/NYU_0051123_rois_aal.1D ...\n"
          ],
          "name": "stdout"
        },
        {
          "output_type": "stream",
          "text": [
            " ...done. (0 seconds, 0 min)\n",
            " ...done. (0 seconds, 0 min)\n"
          ],
          "name": "stderr"
        },
        {
          "output_type": "stream",
          "text": [
            "Downloading data from https://s3.amazonaws.com/fcp-indi/data/Projects/ABIDE_Initiative/Outputs/cpac/nofilt_noglobal/rois_aal/NYU_0051124_rois_aal.1D ...\n",
            "Downloading data from https://s3.amazonaws.com/fcp-indi/data/Projects/ABIDE_Initiative/Outputs/cpac/nofilt_noglobal/rois_aal/NYU_0051126_rois_aal.1D ...\n"
          ],
          "name": "stdout"
        },
        {
          "output_type": "stream",
          "text": [
            " ...done. (0 seconds, 0 min)\n",
            " ...done. (0 seconds, 0 min)\n"
          ],
          "name": "stderr"
        },
        {
          "output_type": "stream",
          "text": [
            "Downloading data from https://s3.amazonaws.com/fcp-indi/data/Projects/ABIDE_Initiative/Outputs/cpac/nofilt_noglobal/rois_aal/NYU_0051127_rois_aal.1D ...\n",
            "Downloading data from https://s3.amazonaws.com/fcp-indi/data/Projects/ABIDE_Initiative/Outputs/cpac/nofilt_noglobal/rois_aal/NYU_0051128_rois_aal.1D ...\n",
            "Downloading data from https://s3.amazonaws.com/fcp-indi/data/Projects/ABIDE_Initiative/Outputs/cpac/nofilt_noglobal/rois_aal/NYU_0051129_rois_aal.1D ...\n"
          ],
          "name": "stdout"
        },
        {
          "output_type": "stream",
          "text": [
            " ...done. (0 seconds, 0 min)\n",
            " ...done. (0 seconds, 0 min)\n",
            " ...done. (0 seconds, 0 min)\n"
          ],
          "name": "stderr"
        },
        {
          "output_type": "stream",
          "text": [
            "Downloading data from https://s3.amazonaws.com/fcp-indi/data/Projects/ABIDE_Initiative/Outputs/cpac/nofilt_noglobal/rois_aal/NYU_0051130_rois_aal.1D ...\n",
            "Downloading data from https://s3.amazonaws.com/fcp-indi/data/Projects/ABIDE_Initiative/Outputs/cpac/nofilt_noglobal/rois_aal/NYU_0051131_rois_aal.1D ...\n",
            "Downloading data from https://s3.amazonaws.com/fcp-indi/data/Projects/ABIDE_Initiative/Outputs/cpac/nofilt_noglobal/rois_aal/NYU_0051146_rois_aal.1D ...\n"
          ],
          "name": "stdout"
        },
        {
          "output_type": "stream",
          "text": [
            " ...done. (0 seconds, 0 min)\n",
            " ...done. (0 seconds, 0 min)\n",
            " ...done. (0 seconds, 0 min)\n",
            " ...done. (0 seconds, 0 min)\n"
          ],
          "name": "stderr"
        },
        {
          "output_type": "stream",
          "text": [
            "Downloading data from https://s3.amazonaws.com/fcp-indi/data/Projects/ABIDE_Initiative/Outputs/cpac/nofilt_noglobal/rois_aal/NYU_0051147_rois_aal.1D ...\n",
            "Downloading data from https://s3.amazonaws.com/fcp-indi/data/Projects/ABIDE_Initiative/Outputs/cpac/nofilt_noglobal/rois_aal/NYU_0051148_rois_aal.1D ...\n"
          ],
          "name": "stdout"
        },
        {
          "output_type": "stream",
          "text": [
            " ...done. (0 seconds, 0 min)\n",
            " ...done. (0 seconds, 0 min)\n"
          ],
          "name": "stderr"
        },
        {
          "output_type": "stream",
          "text": [
            "Downloading data from https://s3.amazonaws.com/fcp-indi/data/Projects/ABIDE_Initiative/Outputs/cpac/nofilt_noglobal/rois_aal/NYU_0051149_rois_aal.1D ...\n",
            "Downloading data from https://s3.amazonaws.com/fcp-indi/data/Projects/ABIDE_Initiative/Outputs/cpac/nofilt_noglobal/rois_aal/NYU_0051150_rois_aal.1D ...\n"
          ],
          "name": "stdout"
        },
        {
          "output_type": "stream",
          "text": [
            " ...done. (0 seconds, 0 min)\n",
            " ...done. (0 seconds, 0 min)\n",
            " ...done. (0 seconds, 0 min)\n"
          ],
          "name": "stderr"
        },
        {
          "output_type": "stream",
          "text": [
            "Downloading data from https://s3.amazonaws.com/fcp-indi/data/Projects/ABIDE_Initiative/Outputs/cpac/nofilt_noglobal/rois_aal/NYU_0051151_rois_aal.1D ...\n",
            "Downloading data from https://s3.amazonaws.com/fcp-indi/data/Projects/ABIDE_Initiative/Outputs/cpac/nofilt_noglobal/rois_aal/NYU_0051152_rois_aal.1D ...\n",
            "Downloading data from https://s3.amazonaws.com/fcp-indi/data/Projects/ABIDE_Initiative/Outputs/cpac/nofilt_noglobal/rois_aal/NYU_0051153_rois_aal.1D ...\n"
          ],
          "name": "stdout"
        },
        {
          "output_type": "stream",
          "text": [
            " ...done. (0 seconds, 0 min)\n",
            " ...done. (0 seconds, 0 min)\n",
            " ...done. (0 seconds, 0 min)\n"
          ],
          "name": "stderr"
        },
        {
          "output_type": "stream",
          "text": [
            "Downloading data from https://s3.amazonaws.com/fcp-indi/data/Projects/ABIDE_Initiative/Outputs/cpac/nofilt_noglobal/rois_aal/NYU_0051154_rois_aal.1D ...\n",
            "Downloading data from https://s3.amazonaws.com/fcp-indi/data/Projects/ABIDE_Initiative/Outputs/cpac/nofilt_noglobal/rois_aal/NYU_0051155_rois_aal.1D ...\n",
            "Downloading data from https://s3.amazonaws.com/fcp-indi/data/Projects/ABIDE_Initiative/Outputs/cpac/nofilt_noglobal/rois_aal/NYU_0051156_rois_aal.1D ...\n"
          ],
          "name": "stdout"
        },
        {
          "output_type": "stream",
          "text": [
            " ...done. (0 seconds, 0 min)\n",
            " ...done. (0 seconds, 0 min)\n"
          ],
          "name": "stderr"
        },
        {
          "output_type": "stream",
          "text": [
            "Downloading data from https://s3.amazonaws.com/fcp-indi/data/Projects/ABIDE_Initiative/Outputs/cpac/nofilt_noglobal/rois_aal/NYU_0051159_rois_aal.1D ...\n"
          ],
          "name": "stdout"
        }
      ]
    },
    {
      "cell_type": "code",
      "metadata": {
        "colab": {
          "base_uri": "https://localhost:8080/"
        },
        "id": "WNZTAEs0TQtb",
        "outputId": "554e2c83-5dee-4db8-f16d-bff351b62128"
      },
      "source": [
        "# We look at the available data in this dataset\n",
        "print(abide.keys())"
      ],
      "execution_count": 8,
      "outputs": [
        {
          "output_type": "stream",
          "text": [
            "dict_keys(['description', 'phenotypic', 'func_preproc', 'rois_aal'])\n"
          ],
          "name": "stdout"
        }
      ]
    },
    {
      "cell_type": "code",
      "metadata": {
        "colab": {
          "base_uri": "https://localhost:8080/"
        },
        "id": "eZIugBMrXUUM",
        "outputId": "93cf0937-42ed-498a-bf25-b89a50517ecf"
      },
      "source": [
        "# To get the functional dataset, we have to retrieve the variable 'func_preproc'\n",
        "#https://joaoloula.github.io/functional-atlas.html\n",
        "func = abide.func_preproc\n",
        "\n",
        "# We can also look at where the data is loaded\n",
        "print(func[1])"
      ],
      "execution_count": 9,
      "outputs": [
        {
          "output_type": "stream",
          "text": [
            "/root/nilearn_data/ABIDE_pcp/cpac/nofilt_noglobal/NYU_0050954_func_preproc.nii.gz\n"
          ],
          "name": "stdout"
        }
      ]
    },
    {
      "cell_type": "markdown",
      "metadata": {
        "id": "I1eAitazXl4Z"
      },
      "source": [
        "**Computing a brain atlas**\n",
        "\n",
        "Several reference atlases are available in nilearn. We also provide functions to compute a brain atlas directly from the data. In this example, we'll do this using a group ICA implementation called Canonical ICA."
      ]
    },
    {
      "cell_type": "code",
      "metadata": {
        "colab": {
          "base_uri": "https://localhost:8080/",
          "height": 218
        },
        "id": "mbX4vIofXhSy",
        "outputId": "02bc372a-338f-4d8d-92c4-226247a37b2b"
      },
      "source": [
        "from nilearn import decomposition\n",
        "\n",
        "# CanICA is nilearn's approach of group ICA. It directly embeds a masker.\n",
        "canica = decomposition.CanICA(n_components=20, mask_strategy='background')\n",
        "canica.fit(func)\n",
        "# Retrieve the components\n",
        "components = canica.components_\n",
        "\n",
        "# Use CanICA's masker to project the components back into 3D space\n",
        "components_img = canica.masker_.inverse_transform(components)\n",
        "\n",
        "# We visualize the generated atlas\n",
        "from nilearn import plotting, image\n",
        "\n",
        "plotting.plot_stat_map(image.index_img(components_img, 9), title='DMN')\n",
        "plotting.show()"
      ],
      "execution_count": 11,
      "outputs": [
        {
          "output_type": "display_data",
          "data": {
            "image/png": "[encoded data removed]",
            "text/plain": [
              "<Figure size 525.6x187.2 with 5 Axes>"
            ]
          },
          "metadata": {
            "tags": []
          }
        }
      ]
    },
    {
      "cell_type": "markdown",
      "metadata": {
        "id": "KEcKvwGgZQUx"
      },
      "source": [
        "**Extracting subject specific timeseries signals from brain parcellations**\n",
        "\n",
        "Computing mask from the data, filtering, extracting data from the in-mask voxels can be processed easily by using nilearn classes such as **NiftiMasker, NiftiMapsMasker, NiftiLabelsMasker** which can be imported from nilearn.input_data module. \n",
        "\n",
        "The advantage of using such tools from this module is that we can restrict our analysis to mask specific voxels timeseries data. For instance, class NiftiMasker can be used to compute mask over the data and apply preprocessing steps such as filtering, smoothing, standardizing and detrending on voxels timeseries signals. This type of processing is very much necessary, particularly during resting state fMRI data analysis. \n",
        "\n",
        "Additional to NiftiMasker, classes NiftiMapsMasker and NiftiLabelsMasker, can be used to extract subject specific timeseries signals on each subject data provided with the atlas maps (3D or 4D) comprising of specific brain regions. \n",
        "\n",
        "**NiftiMapsMasker **operated on 4D atlas maps, can be used to extract signals from each 4th dimensional map using least squares regression. \n",
        "\n",
        "Whereas,** NiftiLabelsMasker** operated on 3D maps denoted as labels image, can be used to extract averaged timeseries from group of voxels that correponds to each label in the image."
      ]
    },
    {
      "cell_type": "code",
      "metadata": {
        "id": "JrwNYr04Y9nU"
      },
      "source": [
        "# Import and initialize `NiftiMapsMasker` object and call `fit_transform` to\n",
        "# extract timeseries signals from computed atlas.\n",
        "from nilearn.input_data import NiftiMapsMasker\n",
        "\n",
        "# The parameters used are maps_img as parcellations, resampling to maps image,\n",
        "# smoothing of 6mm, detrending, standardizing and filtering (TR in sec). These later\n",
        "# parameters are applied automatically when extracting timeseries data.\n",
        "masker = NiftiMapsMasker(components_img, smoothing_fwhm=6,\n",
        "                         standardize=True, detrend=True,\n",
        "                         t_r=2.5, low_pass=0.1,\n",
        "                         high_pass=0.01)"
      ],
      "execution_count": 12,
      "outputs": []
    },
    {
      "cell_type": "code",
      "metadata": {
        "id": "Xdou15ALZ0-T"
      },
      "source": [
        "from nilearn.input_data import NiftiMapsMasker\n",
        "\n",
        "masker=NiftiMapsMasker(components_img, smoothing_fwhm=6,\n",
        "                       standardize=True, detrend=True,\n",
        "                       t_r=2.5, low_pass=0.1, high_pass=0.01)"
      ],
      "execution_count": 17,
      "outputs": []
    },
    {
      "cell_type": "code",
      "metadata": {
        "colab": {
          "base_uri": "https://localhost:8080/",
          "height": 312
        },
        "id": "wkf7bIvfaXdi",
        "outputId": "c5282754-7c88-452d-ba39-b86988a43b2d"
      },
      "source": [
        "#Extracting time series for each subject\n",
        "# We loop over the subjects to extract the time series\n",
        "subjects_timeseries = []\n",
        "for subject_func in func:\n",
        "    subjects_timeseries.append(masker.fit_transform(subject_func))\n",
        "# Visualizing extracted timeseries signals. We import matplotlib.pyplot\n",
        "import matplotlib.pyplot as plt\n",
        "\n",
        "\n",
        "# We loop over the subjects to extract the time series\n",
        "# We show them for a single subject\n",
        "timeseries = subjects_timeseries[0]\n",
        "print(timeseries.shape) # (number of scans/time points, number of brain regions/parcellations)\n",
        "plt.plot(timeseries)\n",
        "plt.title('Timeseries for single subject shown for 20 brain regions')\n",
        "plt.xlabel('Number of regions')\n",
        "plt.ylabel('Normalized signal')\n",
        "plt.show()"
      ],
      "execution_count": 18,
      "outputs": [
        {
          "output_type": "stream",
          "text": [
            "(176, 20)\n"
          ],
          "name": "stdout"
        },
        {
          "output_type": "display_data",
          "data": {
            "image/png": "[encoded data removed]",
            "text/plain": [
              "<Figure size 432x288 with 1 Axes>"
            ]
          },
          "metadata": {
            "tags": [],
            "needs_background": "light"
          }
        }
      ]
    },
    {
      "cell_type": "code",
      "metadata": {
        "id": "OG8zsPlQbDLZ"
      },
      "source": [
        "subjects_timeseries=[]\n",
        "for subject_func in func:\n",
        "  subjects_timeseries.append(masker.fit_transform(subject_func))\n",
        "\n",
        "import matplotlib.pyplot as plt\n",
        "\n",
        "timeseries=subjects_timeseries[0]\n",
        "print(timeseries.shape) # number of scans/time points, number of brain regions/parcellations\n",
        "plt.plot(timeseries)\n",
        "plt.title('Timeseries for single subject show for 20 brain regions')\n",
        "plt.xlabel('Number of regions')\n",
        "plt.ylabel('Normalized signal')\n",
        "plt.show()"
      ],
      "execution_count": null,
      "outputs": []
    },
    {
      "cell_type": "code",
      "metadata": {
        "colab": {
          "base_uri": "https://localhost:8080/",
          "height": 336
        },
        "id": "wR57z46vcG8E",
        "outputId": "07c6e215-61bf-486b-db88-810ac47be117"
      },
      "source": [
        "#Extracting regions from computed atlas\n",
        "#ICA requires post-preprocessing. Here we use the RegionExtractor that thresholds the maps and extract brain regions.\n",
        "from nilearn.regions import RegionExtractor\n",
        "extractor = RegionExtractor(components_img, threshold=2.,\n",
        "                            thresholding_strategy=\n",
        "                            'ratio_n_voxels',\n",
        "                            extractor='local_regions',\n",
        "                            standardize=True,\n",
        "                            min_region_size=1350)\n",
        "\n",
        "# Just call fit() to process for regions extraction\n",
        "extractor.fit()\n",
        "\n",
        "# Extracted regions are stored in regions_img_\n",
        "regions_extracted_img = extractor.regions_img_\n",
        "\n",
        "# Total number of regions extracted\n",
        "n_regions_extracted = regions_extracted_img.shape[-1]\n",
        "\n",
        "# Visualization of region extraction results\n",
        "title = ('%d regions are extracted from %d components.'\n",
        "         % (n_regions_extracted, 20))\n",
        "\n",
        "plotting.plot_prob_atlas(regions_extracted_img,\n",
        "                         view_type='filled_contours',\n",
        "                         title=title, threshold=0.008)"
      ],
      "execution_count": 20,
      "outputs": [
        {
          "output_type": "stream",
          "text": [
            "/usr/local/lib/python3.6/dist-packages/numpy/ma/core.py:2795: UserWarning: Warning: converting a masked element to nan.\n",
            "  order=order, subok=True, ndmin=ndmin)\n",
            "/usr/local/lib/python3.6/dist-packages/nilearn/plotting/displays.py:99: UserWarning: linewidths is ignored by contourf\n",
            "  **kwargs)\n",
            "/usr/local/lib/python3.6/dist-packages/nilearn/plotting/displays.py:99: UserWarning: No contour levels were found within the data range.\n",
            "  **kwargs)\n"
          ],
          "name": "stderr"
        },
        {
          "output_type": "execute_result",
          "data": {
            "text/plain": [
              "<nilearn.plotting.displays.OrthoSlicer at 0x7fa123fe4ac8>"
            ]
          },
          "metadata": {
            "tags": []
          },
          "execution_count": 20
        },
        {
          "output_type": "display_data",
          "data": {
            "image/png": "[encoded data removed]",
            "text/plain": [
              "<Figure size 475.2x187.2 with 4 Axes>"
            ]
          },
          "metadata": {
            "tags": []
          }
        }
      ]
    },
    {
      "cell_type": "code",
      "metadata": {
        "colab": {
          "base_uri": "https://localhost:8080/",
          "height": 336
        },
        "id": "2wOUrGhtcdCL",
        "outputId": "67977779-55db-430c-ba42-4d7e7f1da02e"
      },
      "source": [
        "#Extracting regions from computed atlas\n",
        "#ICA requires post-preprocessing. Here we use the RegionExtractor that thresholds the maps and extract brain regions.\n",
        "from nilearn.regions import RegionExtractor\n",
        "extractor=RegionExtractor(components_img, threshold=2.,\n",
        "                          thresholding_strategy='ratio_n_voxels',\n",
        "                          extractor='local_regions',\n",
        "                          standardize=True,\n",
        "                          min_region_size=1350)\n",
        "# Just call fit() to process for regions extraction\n",
        "extractor.fit()\n",
        "# Extracted regions are stored in regions_img_\n",
        "regions_extracted_img=extractor.regions_img_\n",
        "# Total number of regions extracted\n",
        "n_regions_extracted = regions_extracted_img.shape[-1]\n",
        "\n",
        "# Visualization of region extraction results\n",
        "title=('%d regions are extracted from %d components.'%(n_regions_extracted,20))\n",
        "plotting.plot_prob_atlas(regions_extracted_img,view_type='filled_contours',\n",
        "                         title=title, threshold=0.008)"
      ],
      "execution_count": 21,
      "outputs": [
        {
          "output_type": "stream",
          "text": [
            "/usr/local/lib/python3.6/dist-packages/numpy/ma/core.py:2795: UserWarning: Warning: converting a masked element to nan.\n",
            "  order=order, subok=True, ndmin=ndmin)\n",
            "/usr/local/lib/python3.6/dist-packages/nilearn/plotting/displays.py:99: UserWarning: linewidths is ignored by contourf\n",
            "  **kwargs)\n",
            "/usr/local/lib/python3.6/dist-packages/nilearn/plotting/displays.py:99: UserWarning: No contour levels were found within the data range.\n",
            "  **kwargs)\n"
          ],
          "name": "stderr"
        },
        {
          "output_type": "execute_result",
          "data": {
            "text/plain": [
              "<nilearn.plotting.displays.OrthoSlicer at 0x7fa11f81d7f0>"
            ]
          },
          "metadata": {
            "tags": []
          },
          "execution_count": 21
        },
        {
          "output_type": "display_data",
          "data": {
            "image/png": "[encoded data removed]",
            "text/plain": [
              "<Figure size 475.2x187.2 with 4 Axes>"
            ]
          },
          "metadata": {
            "tags": []
          }
        }
      ]
    },
    {
      "cell_type": "markdown",
      "metadata": {
        "id": "YN_hHsV6d7EQ"
      },
      "source": [
        "**Connectomes Estimation**\n",
        "\n",
        "Connectivity is typically estimated using correlation between time series. Recent studies has shown that partial correlation could give better results. Different estimators can also be used to apply some regularization on the matrix coefficients. \n",
        "\n",
        "Nilearn's ConnectivityMeasure object (in the nilearn.connectome module) provides three types of connectivity matrix: **correlation**, **partial_correlation, and tangent (a method developped in our laboratory)**. \n",
        "\n",
        "\n",
        "**ConnectivityMeasure can also use any covariance estimator shipped by scikit-learn (ShrunkCovariance, GraphLasso). **\n",
        "\n",
        "\n",
        "**To start off, we estimate the connectivity using default parameters. We check that we have one matrix per subject.**"
      ]
    },
    {
      "cell_type": "code",
      "metadata": {
        "colab": {
          "base_uri": "https://localhost:8080/"
        },
        "id": "0mugnoW0lrUe",
        "outputId": "530b8ddc-41b7-4b0f-e327-897fb5e97ced"
      },
      "source": [
        "dir(abide)"
      ],
      "execution_count": 23,
      "outputs": [
        {
          "output_type": "execute_result",
          "data": {
            "text/plain": [
              "['description', 'func_preproc', 'phenotypic', 'rois_aal']"
            ]
          },
          "metadata": {
            "tags": []
          },
          "execution_count": 23
        }
      ]
    },
    {
      "cell_type": "code",
      "metadata": {
        "id": "MjDM1P2Id6YC"
      },
      "source": [
        "from nilearn.connectome import ConnectivityMeasure\n",
        "\n",
        "conn_est = ConnectivityMeasure(kind='partial correlation')\n",
        "conn_matrices = conn_est.fit_transform(abide['rois_aal'])"
      ],
      "execution_count": 24,
      "outputs": []
    },
    {
      "cell_type": "code",
      "metadata": {
        "colab": {
          "base_uri": "https://localhost:8080/",
          "height": 298
        },
        "id": "NvXtP0dieVH5",
        "outputId": "a977b349-5692-47fb-eec3-13da44139864"
      },
      "source": [
        "plt.imshow(conn_matrices[0], vmax=.20, vmin=-.20, cmap='RdBu_r')\n",
        "plt.colorbar()\n",
        "plt.title('Connectivity matrix of subject 0')"
      ],
      "execution_count": 25,
      "outputs": [
        {
          "output_type": "execute_result",
          "data": {
            "text/plain": [
              "Text(0.5, 1.0, 'Connectivity matrix of subject 0')"
            ]
          },
          "metadata": {
            "tags": []
          },
          "execution_count": 25
        },
        {
          "output_type": "display_data",
          "data": {
            "image/png": "[encoded data removed]",
            "text/plain": [
              "<Figure size 432x288 with 2 Axes>"
            ]
          },
          "metadata": {
            "tags": [],
            "needs_background": "light"
          }
        }
      ]
    },
    {
      "cell_type": "markdown",
      "metadata": {
        "id": "vqfOjosmeeXh"
      },
      "source": [
        "**Extracting useful coefficients**\n",
        "\n",
        "Connecitivity matrices are symmetric. As such, half of the coefficients are redundant. \n",
        "\n",
        "They can even impact the results of some predictors. \n",
        "\n",
        "In order to \"extract\" these coefficients, we want to use a mask. numpy.tril function can help us with this task. \n",
        "However, using masking is hazardous without a good knowledge of numpy. \n",
        "\n",
        "**Fortunately, nilearn provides a function to do this automatically and efficiently: nilearn.connectome.sym_to_vec.**"
      ]
    },
    {
      "cell_type": "code",
      "metadata": {
        "colab": {
          "base_uri": "https://localhost:8080/"
        },
        "id": "Dn79xmFjeW5Z",
        "outputId": "e266efa3-f4bb-40b8-ceb8-8486158bb7ae"
      },
      "source": [
        "from nilearn.connectome import sym_to_vec\n",
        "X = sym_to_vec(conn_matrices)\n",
        "X.shape"
      ],
      "execution_count": 26,
      "outputs": [
        {
          "output_type": "stream",
          "text": [
            "/usr/local/lib/python3.6/dist-packages/sklearn/utils/deprecation.py:87: FutureWarning: Function sym_to_vec is deprecated; Function 'sym_to_vec' has been renamed to 'sym_matrix_to_vec' and will be removed in 0.8\n",
            "  warnings.warn(msg, category=FutureWarning)\n"
          ],
          "name": "stderr"
        },
        {
          "output_type": "execute_result",
          "data": {
            "text/plain": [
              "(172, 6786)"
            ]
          },
          "metadata": {
            "tags": []
          },
          "execution_count": 26
        }
      ]
    },
    {
      "cell_type": "markdown",
      "metadata": {
        "id": "emD2OYXBeuYA"
      },
      "source": [
        "**Setting up cross-validation**\n",
        "\n",
        "Getting reliable prediction results require to predict on unseen data. \n",
        "\n",
        "Cross-validation consists in leaving out a part of the dataset (testing set) to validate the model learnt on the remaining of the dataset (training set). \n",
        "\n",
        "Scikit-learn has all the utils necessary to do automatic cross-validation. \n",
        "\n",
        "\n",
        "In the case of ABIDE, we have a very heterogenous dataset and we want the sets to be balanced in term of acquisition sites and condition. We use a stratified cross-validation method for that."
      ]
    },
    {
      "cell_type": "code",
      "metadata": {
        "id": "v_gH4_FCeptY"
      },
      "source": [
        "from sklearn.model_selection import StratifiedShuffleSplit\n",
        "\n",
        "ids = []\n",
        "for site_id, dx in abide.phenotypic[['SITE_ID', 'DX_GROUP']]:\n",
        "    ids.append(str(site_id) + str(dx))\n",
        "cv = StratifiedShuffleSplit(ids, test_size=.2)"
      ],
      "execution_count": 29,
      "outputs": []
    },
    {
      "cell_type": "markdown",
      "metadata": {
        "id": "bsZF2bR8fAUQ"
      },
      "source": [
        "**Prediction using Support Vector Classifier**\n",
        "\n",
        "**Now that we have shown how to estimate a connectome and extract the interesting coefficients, we will see how to use them to diagnose ASD vs healthy individuals.** \n",
        "**bold text**\n",
        "For that purpose, we use a Support Vector Machine. This is one of the most simple classifiers. We use the default parameters in a first time and look at classification scores."
      ]
    },
    {
      "cell_type": "code",
      "metadata": {
        "colab": {
          "base_uri": "https://localhost:8080/",
          "height": 421
        },
        "id": "UCc1ZYzPe614",
        "outputId": "182272e7-8385-4b03-e083-e0b285c2ff7f"
      },
      "source": [
        "from sklearn.svm import LinearSVC\n",
        "from sklearn.model_selection import cross_val_score\n",
        "import numpy as np\n",
        "\n",
        "\n",
        "# DX_GROUP are the labels of the ABIDE dataset. 1=ASD, 2=Healthy\n",
        "y = abide.phenotypic['DX_GROUP']\n",
        "predictor = LinearSVC(C=0.01)\n",
        "np.mean(cross_val_score(predictor, X, y, cv=cv))"
      ],
      "execution_count": 31,
      "outputs": [
        {
          "output_type": "error",
          "ename": "TypeError",
          "evalue": "ignored",
          "traceback": [
            "\u001b[0;31m---------------------------------------------------------------------------\u001b[0m",
            "\u001b[0;31mEmpty\u001b[0m                                     Traceback (most recent call last)",
            "\u001b[0;32m/usr/local/lib/python3.6/dist-packages/joblib/parallel.py\u001b[0m in \u001b[0;36mdispatch_one_batch\u001b[0;34m(self, iterator)\u001b[0m\n\u001b[1;32m    826\u001b[0m             \u001b[0;32mtry\u001b[0m\u001b[0;34m:\u001b[0m\u001b[0;34m\u001b[0m\u001b[0;34m\u001b[0m\u001b[0m\n\u001b[0;32m--> 827\u001b[0;31m                 \u001b[0mtasks\u001b[0m \u001b[0;34m=\u001b[0m \u001b[0mself\u001b[0m\u001b[0;34m.\u001b[0m\u001b[0m_ready_batches\u001b[0m\u001b[0;34m.\u001b[0m\u001b[0mget\u001b[0m\u001b[0;34m(\u001b[0m\u001b[0mblock\u001b[0m\u001b[0;34m=\u001b[0m\u001b[0;32mFalse\u001b[0m\u001b[0;34m)\u001b[0m\u001b[0;34m\u001b[0m\u001b[0;34m\u001b[0m\u001b[0m\n\u001b[0m\u001b[1;32m    828\u001b[0m             \u001b[0;32mexcept\u001b[0m \u001b[0mqueue\u001b[0m\u001b[0;34m.\u001b[0m\u001b[0mEmpty\u001b[0m\u001b[0;34m:\u001b[0m\u001b[0;34m\u001b[0m\u001b[0;34m\u001b[0m\u001b[0m\n",
            "\u001b[0;32m/usr/lib/python3.6/queue.py\u001b[0m in \u001b[0;36mget\u001b[0;34m(self, block, timeout)\u001b[0m\n\u001b[1;32m    160\u001b[0m                 \u001b[0;32mif\u001b[0m \u001b[0;32mnot\u001b[0m \u001b[0mself\u001b[0m\u001b[0;34m.\u001b[0m\u001b[0m_qsize\u001b[0m\u001b[0;34m(\u001b[0m\u001b[0;34m)\u001b[0m\u001b[0;34m:\u001b[0m\u001b[0;34m\u001b[0m\u001b[0;34m\u001b[0m\u001b[0m\n\u001b[0;32m--> 161\u001b[0;31m                     \u001b[0;32mraise\u001b[0m \u001b[0mEmpty\u001b[0m\u001b[0;34m\u001b[0m\u001b[0;34m\u001b[0m\u001b[0m\n\u001b[0m\u001b[1;32m    162\u001b[0m             \u001b[0;32melif\u001b[0m \u001b[0mtimeout\u001b[0m \u001b[0;32mis\u001b[0m \u001b[0;32mNone\u001b[0m\u001b[0;34m:\u001b[0m\u001b[0;34m\u001b[0m\u001b[0;34m\u001b[0m\u001b[0m\n",
            "\u001b[0;31mEmpty\u001b[0m: ",
            "\nDuring handling of the above exception, another exception occurred:\n",
            "\u001b[0;31mTypeError\u001b[0m                                 Traceback (most recent call last)",
            "\u001b[0;32m<ipython-input-31-19e7fc7ab218>\u001b[0m in \u001b[0;36m<module>\u001b[0;34m()\u001b[0m\n\u001b[1;32m      7\u001b[0m \u001b[0my\u001b[0m \u001b[0;34m=\u001b[0m \u001b[0mabide\u001b[0m\u001b[0;34m.\u001b[0m\u001b[0mphenotypic\u001b[0m\u001b[0;34m[\u001b[0m\u001b[0;34m'DX_GROUP'\u001b[0m\u001b[0;34m]\u001b[0m\u001b[0;34m\u001b[0m\u001b[0;34m\u001b[0m\u001b[0m\n\u001b[1;32m      8\u001b[0m \u001b[0mpredictor\u001b[0m \u001b[0;34m=\u001b[0m \u001b[0mLinearSVC\u001b[0m\u001b[0;34m(\u001b[0m\u001b[0mC\u001b[0m\u001b[0;34m=\u001b[0m\u001b[0;36m0.01\u001b[0m\u001b[0;34m)\u001b[0m\u001b[0;34m\u001b[0m\u001b[0;34m\u001b[0m\u001b[0m\n\u001b[0;32m----> 9\u001b[0;31m \u001b[0mnp\u001b[0m\u001b[0;34m.\u001b[0m\u001b[0mmean\u001b[0m\u001b[0;34m(\u001b[0m\u001b[0mcross_val_score\u001b[0m\u001b[0;34m(\u001b[0m\u001b[0mpredictor\u001b[0m\u001b[0;34m,\u001b[0m \u001b[0mX\u001b[0m\u001b[0;34m,\u001b[0m \u001b[0my\u001b[0m\u001b[0;34m,\u001b[0m \u001b[0mcv\u001b[0m\u001b[0;34m=\u001b[0m\u001b[0mcv\u001b[0m\u001b[0;34m)\u001b[0m\u001b[0;34m)\u001b[0m\u001b[0;34m\u001b[0m\u001b[0;34m\u001b[0m\u001b[0m\n\u001b[0m",
            "\u001b[0;32m/usr/local/lib/python3.6/dist-packages/sklearn/model_selection/_validation.py\u001b[0m in \u001b[0;36mcross_val_score\u001b[0;34m(estimator, X, y, groups, scoring, cv, n_jobs, verbose, fit_params, pre_dispatch, error_score)\u001b[0m\n\u001b[1;32m    388\u001b[0m                                 \u001b[0mfit_params\u001b[0m\u001b[0;34m=\u001b[0m\u001b[0mfit_params\u001b[0m\u001b[0;34m,\u001b[0m\u001b[0;34m\u001b[0m\u001b[0;34m\u001b[0m\u001b[0m\n\u001b[1;32m    389\u001b[0m                                 \u001b[0mpre_dispatch\u001b[0m\u001b[0;34m=\u001b[0m\u001b[0mpre_dispatch\u001b[0m\u001b[0;34m,\u001b[0m\u001b[0;34m\u001b[0m\u001b[0;34m\u001b[0m\u001b[0m\n\u001b[0;32m--> 390\u001b[0;31m                                 error_score=error_score)\n\u001b[0m\u001b[1;32m    391\u001b[0m     \u001b[0;32mreturn\u001b[0m \u001b[0mcv_results\u001b[0m\u001b[0;34m[\u001b[0m\u001b[0;34m'test_score'\u001b[0m\u001b[0;34m]\u001b[0m\u001b[0;34m\u001b[0m\u001b[0;34m\u001b[0m\u001b[0m\n\u001b[1;32m    392\u001b[0m \u001b[0;34m\u001b[0m\u001b[0m\n",
            "\u001b[0;32m/usr/local/lib/python3.6/dist-packages/sklearn/model_selection/_validation.py\u001b[0m in \u001b[0;36mcross_validate\u001b[0;34m(estimator, X, y, groups, scoring, cv, n_jobs, verbose, fit_params, pre_dispatch, return_train_score, return_estimator, error_score)\u001b[0m\n\u001b[1;32m    234\u001b[0m             \u001b[0mreturn_times\u001b[0m\u001b[0;34m=\u001b[0m\u001b[0;32mTrue\u001b[0m\u001b[0;34m,\u001b[0m \u001b[0mreturn_estimator\u001b[0m\u001b[0;34m=\u001b[0m\u001b[0mreturn_estimator\u001b[0m\u001b[0;34m,\u001b[0m\u001b[0;34m\u001b[0m\u001b[0;34m\u001b[0m\u001b[0m\n\u001b[1;32m    235\u001b[0m             error_score=error_score)\n\u001b[0;32m--> 236\u001b[0;31m         for train, test in cv.split(X, y, groups))\n\u001b[0m\u001b[1;32m    237\u001b[0m \u001b[0;34m\u001b[0m\u001b[0m\n\u001b[1;32m    238\u001b[0m     \u001b[0mzipped_scores\u001b[0m \u001b[0;34m=\u001b[0m \u001b[0mlist\u001b[0m\u001b[0;34m(\u001b[0m\u001b[0mzip\u001b[0m\u001b[0;34m(\u001b[0m\u001b[0;34m*\u001b[0m\u001b[0mscores\u001b[0m\u001b[0;34m)\u001b[0m\u001b[0;34m)\u001b[0m\u001b[0;34m\u001b[0m\u001b[0;34m\u001b[0m\u001b[0m\n",
            "\u001b[0;32m/usr/local/lib/python3.6/dist-packages/joblib/parallel.py\u001b[0m in \u001b[0;36m__call__\u001b[0;34m(self, iterable)\u001b[0m\n\u001b[1;32m   1046\u001b[0m             \u001b[0;31m# remaining jobs.\u001b[0m\u001b[0;34m\u001b[0m\u001b[0;34m\u001b[0m\u001b[0;34m\u001b[0m\u001b[0m\n\u001b[1;32m   1047\u001b[0m             \u001b[0mself\u001b[0m\u001b[0;34m.\u001b[0m\u001b[0m_iterating\u001b[0m \u001b[0;34m=\u001b[0m \u001b[0;32mFalse\u001b[0m\u001b[0;34m\u001b[0m\u001b[0;34m\u001b[0m\u001b[0m\n\u001b[0;32m-> 1048\u001b[0;31m             \u001b[0;32mif\u001b[0m \u001b[0mself\u001b[0m\u001b[0;34m.\u001b[0m\u001b[0mdispatch_one_batch\u001b[0m\u001b[0;34m(\u001b[0m\u001b[0miterator\u001b[0m\u001b[0;34m)\u001b[0m\u001b[0;34m:\u001b[0m\u001b[0;34m\u001b[0m\u001b[0;34m\u001b[0m\u001b[0m\n\u001b[0m\u001b[1;32m   1049\u001b[0m                 \u001b[0mself\u001b[0m\u001b[0;34m.\u001b[0m\u001b[0m_iterating\u001b[0m \u001b[0;34m=\u001b[0m \u001b[0mself\u001b[0m\u001b[0;34m.\u001b[0m\u001b[0m_original_iterator\u001b[0m \u001b[0;32mis\u001b[0m \u001b[0;32mnot\u001b[0m \u001b[0;32mNone\u001b[0m\u001b[0;34m\u001b[0m\u001b[0;34m\u001b[0m\u001b[0m\n\u001b[1;32m   1050\u001b[0m \u001b[0;34m\u001b[0m\u001b[0m\n",
            "\u001b[0;32m/usr/local/lib/python3.6/dist-packages/joblib/parallel.py\u001b[0m in \u001b[0;36mdispatch_one_batch\u001b[0;34m(self, iterator)\u001b[0m\n\u001b[1;32m    836\u001b[0m                 \u001b[0mbig_batch_size\u001b[0m \u001b[0;34m=\u001b[0m \u001b[0mbatch_size\u001b[0m \u001b[0;34m*\u001b[0m \u001b[0mn_jobs\u001b[0m\u001b[0;34m\u001b[0m\u001b[0;34m\u001b[0m\u001b[0m\n\u001b[1;32m    837\u001b[0m \u001b[0;34m\u001b[0m\u001b[0m\n\u001b[0;32m--> 838\u001b[0;31m                 \u001b[0mislice\u001b[0m \u001b[0;34m=\u001b[0m \u001b[0mlist\u001b[0m\u001b[0;34m(\u001b[0m\u001b[0mitertools\u001b[0m\u001b[0;34m.\u001b[0m\u001b[0mislice\u001b[0m\u001b[0;34m(\u001b[0m\u001b[0miterator\u001b[0m\u001b[0;34m,\u001b[0m \u001b[0mbig_batch_size\u001b[0m\u001b[0;34m)\u001b[0m\u001b[0;34m)\u001b[0m\u001b[0;34m\u001b[0m\u001b[0;34m\u001b[0m\u001b[0m\n\u001b[0m\u001b[1;32m    839\u001b[0m                 \u001b[0;32mif\u001b[0m \u001b[0mlen\u001b[0m\u001b[0;34m(\u001b[0m\u001b[0mislice\u001b[0m\u001b[0;34m)\u001b[0m \u001b[0;34m==\u001b[0m \u001b[0;36m0\u001b[0m\u001b[0;34m:\u001b[0m\u001b[0;34m\u001b[0m\u001b[0;34m\u001b[0m\u001b[0m\n\u001b[1;32m    840\u001b[0m                     \u001b[0;32mreturn\u001b[0m \u001b[0;32mFalse\u001b[0m\u001b[0;34m\u001b[0m\u001b[0;34m\u001b[0m\u001b[0m\n",
            "\u001b[0;32m/usr/local/lib/python3.6/dist-packages/sklearn/model_selection/_validation.py\u001b[0m in \u001b[0;36m<genexpr>\u001b[0;34m(.0)\u001b[0m\n\u001b[1;32m    229\u001b[0m                         pre_dispatch=pre_dispatch)\n\u001b[1;32m    230\u001b[0m     scores = parallel(\n\u001b[0;32m--> 231\u001b[0;31m         delayed(_fit_and_score)(\n\u001b[0m\u001b[1;32m    232\u001b[0m             \u001b[0mclone\u001b[0m\u001b[0;34m(\u001b[0m\u001b[0mestimator\u001b[0m\u001b[0;34m)\u001b[0m\u001b[0;34m,\u001b[0m \u001b[0mX\u001b[0m\u001b[0;34m,\u001b[0m \u001b[0my\u001b[0m\u001b[0;34m,\u001b[0m \u001b[0mscorers\u001b[0m\u001b[0;34m,\u001b[0m \u001b[0mtrain\u001b[0m\u001b[0;34m,\u001b[0m \u001b[0mtest\u001b[0m\u001b[0;34m,\u001b[0m \u001b[0mverbose\u001b[0m\u001b[0;34m,\u001b[0m \u001b[0;32mNone\u001b[0m\u001b[0;34m,\u001b[0m\u001b[0;34m\u001b[0m\u001b[0;34m\u001b[0m\u001b[0m\n\u001b[1;32m    233\u001b[0m             \u001b[0mfit_params\u001b[0m\u001b[0;34m,\u001b[0m \u001b[0mreturn_train_score\u001b[0m\u001b[0;34m=\u001b[0m\u001b[0mreturn_train_score\u001b[0m\u001b[0;34m,\u001b[0m\u001b[0;34m\u001b[0m\u001b[0;34m\u001b[0m\u001b[0m\n",
            "\u001b[0;32m/usr/local/lib/python3.6/dist-packages/sklearn/model_selection/_split.py\u001b[0m in \u001b[0;36msplit\u001b[0;34m(self, X, y, groups)\u001b[0m\n\u001b[1;32m   1327\u001b[0m         \"\"\"\n\u001b[1;32m   1328\u001b[0m         \u001b[0mX\u001b[0m\u001b[0;34m,\u001b[0m \u001b[0my\u001b[0m\u001b[0;34m,\u001b[0m \u001b[0mgroups\u001b[0m \u001b[0;34m=\u001b[0m \u001b[0mindexable\u001b[0m\u001b[0;34m(\u001b[0m\u001b[0mX\u001b[0m\u001b[0;34m,\u001b[0m \u001b[0my\u001b[0m\u001b[0;34m,\u001b[0m \u001b[0mgroups\u001b[0m\u001b[0;34m)\u001b[0m\u001b[0;34m\u001b[0m\u001b[0;34m\u001b[0m\u001b[0m\n\u001b[0;32m-> 1329\u001b[0;31m         \u001b[0;32mfor\u001b[0m \u001b[0mtrain\u001b[0m\u001b[0;34m,\u001b[0m \u001b[0mtest\u001b[0m \u001b[0;32min\u001b[0m \u001b[0mself\u001b[0m\u001b[0;34m.\u001b[0m\u001b[0m_iter_indices\u001b[0m\u001b[0;34m(\u001b[0m\u001b[0mX\u001b[0m\u001b[0;34m,\u001b[0m \u001b[0my\u001b[0m\u001b[0;34m,\u001b[0m \u001b[0mgroups\u001b[0m\u001b[0;34m)\u001b[0m\u001b[0;34m:\u001b[0m\u001b[0;34m\u001b[0m\u001b[0;34m\u001b[0m\u001b[0m\n\u001b[0m\u001b[1;32m   1330\u001b[0m             \u001b[0;32myield\u001b[0m \u001b[0mtrain\u001b[0m\u001b[0;34m,\u001b[0m \u001b[0mtest\u001b[0m\u001b[0;34m\u001b[0m\u001b[0;34m\u001b[0m\u001b[0m\n\u001b[1;32m   1331\u001b[0m \u001b[0;34m\u001b[0m\u001b[0m\n",
            "\u001b[0;32m/usr/local/lib/python3.6/dist-packages/sklearn/model_selection/_split.py\u001b[0m in \u001b[0;36m_iter_indices\u001b[0;34m(self, X, y, groups)\u001b[0m\n\u001b[1;32m   1678\u001b[0m         \u001b[0mrng\u001b[0m \u001b[0;34m=\u001b[0m \u001b[0mcheck_random_state\u001b[0m\u001b[0;34m(\u001b[0m\u001b[0mself\u001b[0m\u001b[0;34m.\u001b[0m\u001b[0mrandom_state\u001b[0m\u001b[0;34m)\u001b[0m\u001b[0;34m\u001b[0m\u001b[0;34m\u001b[0m\u001b[0m\n\u001b[1;32m   1679\u001b[0m \u001b[0;34m\u001b[0m\u001b[0m\n\u001b[0;32m-> 1680\u001b[0;31m         \u001b[0;32mfor\u001b[0m \u001b[0m_\u001b[0m \u001b[0;32min\u001b[0m \u001b[0mrange\u001b[0m\u001b[0;34m(\u001b[0m\u001b[0mself\u001b[0m\u001b[0;34m.\u001b[0m\u001b[0mn_splits\u001b[0m\u001b[0;34m)\u001b[0m\u001b[0;34m:\u001b[0m\u001b[0;34m\u001b[0m\u001b[0;34m\u001b[0m\u001b[0m\n\u001b[0m\u001b[1;32m   1681\u001b[0m             \u001b[0;31m# if there are ties in the class-counts, we want\u001b[0m\u001b[0;34m\u001b[0m\u001b[0;34m\u001b[0m\u001b[0;34m\u001b[0m\u001b[0m\n\u001b[1;32m   1682\u001b[0m             \u001b[0;31m# to make sure to break them anew in each iteration\u001b[0m\u001b[0;34m\u001b[0m\u001b[0;34m\u001b[0m\u001b[0;34m\u001b[0m\u001b[0m\n",
            "\u001b[0;31mTypeError\u001b[0m: 'list' object cannot be interpreted as an integer"
          ]
        }
      ]
    },
    {
      "cell_type": "markdown",
      "metadata": {
        "id": "8-OTfQbKfOUA"
      },
      "source": [
        "**Exploring other methods and parameters**\n",
        "\n",
        "So far, we built a basic prediction procedure without tuning the parameters. Now we use for loops to explore several options. \n",
        "\n",
        "Note that the imbrication of the steps allow us to re-use connectivity matrix computed in the first loop for the different predictors. The same result can be achieved using nilearn's caching capacities."
      ]
    },
    {
      "cell_type": "code",
      "metadata": {
        "id": "HPggCaW_fILK"
      },
      "source": [
        "from sklearn.linear_model import RidgeClassifier\n",
        "\n",
        "\n",
        "measures = ['correlation', 'partial correlation', 'tangent']\n",
        "predictors = [\n",
        "    ('svc_l2', LinearSVC(C=1)),\n",
        "    ('svc_l1', LinearSVC(C=1, penalty='l1', dual=False)),\n",
        "    ('ridge_classifier', RidgeClassifier()),\n",
        "]\n",
        "\n",
        "for measure in measures:\n",
        "    conn_est = ConnectivityMeasure(kind=measure)\n",
        "    conn_matrices = conn_est.fit_transform(abide.rois_cc200)\n",
        "    X = sym_to_vec(conn_matrices)\n",
        "    for name, predictor in predictors:\n",
        "        print(measure, name, np.mean(cross_val_score(predictor, X, y, cv=cv)))"
      ],
      "execution_count": null,
      "outputs": []
    },
    {
      "cell_type": "code",
      "metadata": {
        "id": "77S6kWL5HUT5"
      },
      "source": [
        ""
      ],
      "execution_count": null,
      "outputs": []
    },
    {
      "cell_type": "code",
      "metadata": {
        "id": "Sbs80QJyHUWx"
      },
      "source": [
        "# other atlas functions for mask lets asay power_2011"
      ],
      "execution_count": null,
      "outputs": []
    },
    {
      "cell_type": "code",
      "metadata": {
        "id": "KJjbiE9hHHfz"
      },
      "source": [
        "import numpy as np\n",
        "import matplotlib.pyplot as plt\n",
        "from nilearn import datasets, connectome, plotting, input_data\n",
        "from inverse_covariance import QuicGraphLasso\n",
        "\n",
        "# Fetch the coordinates of power atlas, ROI labels not available.\n",
        "power = datasets.fetch_coords_power_2011()\n",
        "coords = np.vstack((\n",
        "    power.rois['x'],\n",
        "    power.rois['y'],\n",
        "    power.rois['z'],\n",
        ")).T"
      ],
      "execution_count": null,
      "outputs": []
    },
    {
      "cell_type": "code",
      "metadata": {
        "id": "pUx97F7SHQmp"
      },
      "source": [
        "# Loading the functional datasets\n",
        "abide = datasets.fetch_abide_pcp(n_subjects=1)\n",
        "abide.func = abide.func_preproc\n",
        "\n",
        "# print basic information on the dataset\n",
        "print('First subject functional nifti images (4D) are at: %s' %abide.func[0])  # 4D data\n",
        "\n",
        "      \n",
        "# Masking: taking the signal in a sphere of radius 5mm around Power coords\n",
        "masker = input_data.NiftiSpheresMasker(seeds=coords,\n",
        "                                       smoothing_fwhm=4,\n",
        "                                       radius=5.,\n",
        "                                       standardize=True,\n",
        "                                       detrend=True,\n",
        "                                       low_pass=0.1,\n",
        "                                       high_pass=0.01,\n",
        "                                       t_r=2.5)\n",
        "\n",
        "timeseries = masker.fit_transform(abide.func[0])"
      ],
      "execution_count": null,
      "outputs": []
    }
  ]
}